{
  "nbformat": 4,
  "nbformat_minor": 0,
  "metadata": {
    "colab": {
      "name": "LenetPruning_iterative.ipynb",
      "provenance": [],
      "collapsed_sections": [],
      "authorship_tag": "ABX9TyOV5WPP92xWPt/Cgyj46zOv",
      "include_colab_link": true
    },
    "kernelspec": {
      "name": "python3",
      "display_name": "Python 3"
    },
    "language_info": {
      "name": "python"
    },
    "widgets": {
      "application/vnd.jupyter.widget-state+json": {
        "3c44883eef344fe49b45f83e5845ec75": {
          "model_module": "@jupyter-widgets/controls",
          "model_name": "HBoxModel",
          "model_module_version": "1.5.0",
          "state": {
            "_dom_classes": [],
            "_model_module": "@jupyter-widgets/controls",
            "_model_module_version": "1.5.0",
            "_model_name": "HBoxModel",
            "_view_count": null,
            "_view_module": "@jupyter-widgets/controls",
            "_view_module_version": "1.5.0",
            "_view_name": "HBoxView",
            "box_style": "",
            "children": [
              "IPY_MODEL_91ae922917b5419193255ce0d6699a18",
              "IPY_MODEL_b6c0124488c549e3b5c92fc18c416c1d",
              "IPY_MODEL_080940919d8947dfa1244848b0d7e481"
            ],
            "layout": "IPY_MODEL_c99ea1582bb4490ca55b8b3083426d58"
          }
        },
        "91ae922917b5419193255ce0d6699a18": {
          "model_module": "@jupyter-widgets/controls",
          "model_name": "HTMLModel",
          "model_module_version": "1.5.0",
          "state": {
            "_dom_classes": [],
            "_model_module": "@jupyter-widgets/controls",
            "_model_module_version": "1.5.0",
            "_model_name": "HTMLModel",
            "_view_count": null,
            "_view_module": "@jupyter-widgets/controls",
            "_view_module_version": "1.5.0",
            "_view_name": "HTMLView",
            "description": "",
            "description_tooltip": null,
            "layout": "IPY_MODEL_a0eddf5fe95f477aac3abf08fc6479b5",
            "placeholder": "​",
            "style": "IPY_MODEL_807ab8e7eb9a4aebb5866506196b3966",
            "value": ""
          }
        },
        "b6c0124488c549e3b5c92fc18c416c1d": {
          "model_module": "@jupyter-widgets/controls",
          "model_name": "FloatProgressModel",
          "model_module_version": "1.5.0",
          "state": {
            "_dom_classes": [],
            "_model_module": "@jupyter-widgets/controls",
            "_model_module_version": "1.5.0",
            "_model_name": "FloatProgressModel",
            "_view_count": null,
            "_view_module": "@jupyter-widgets/controls",
            "_view_module_version": "1.5.0",
            "_view_name": "ProgressView",
            "bar_style": "success",
            "description": "",
            "description_tooltip": null,
            "layout": "IPY_MODEL_e07dc426acd04826a6eafcc645957445",
            "max": 9912422,
            "min": 0,
            "orientation": "horizontal",
            "style": "IPY_MODEL_6a982679e7014c209394afbca2a73e91",
            "value": 9912422
          }
        },
        "080940919d8947dfa1244848b0d7e481": {
          "model_module": "@jupyter-widgets/controls",
          "model_name": "HTMLModel",
          "model_module_version": "1.5.0",
          "state": {
            "_dom_classes": [],
            "_model_module": "@jupyter-widgets/controls",
            "_model_module_version": "1.5.0",
            "_model_name": "HTMLModel",
            "_view_count": null,
            "_view_module": "@jupyter-widgets/controls",
            "_view_module_version": "1.5.0",
            "_view_name": "HTMLView",
            "description": "",
            "description_tooltip": null,
            "layout": "IPY_MODEL_ac9730c688b7435b8403ecbf57994d00",
            "placeholder": "​",
            "style": "IPY_MODEL_47c009e0de5a40ee834749c19913e431",
            "value": " 9913344/? [00:00&lt;00:00, 23448001.13it/s]"
          }
        },
        "c99ea1582bb4490ca55b8b3083426d58": {
          "model_module": "@jupyter-widgets/base",
          "model_name": "LayoutModel",
          "model_module_version": "1.2.0",
          "state": {
            "_model_module": "@jupyter-widgets/base",
            "_model_module_version": "1.2.0",
            "_model_name": "LayoutModel",
            "_view_count": null,
            "_view_module": "@jupyter-widgets/base",
            "_view_module_version": "1.2.0",
            "_view_name": "LayoutView",
            "align_content": null,
            "align_items": null,
            "align_self": null,
            "border": null,
            "bottom": null,
            "display": null,
            "flex": null,
            "flex_flow": null,
            "grid_area": null,
            "grid_auto_columns": null,
            "grid_auto_flow": null,
            "grid_auto_rows": null,
            "grid_column": null,
            "grid_gap": null,
            "grid_row": null,
            "grid_template_areas": null,
            "grid_template_columns": null,
            "grid_template_rows": null,
            "height": null,
            "justify_content": null,
            "justify_items": null,
            "left": null,
            "margin": null,
            "max_height": null,
            "max_width": null,
            "min_height": null,
            "min_width": null,
            "object_fit": null,
            "object_position": null,
            "order": null,
            "overflow": null,
            "overflow_x": null,
            "overflow_y": null,
            "padding": null,
            "right": null,
            "top": null,
            "visibility": null,
            "width": null
          }
        },
        "a0eddf5fe95f477aac3abf08fc6479b5": {
          "model_module": "@jupyter-widgets/base",
          "model_name": "LayoutModel",
          "model_module_version": "1.2.0",
          "state": {
            "_model_module": "@jupyter-widgets/base",
            "_model_module_version": "1.2.0",
            "_model_name": "LayoutModel",
            "_view_count": null,
            "_view_module": "@jupyter-widgets/base",
            "_view_module_version": "1.2.0",
            "_view_name": "LayoutView",
            "align_content": null,
            "align_items": null,
            "align_self": null,
            "border": null,
            "bottom": null,
            "display": null,
            "flex": null,
            "flex_flow": null,
            "grid_area": null,
            "grid_auto_columns": null,
            "grid_auto_flow": null,
            "grid_auto_rows": null,
            "grid_column": null,
            "grid_gap": null,
            "grid_row": null,
            "grid_template_areas": null,
            "grid_template_columns": null,
            "grid_template_rows": null,
            "height": null,
            "justify_content": null,
            "justify_items": null,
            "left": null,
            "margin": null,
            "max_height": null,
            "max_width": null,
            "min_height": null,
            "min_width": null,
            "object_fit": null,
            "object_position": null,
            "order": null,
            "overflow": null,
            "overflow_x": null,
            "overflow_y": null,
            "padding": null,
            "right": null,
            "top": null,
            "visibility": null,
            "width": null
          }
        },
        "807ab8e7eb9a4aebb5866506196b3966": {
          "model_module": "@jupyter-widgets/controls",
          "model_name": "DescriptionStyleModel",
          "model_module_version": "1.5.0",
          "state": {
            "_model_module": "@jupyter-widgets/controls",
            "_model_module_version": "1.5.0",
            "_model_name": "DescriptionStyleModel",
            "_view_count": null,
            "_view_module": "@jupyter-widgets/base",
            "_view_module_version": "1.2.0",
            "_view_name": "StyleView",
            "description_width": ""
          }
        },
        "e07dc426acd04826a6eafcc645957445": {
          "model_module": "@jupyter-widgets/base",
          "model_name": "LayoutModel",
          "model_module_version": "1.2.0",
          "state": {
            "_model_module": "@jupyter-widgets/base",
            "_model_module_version": "1.2.0",
            "_model_name": "LayoutModel",
            "_view_count": null,
            "_view_module": "@jupyter-widgets/base",
            "_view_module_version": "1.2.0",
            "_view_name": "LayoutView",
            "align_content": null,
            "align_items": null,
            "align_self": null,
            "border": null,
            "bottom": null,
            "display": null,
            "flex": null,
            "flex_flow": null,
            "grid_area": null,
            "grid_auto_columns": null,
            "grid_auto_flow": null,
            "grid_auto_rows": null,
            "grid_column": null,
            "grid_gap": null,
            "grid_row": null,
            "grid_template_areas": null,
            "grid_template_columns": null,
            "grid_template_rows": null,
            "height": null,
            "justify_content": null,
            "justify_items": null,
            "left": null,
            "margin": null,
            "max_height": null,
            "max_width": null,
            "min_height": null,
            "min_width": null,
            "object_fit": null,
            "object_position": null,
            "order": null,
            "overflow": null,
            "overflow_x": null,
            "overflow_y": null,
            "padding": null,
            "right": null,
            "top": null,
            "visibility": null,
            "width": null
          }
        },
        "6a982679e7014c209394afbca2a73e91": {
          "model_module": "@jupyter-widgets/controls",
          "model_name": "ProgressStyleModel",
          "model_module_version": "1.5.0",
          "state": {
            "_model_module": "@jupyter-widgets/controls",
            "_model_module_version": "1.5.0",
            "_model_name": "ProgressStyleModel",
            "_view_count": null,
            "_view_module": "@jupyter-widgets/base",
            "_view_module_version": "1.2.0",
            "_view_name": "StyleView",
            "bar_color": null,
            "description_width": ""
          }
        },
        "ac9730c688b7435b8403ecbf57994d00": {
          "model_module": "@jupyter-widgets/base",
          "model_name": "LayoutModel",
          "model_module_version": "1.2.0",
          "state": {
            "_model_module": "@jupyter-widgets/base",
            "_model_module_version": "1.2.0",
            "_model_name": "LayoutModel",
            "_view_count": null,
            "_view_module": "@jupyter-widgets/base",
            "_view_module_version": "1.2.0",
            "_view_name": "LayoutView",
            "align_content": null,
            "align_items": null,
            "align_self": null,
            "border": null,
            "bottom": null,
            "display": null,
            "flex": null,
            "flex_flow": null,
            "grid_area": null,
            "grid_auto_columns": null,
            "grid_auto_flow": null,
            "grid_auto_rows": null,
            "grid_column": null,
            "grid_gap": null,
            "grid_row": null,
            "grid_template_areas": null,
            "grid_template_columns": null,
            "grid_template_rows": null,
            "height": null,
            "justify_content": null,
            "justify_items": null,
            "left": null,
            "margin": null,
            "max_height": null,
            "max_width": null,
            "min_height": null,
            "min_width": null,
            "object_fit": null,
            "object_position": null,
            "order": null,
            "overflow": null,
            "overflow_x": null,
            "overflow_y": null,
            "padding": null,
            "right": null,
            "top": null,
            "visibility": null,
            "width": null
          }
        },
        "47c009e0de5a40ee834749c19913e431": {
          "model_module": "@jupyter-widgets/controls",
          "model_name": "DescriptionStyleModel",
          "model_module_version": "1.5.0",
          "state": {
            "_model_module": "@jupyter-widgets/controls",
            "_model_module_version": "1.5.0",
            "_model_name": "DescriptionStyleModel",
            "_view_count": null,
            "_view_module": "@jupyter-widgets/base",
            "_view_module_version": "1.2.0",
            "_view_name": "StyleView",
            "description_width": ""
          }
        },
        "9374337aabbb4fc889c50a424a6c1b72": {
          "model_module": "@jupyter-widgets/controls",
          "model_name": "HBoxModel",
          "model_module_version": "1.5.0",
          "state": {
            "_dom_classes": [],
            "_model_module": "@jupyter-widgets/controls",
            "_model_module_version": "1.5.0",
            "_model_name": "HBoxModel",
            "_view_count": null,
            "_view_module": "@jupyter-widgets/controls",
            "_view_module_version": "1.5.0",
            "_view_name": "HBoxView",
            "box_style": "",
            "children": [
              "IPY_MODEL_778787be2b2b467dac26ba1c91d50799",
              "IPY_MODEL_3a379d87dfe24365aa97ba4b6e6f6ea4",
              "IPY_MODEL_7a6e69689cfc4b908c63c5c8973334fa"
            ],
            "layout": "IPY_MODEL_e1b5c6be1ad242479c877e34d11a029e"
          }
        },
        "778787be2b2b467dac26ba1c91d50799": {
          "model_module": "@jupyter-widgets/controls",
          "model_name": "HTMLModel",
          "model_module_version": "1.5.0",
          "state": {
            "_dom_classes": [],
            "_model_module": "@jupyter-widgets/controls",
            "_model_module_version": "1.5.0",
            "_model_name": "HTMLModel",
            "_view_count": null,
            "_view_module": "@jupyter-widgets/controls",
            "_view_module_version": "1.5.0",
            "_view_name": "HTMLView",
            "description": "",
            "description_tooltip": null,
            "layout": "IPY_MODEL_c74008cd3b3d4c0e8c1a2a9f407fab71",
            "placeholder": "​",
            "style": "IPY_MODEL_5e584c729bb646e8954491404918f844",
            "value": ""
          }
        },
        "3a379d87dfe24365aa97ba4b6e6f6ea4": {
          "model_module": "@jupyter-widgets/controls",
          "model_name": "FloatProgressModel",
          "model_module_version": "1.5.0",
          "state": {
            "_dom_classes": [],
            "_model_module": "@jupyter-widgets/controls",
            "_model_module_version": "1.5.0",
            "_model_name": "FloatProgressModel",
            "_view_count": null,
            "_view_module": "@jupyter-widgets/controls",
            "_view_module_version": "1.5.0",
            "_view_name": "ProgressView",
            "bar_style": "success",
            "description": "",
            "description_tooltip": null,
            "layout": "IPY_MODEL_3155224aae2447ba90f578b24568b1fe",
            "max": 28881,
            "min": 0,
            "orientation": "horizontal",
            "style": "IPY_MODEL_b1bb656e98c34b46bec2d65dfc7a541d",
            "value": 28881
          }
        },
        "7a6e69689cfc4b908c63c5c8973334fa": {
          "model_module": "@jupyter-widgets/controls",
          "model_name": "HTMLModel",
          "model_module_version": "1.5.0",
          "state": {
            "_dom_classes": [],
            "_model_module": "@jupyter-widgets/controls",
            "_model_module_version": "1.5.0",
            "_model_name": "HTMLModel",
            "_view_count": null,
            "_view_module": "@jupyter-widgets/controls",
            "_view_module_version": "1.5.0",
            "_view_name": "HTMLView",
            "description": "",
            "description_tooltip": null,
            "layout": "IPY_MODEL_3428b97028c4411ebb014e5714b8f4d0",
            "placeholder": "​",
            "style": "IPY_MODEL_4572cd21f12a4c57b1f271e3e5d3d96a",
            "value": " 29696/? [00:00&lt;00:00, 607003.35it/s]"
          }
        },
        "e1b5c6be1ad242479c877e34d11a029e": {
          "model_module": "@jupyter-widgets/base",
          "model_name": "LayoutModel",
          "model_module_version": "1.2.0",
          "state": {
            "_model_module": "@jupyter-widgets/base",
            "_model_module_version": "1.2.0",
            "_model_name": "LayoutModel",
            "_view_count": null,
            "_view_module": "@jupyter-widgets/base",
            "_view_module_version": "1.2.0",
            "_view_name": "LayoutView",
            "align_content": null,
            "align_items": null,
            "align_self": null,
            "border": null,
            "bottom": null,
            "display": null,
            "flex": null,
            "flex_flow": null,
            "grid_area": null,
            "grid_auto_columns": null,
            "grid_auto_flow": null,
            "grid_auto_rows": null,
            "grid_column": null,
            "grid_gap": null,
            "grid_row": null,
            "grid_template_areas": null,
            "grid_template_columns": null,
            "grid_template_rows": null,
            "height": null,
            "justify_content": null,
            "justify_items": null,
            "left": null,
            "margin": null,
            "max_height": null,
            "max_width": null,
            "min_height": null,
            "min_width": null,
            "object_fit": null,
            "object_position": null,
            "order": null,
            "overflow": null,
            "overflow_x": null,
            "overflow_y": null,
            "padding": null,
            "right": null,
            "top": null,
            "visibility": null,
            "width": null
          }
        },
        "c74008cd3b3d4c0e8c1a2a9f407fab71": {
          "model_module": "@jupyter-widgets/base",
          "model_name": "LayoutModel",
          "model_module_version": "1.2.0",
          "state": {
            "_model_module": "@jupyter-widgets/base",
            "_model_module_version": "1.2.0",
            "_model_name": "LayoutModel",
            "_view_count": null,
            "_view_module": "@jupyter-widgets/base",
            "_view_module_version": "1.2.0",
            "_view_name": "LayoutView",
            "align_content": null,
            "align_items": null,
            "align_self": null,
            "border": null,
            "bottom": null,
            "display": null,
            "flex": null,
            "flex_flow": null,
            "grid_area": null,
            "grid_auto_columns": null,
            "grid_auto_flow": null,
            "grid_auto_rows": null,
            "grid_column": null,
            "grid_gap": null,
            "grid_row": null,
            "grid_template_areas": null,
            "grid_template_columns": null,
            "grid_template_rows": null,
            "height": null,
            "justify_content": null,
            "justify_items": null,
            "left": null,
            "margin": null,
            "max_height": null,
            "max_width": null,
            "min_height": null,
            "min_width": null,
            "object_fit": null,
            "object_position": null,
            "order": null,
            "overflow": null,
            "overflow_x": null,
            "overflow_y": null,
            "padding": null,
            "right": null,
            "top": null,
            "visibility": null,
            "width": null
          }
        },
        "5e584c729bb646e8954491404918f844": {
          "model_module": "@jupyter-widgets/controls",
          "model_name": "DescriptionStyleModel",
          "model_module_version": "1.5.0",
          "state": {
            "_model_module": "@jupyter-widgets/controls",
            "_model_module_version": "1.5.0",
            "_model_name": "DescriptionStyleModel",
            "_view_count": null,
            "_view_module": "@jupyter-widgets/base",
            "_view_module_version": "1.2.0",
            "_view_name": "StyleView",
            "description_width": ""
          }
        },
        "3155224aae2447ba90f578b24568b1fe": {
          "model_module": "@jupyter-widgets/base",
          "model_name": "LayoutModel",
          "model_module_version": "1.2.0",
          "state": {
            "_model_module": "@jupyter-widgets/base",
            "_model_module_version": "1.2.0",
            "_model_name": "LayoutModel",
            "_view_count": null,
            "_view_module": "@jupyter-widgets/base",
            "_view_module_version": "1.2.0",
            "_view_name": "LayoutView",
            "align_content": null,
            "align_items": null,
            "align_self": null,
            "border": null,
            "bottom": null,
            "display": null,
            "flex": null,
            "flex_flow": null,
            "grid_area": null,
            "grid_auto_columns": null,
            "grid_auto_flow": null,
            "grid_auto_rows": null,
            "grid_column": null,
            "grid_gap": null,
            "grid_row": null,
            "grid_template_areas": null,
            "grid_template_columns": null,
            "grid_template_rows": null,
            "height": null,
            "justify_content": null,
            "justify_items": null,
            "left": null,
            "margin": null,
            "max_height": null,
            "max_width": null,
            "min_height": null,
            "min_width": null,
            "object_fit": null,
            "object_position": null,
            "order": null,
            "overflow": null,
            "overflow_x": null,
            "overflow_y": null,
            "padding": null,
            "right": null,
            "top": null,
            "visibility": null,
            "width": null
          }
        },
        "b1bb656e98c34b46bec2d65dfc7a541d": {
          "model_module": "@jupyter-widgets/controls",
          "model_name": "ProgressStyleModel",
          "model_module_version": "1.5.0",
          "state": {
            "_model_module": "@jupyter-widgets/controls",
            "_model_module_version": "1.5.0",
            "_model_name": "ProgressStyleModel",
            "_view_count": null,
            "_view_module": "@jupyter-widgets/base",
            "_view_module_version": "1.2.0",
            "_view_name": "StyleView",
            "bar_color": null,
            "description_width": ""
          }
        },
        "3428b97028c4411ebb014e5714b8f4d0": {
          "model_module": "@jupyter-widgets/base",
          "model_name": "LayoutModel",
          "model_module_version": "1.2.0",
          "state": {
            "_model_module": "@jupyter-widgets/base",
            "_model_module_version": "1.2.0",
            "_model_name": "LayoutModel",
            "_view_count": null,
            "_view_module": "@jupyter-widgets/base",
            "_view_module_version": "1.2.0",
            "_view_name": "LayoutView",
            "align_content": null,
            "align_items": null,
            "align_self": null,
            "border": null,
            "bottom": null,
            "display": null,
            "flex": null,
            "flex_flow": null,
            "grid_area": null,
            "grid_auto_columns": null,
            "grid_auto_flow": null,
            "grid_auto_rows": null,
            "grid_column": null,
            "grid_gap": null,
            "grid_row": null,
            "grid_template_areas": null,
            "grid_template_columns": null,
            "grid_template_rows": null,
            "height": null,
            "justify_content": null,
            "justify_items": null,
            "left": null,
            "margin": null,
            "max_height": null,
            "max_width": null,
            "min_height": null,
            "min_width": null,
            "object_fit": null,
            "object_position": null,
            "order": null,
            "overflow": null,
            "overflow_x": null,
            "overflow_y": null,
            "padding": null,
            "right": null,
            "top": null,
            "visibility": null,
            "width": null
          }
        },
        "4572cd21f12a4c57b1f271e3e5d3d96a": {
          "model_module": "@jupyter-widgets/controls",
          "model_name": "DescriptionStyleModel",
          "model_module_version": "1.5.0",
          "state": {
            "_model_module": "@jupyter-widgets/controls",
            "_model_module_version": "1.5.0",
            "_model_name": "DescriptionStyleModel",
            "_view_count": null,
            "_view_module": "@jupyter-widgets/base",
            "_view_module_version": "1.2.0",
            "_view_name": "StyleView",
            "description_width": ""
          }
        },
        "d0c1a65f49ca4974bd6a9eb511b671bf": {
          "model_module": "@jupyter-widgets/controls",
          "model_name": "HBoxModel",
          "model_module_version": "1.5.0",
          "state": {
            "_dom_classes": [],
            "_model_module": "@jupyter-widgets/controls",
            "_model_module_version": "1.5.0",
            "_model_name": "HBoxModel",
            "_view_count": null,
            "_view_module": "@jupyter-widgets/controls",
            "_view_module_version": "1.5.0",
            "_view_name": "HBoxView",
            "box_style": "",
            "children": [
              "IPY_MODEL_4596402bb389465598dcd4cd8de35463",
              "IPY_MODEL_f82ad7f7eefa4a7a9d8d47241dcf651b",
              "IPY_MODEL_994bffa00f22479c93299e330b711b52"
            ],
            "layout": "IPY_MODEL_a0191f9ecbaa4d948f83bf27ab40398b"
          }
        },
        "4596402bb389465598dcd4cd8de35463": {
          "model_module": "@jupyter-widgets/controls",
          "model_name": "HTMLModel",
          "model_module_version": "1.5.0",
          "state": {
            "_dom_classes": [],
            "_model_module": "@jupyter-widgets/controls",
            "_model_module_version": "1.5.0",
            "_model_name": "HTMLModel",
            "_view_count": null,
            "_view_module": "@jupyter-widgets/controls",
            "_view_module_version": "1.5.0",
            "_view_name": "HTMLView",
            "description": "",
            "description_tooltip": null,
            "layout": "IPY_MODEL_92c0036df6bb4651bc659d459869c107",
            "placeholder": "​",
            "style": "IPY_MODEL_b22f6cc42a6b48e9969b7491671a7ccd",
            "value": ""
          }
        },
        "f82ad7f7eefa4a7a9d8d47241dcf651b": {
          "model_module": "@jupyter-widgets/controls",
          "model_name": "FloatProgressModel",
          "model_module_version": "1.5.0",
          "state": {
            "_dom_classes": [],
            "_model_module": "@jupyter-widgets/controls",
            "_model_module_version": "1.5.0",
            "_model_name": "FloatProgressModel",
            "_view_count": null,
            "_view_module": "@jupyter-widgets/controls",
            "_view_module_version": "1.5.0",
            "_view_name": "ProgressView",
            "bar_style": "success",
            "description": "",
            "description_tooltip": null,
            "layout": "IPY_MODEL_fe1cf8b6d1e148a1ae6c05e8897e877d",
            "max": 1648877,
            "min": 0,
            "orientation": "horizontal",
            "style": "IPY_MODEL_6c3312d9d5854efb97f882799865a613",
            "value": 1648877
          }
        },
        "994bffa00f22479c93299e330b711b52": {
          "model_module": "@jupyter-widgets/controls",
          "model_name": "HTMLModel",
          "model_module_version": "1.5.0",
          "state": {
            "_dom_classes": [],
            "_model_module": "@jupyter-widgets/controls",
            "_model_module_version": "1.5.0",
            "_model_name": "HTMLModel",
            "_view_count": null,
            "_view_module": "@jupyter-widgets/controls",
            "_view_module_version": "1.5.0",
            "_view_name": "HTMLView",
            "description": "",
            "description_tooltip": null,
            "layout": "IPY_MODEL_578a08d164ff4eb8b6347ad6265ab5bd",
            "placeholder": "​",
            "style": "IPY_MODEL_ed49f3020d044115b66502a2a056dbe0",
            "value": " 1649664/? [00:00&lt;00:00, 18318456.18it/s]"
          }
        },
        "a0191f9ecbaa4d948f83bf27ab40398b": {
          "model_module": "@jupyter-widgets/base",
          "model_name": "LayoutModel",
          "model_module_version": "1.2.0",
          "state": {
            "_model_module": "@jupyter-widgets/base",
            "_model_module_version": "1.2.0",
            "_model_name": "LayoutModel",
            "_view_count": null,
            "_view_module": "@jupyter-widgets/base",
            "_view_module_version": "1.2.0",
            "_view_name": "LayoutView",
            "align_content": null,
            "align_items": null,
            "align_self": null,
            "border": null,
            "bottom": null,
            "display": null,
            "flex": null,
            "flex_flow": null,
            "grid_area": null,
            "grid_auto_columns": null,
            "grid_auto_flow": null,
            "grid_auto_rows": null,
            "grid_column": null,
            "grid_gap": null,
            "grid_row": null,
            "grid_template_areas": null,
            "grid_template_columns": null,
            "grid_template_rows": null,
            "height": null,
            "justify_content": null,
            "justify_items": null,
            "left": null,
            "margin": null,
            "max_height": null,
            "max_width": null,
            "min_height": null,
            "min_width": null,
            "object_fit": null,
            "object_position": null,
            "order": null,
            "overflow": null,
            "overflow_x": null,
            "overflow_y": null,
            "padding": null,
            "right": null,
            "top": null,
            "visibility": null,
            "width": null
          }
        },
        "92c0036df6bb4651bc659d459869c107": {
          "model_module": "@jupyter-widgets/base",
          "model_name": "LayoutModel",
          "model_module_version": "1.2.0",
          "state": {
            "_model_module": "@jupyter-widgets/base",
            "_model_module_version": "1.2.0",
            "_model_name": "LayoutModel",
            "_view_count": null,
            "_view_module": "@jupyter-widgets/base",
            "_view_module_version": "1.2.0",
            "_view_name": "LayoutView",
            "align_content": null,
            "align_items": null,
            "align_self": null,
            "border": null,
            "bottom": null,
            "display": null,
            "flex": null,
            "flex_flow": null,
            "grid_area": null,
            "grid_auto_columns": null,
            "grid_auto_flow": null,
            "grid_auto_rows": null,
            "grid_column": null,
            "grid_gap": null,
            "grid_row": null,
            "grid_template_areas": null,
            "grid_template_columns": null,
            "grid_template_rows": null,
            "height": null,
            "justify_content": null,
            "justify_items": null,
            "left": null,
            "margin": null,
            "max_height": null,
            "max_width": null,
            "min_height": null,
            "min_width": null,
            "object_fit": null,
            "object_position": null,
            "order": null,
            "overflow": null,
            "overflow_x": null,
            "overflow_y": null,
            "padding": null,
            "right": null,
            "top": null,
            "visibility": null,
            "width": null
          }
        },
        "b22f6cc42a6b48e9969b7491671a7ccd": {
          "model_module": "@jupyter-widgets/controls",
          "model_name": "DescriptionStyleModel",
          "model_module_version": "1.5.0",
          "state": {
            "_model_module": "@jupyter-widgets/controls",
            "_model_module_version": "1.5.0",
            "_model_name": "DescriptionStyleModel",
            "_view_count": null,
            "_view_module": "@jupyter-widgets/base",
            "_view_module_version": "1.2.0",
            "_view_name": "StyleView",
            "description_width": ""
          }
        },
        "fe1cf8b6d1e148a1ae6c05e8897e877d": {
          "model_module": "@jupyter-widgets/base",
          "model_name": "LayoutModel",
          "model_module_version": "1.2.0",
          "state": {
            "_model_module": "@jupyter-widgets/base",
            "_model_module_version": "1.2.0",
            "_model_name": "LayoutModel",
            "_view_count": null,
            "_view_module": "@jupyter-widgets/base",
            "_view_module_version": "1.2.0",
            "_view_name": "LayoutView",
            "align_content": null,
            "align_items": null,
            "align_self": null,
            "border": null,
            "bottom": null,
            "display": null,
            "flex": null,
            "flex_flow": null,
            "grid_area": null,
            "grid_auto_columns": null,
            "grid_auto_flow": null,
            "grid_auto_rows": null,
            "grid_column": null,
            "grid_gap": null,
            "grid_row": null,
            "grid_template_areas": null,
            "grid_template_columns": null,
            "grid_template_rows": null,
            "height": null,
            "justify_content": null,
            "justify_items": null,
            "left": null,
            "margin": null,
            "max_height": null,
            "max_width": null,
            "min_height": null,
            "min_width": null,
            "object_fit": null,
            "object_position": null,
            "order": null,
            "overflow": null,
            "overflow_x": null,
            "overflow_y": null,
            "padding": null,
            "right": null,
            "top": null,
            "visibility": null,
            "width": null
          }
        },
        "6c3312d9d5854efb97f882799865a613": {
          "model_module": "@jupyter-widgets/controls",
          "model_name": "ProgressStyleModel",
          "model_module_version": "1.5.0",
          "state": {
            "_model_module": "@jupyter-widgets/controls",
            "_model_module_version": "1.5.0",
            "_model_name": "ProgressStyleModel",
            "_view_count": null,
            "_view_module": "@jupyter-widgets/base",
            "_view_module_version": "1.2.0",
            "_view_name": "StyleView",
            "bar_color": null,
            "description_width": ""
          }
        },
        "578a08d164ff4eb8b6347ad6265ab5bd": {
          "model_module": "@jupyter-widgets/base",
          "model_name": "LayoutModel",
          "model_module_version": "1.2.0",
          "state": {
            "_model_module": "@jupyter-widgets/base",
            "_model_module_version": "1.2.0",
            "_model_name": "LayoutModel",
            "_view_count": null,
            "_view_module": "@jupyter-widgets/base",
            "_view_module_version": "1.2.0",
            "_view_name": "LayoutView",
            "align_content": null,
            "align_items": null,
            "align_self": null,
            "border": null,
            "bottom": null,
            "display": null,
            "flex": null,
            "flex_flow": null,
            "grid_area": null,
            "grid_auto_columns": null,
            "grid_auto_flow": null,
            "grid_auto_rows": null,
            "grid_column": null,
            "grid_gap": null,
            "grid_row": null,
            "grid_template_areas": null,
            "grid_template_columns": null,
            "grid_template_rows": null,
            "height": null,
            "justify_content": null,
            "justify_items": null,
            "left": null,
            "margin": null,
            "max_height": null,
            "max_width": null,
            "min_height": null,
            "min_width": null,
            "object_fit": null,
            "object_position": null,
            "order": null,
            "overflow": null,
            "overflow_x": null,
            "overflow_y": null,
            "padding": null,
            "right": null,
            "top": null,
            "visibility": null,
            "width": null
          }
        },
        "ed49f3020d044115b66502a2a056dbe0": {
          "model_module": "@jupyter-widgets/controls",
          "model_name": "DescriptionStyleModel",
          "model_module_version": "1.5.0",
          "state": {
            "_model_module": "@jupyter-widgets/controls",
            "_model_module_version": "1.5.0",
            "_model_name": "DescriptionStyleModel",
            "_view_count": null,
            "_view_module": "@jupyter-widgets/base",
            "_view_module_version": "1.2.0",
            "_view_name": "StyleView",
            "description_width": ""
          }
        },
        "f8f3e911d4e848a28f369bed9f5ee50f": {
          "model_module": "@jupyter-widgets/controls",
          "model_name": "HBoxModel",
          "model_module_version": "1.5.0",
          "state": {
            "_dom_classes": [],
            "_model_module": "@jupyter-widgets/controls",
            "_model_module_version": "1.5.0",
            "_model_name": "HBoxModel",
            "_view_count": null,
            "_view_module": "@jupyter-widgets/controls",
            "_view_module_version": "1.5.0",
            "_view_name": "HBoxView",
            "box_style": "",
            "children": [
              "IPY_MODEL_9eeed1c27f4c4142ad6f09d194b7056f",
              "IPY_MODEL_ba31b6e8078a41f29819973227be3523",
              "IPY_MODEL_867dd2a476f74289bf0ec2016702a4c4"
            ],
            "layout": "IPY_MODEL_dacee9579ead48b98a6d15201629dabc"
          }
        },
        "9eeed1c27f4c4142ad6f09d194b7056f": {
          "model_module": "@jupyter-widgets/controls",
          "model_name": "HTMLModel",
          "model_module_version": "1.5.0",
          "state": {
            "_dom_classes": [],
            "_model_module": "@jupyter-widgets/controls",
            "_model_module_version": "1.5.0",
            "_model_name": "HTMLModel",
            "_view_count": null,
            "_view_module": "@jupyter-widgets/controls",
            "_view_module_version": "1.5.0",
            "_view_name": "HTMLView",
            "description": "",
            "description_tooltip": null,
            "layout": "IPY_MODEL_b75815d812ae4c8798a85aa5df9e8ccd",
            "placeholder": "​",
            "style": "IPY_MODEL_2623f197774847d5bd23a8acacc38d76",
            "value": ""
          }
        },
        "ba31b6e8078a41f29819973227be3523": {
          "model_module": "@jupyter-widgets/controls",
          "model_name": "FloatProgressModel",
          "model_module_version": "1.5.0",
          "state": {
            "_dom_classes": [],
            "_model_module": "@jupyter-widgets/controls",
            "_model_module_version": "1.5.0",
            "_model_name": "FloatProgressModel",
            "_view_count": null,
            "_view_module": "@jupyter-widgets/controls",
            "_view_module_version": "1.5.0",
            "_view_name": "ProgressView",
            "bar_style": "success",
            "description": "",
            "description_tooltip": null,
            "layout": "IPY_MODEL_abc4693bf1f341e1ae73201650ee35c8",
            "max": 4542,
            "min": 0,
            "orientation": "horizontal",
            "style": "IPY_MODEL_63e8c44809c142c9878782b9cd95ac24",
            "value": 4542
          }
        },
        "867dd2a476f74289bf0ec2016702a4c4": {
          "model_module": "@jupyter-widgets/controls",
          "model_name": "HTMLModel",
          "model_module_version": "1.5.0",
          "state": {
            "_dom_classes": [],
            "_model_module": "@jupyter-widgets/controls",
            "_model_module_version": "1.5.0",
            "_model_name": "HTMLModel",
            "_view_count": null,
            "_view_module": "@jupyter-widgets/controls",
            "_view_module_version": "1.5.0",
            "_view_name": "HTMLView",
            "description": "",
            "description_tooltip": null,
            "layout": "IPY_MODEL_d2a39abb589741b99eea615e04eda5b9",
            "placeholder": "​",
            "style": "IPY_MODEL_409c6af46f3644f4bd40f7a67aee3dde",
            "value": " 5120/? [00:00&lt;00:00, 134262.20it/s]"
          }
        },
        "dacee9579ead48b98a6d15201629dabc": {
          "model_module": "@jupyter-widgets/base",
          "model_name": "LayoutModel",
          "model_module_version": "1.2.0",
          "state": {
            "_model_module": "@jupyter-widgets/base",
            "_model_module_version": "1.2.0",
            "_model_name": "LayoutModel",
            "_view_count": null,
            "_view_module": "@jupyter-widgets/base",
            "_view_module_version": "1.2.0",
            "_view_name": "LayoutView",
            "align_content": null,
            "align_items": null,
            "align_self": null,
            "border": null,
            "bottom": null,
            "display": null,
            "flex": null,
            "flex_flow": null,
            "grid_area": null,
            "grid_auto_columns": null,
            "grid_auto_flow": null,
            "grid_auto_rows": null,
            "grid_column": null,
            "grid_gap": null,
            "grid_row": null,
            "grid_template_areas": null,
            "grid_template_columns": null,
            "grid_template_rows": null,
            "height": null,
            "justify_content": null,
            "justify_items": null,
            "left": null,
            "margin": null,
            "max_height": null,
            "max_width": null,
            "min_height": null,
            "min_width": null,
            "object_fit": null,
            "object_position": null,
            "order": null,
            "overflow": null,
            "overflow_x": null,
            "overflow_y": null,
            "padding": null,
            "right": null,
            "top": null,
            "visibility": null,
            "width": null
          }
        },
        "b75815d812ae4c8798a85aa5df9e8ccd": {
          "model_module": "@jupyter-widgets/base",
          "model_name": "LayoutModel",
          "model_module_version": "1.2.0",
          "state": {
            "_model_module": "@jupyter-widgets/base",
            "_model_module_version": "1.2.0",
            "_model_name": "LayoutModel",
            "_view_count": null,
            "_view_module": "@jupyter-widgets/base",
            "_view_module_version": "1.2.0",
            "_view_name": "LayoutView",
            "align_content": null,
            "align_items": null,
            "align_self": null,
            "border": null,
            "bottom": null,
            "display": null,
            "flex": null,
            "flex_flow": null,
            "grid_area": null,
            "grid_auto_columns": null,
            "grid_auto_flow": null,
            "grid_auto_rows": null,
            "grid_column": null,
            "grid_gap": null,
            "grid_row": null,
            "grid_template_areas": null,
            "grid_template_columns": null,
            "grid_template_rows": null,
            "height": null,
            "justify_content": null,
            "justify_items": null,
            "left": null,
            "margin": null,
            "max_height": null,
            "max_width": null,
            "min_height": null,
            "min_width": null,
            "object_fit": null,
            "object_position": null,
            "order": null,
            "overflow": null,
            "overflow_x": null,
            "overflow_y": null,
            "padding": null,
            "right": null,
            "top": null,
            "visibility": null,
            "width": null
          }
        },
        "2623f197774847d5bd23a8acacc38d76": {
          "model_module": "@jupyter-widgets/controls",
          "model_name": "DescriptionStyleModel",
          "model_module_version": "1.5.0",
          "state": {
            "_model_module": "@jupyter-widgets/controls",
            "_model_module_version": "1.5.0",
            "_model_name": "DescriptionStyleModel",
            "_view_count": null,
            "_view_module": "@jupyter-widgets/base",
            "_view_module_version": "1.2.0",
            "_view_name": "StyleView",
            "description_width": ""
          }
        },
        "abc4693bf1f341e1ae73201650ee35c8": {
          "model_module": "@jupyter-widgets/base",
          "model_name": "LayoutModel",
          "model_module_version": "1.2.0",
          "state": {
            "_model_module": "@jupyter-widgets/base",
            "_model_module_version": "1.2.0",
            "_model_name": "LayoutModel",
            "_view_count": null,
            "_view_module": "@jupyter-widgets/base",
            "_view_module_version": "1.2.0",
            "_view_name": "LayoutView",
            "align_content": null,
            "align_items": null,
            "align_self": null,
            "border": null,
            "bottom": null,
            "display": null,
            "flex": null,
            "flex_flow": null,
            "grid_area": null,
            "grid_auto_columns": null,
            "grid_auto_flow": null,
            "grid_auto_rows": null,
            "grid_column": null,
            "grid_gap": null,
            "grid_row": null,
            "grid_template_areas": null,
            "grid_template_columns": null,
            "grid_template_rows": null,
            "height": null,
            "justify_content": null,
            "justify_items": null,
            "left": null,
            "margin": null,
            "max_height": null,
            "max_width": null,
            "min_height": null,
            "min_width": null,
            "object_fit": null,
            "object_position": null,
            "order": null,
            "overflow": null,
            "overflow_x": null,
            "overflow_y": null,
            "padding": null,
            "right": null,
            "top": null,
            "visibility": null,
            "width": null
          }
        },
        "63e8c44809c142c9878782b9cd95ac24": {
          "model_module": "@jupyter-widgets/controls",
          "model_name": "ProgressStyleModel",
          "model_module_version": "1.5.0",
          "state": {
            "_model_module": "@jupyter-widgets/controls",
            "_model_module_version": "1.5.0",
            "_model_name": "ProgressStyleModel",
            "_view_count": null,
            "_view_module": "@jupyter-widgets/base",
            "_view_module_version": "1.2.0",
            "_view_name": "StyleView",
            "bar_color": null,
            "description_width": ""
          }
        },
        "d2a39abb589741b99eea615e04eda5b9": {
          "model_module": "@jupyter-widgets/base",
          "model_name": "LayoutModel",
          "model_module_version": "1.2.0",
          "state": {
            "_model_module": "@jupyter-widgets/base",
            "_model_module_version": "1.2.0",
            "_model_name": "LayoutModel",
            "_view_count": null,
            "_view_module": "@jupyter-widgets/base",
            "_view_module_version": "1.2.0",
            "_view_name": "LayoutView",
            "align_content": null,
            "align_items": null,
            "align_self": null,
            "border": null,
            "bottom": null,
            "display": null,
            "flex": null,
            "flex_flow": null,
            "grid_area": null,
            "grid_auto_columns": null,
            "grid_auto_flow": null,
            "grid_auto_rows": null,
            "grid_column": null,
            "grid_gap": null,
            "grid_row": null,
            "grid_template_areas": null,
            "grid_template_columns": null,
            "grid_template_rows": null,
            "height": null,
            "justify_content": null,
            "justify_items": null,
            "left": null,
            "margin": null,
            "max_height": null,
            "max_width": null,
            "min_height": null,
            "min_width": null,
            "object_fit": null,
            "object_position": null,
            "order": null,
            "overflow": null,
            "overflow_x": null,
            "overflow_y": null,
            "padding": null,
            "right": null,
            "top": null,
            "visibility": null,
            "width": null
          }
        },
        "409c6af46f3644f4bd40f7a67aee3dde": {
          "model_module": "@jupyter-widgets/controls",
          "model_name": "DescriptionStyleModel",
          "model_module_version": "1.5.0",
          "state": {
            "_model_module": "@jupyter-widgets/controls",
            "_model_module_version": "1.5.0",
            "_model_name": "DescriptionStyleModel",
            "_view_count": null,
            "_view_module": "@jupyter-widgets/base",
            "_view_module_version": "1.2.0",
            "_view_name": "StyleView",
            "description_width": ""
          }
        }
      }
    }
  },
  "cells": [
    {
      "cell_type": "markdown",
      "metadata": {
        "id": "view-in-github",
        "colab_type": "text"
      },
      "source": [
        "<a href=\"https://colab.research.google.com/github/kesha001/Investigation-of-the-structure-of-sparce-neural-networks/blob/main/LenetPruning_iterative.ipynb\" target=\"_parent\"><img src=\"https://colab.research.google.com/assets/colab-badge.svg\" alt=\"Open In Colab\"/></a>"
      ]
    },
    {
      "cell_type": "code",
      "metadata": {
        "id": "aoozrg6VgSyZ"
      },
      "source": [
        "import torch\n",
        "from torch import nn\n",
        "import torch.nn.utils.prune as prune\n",
        "import torch.nn.functional as F\n",
        "import os\n",
        "import numpy as np\n",
        "import pandas as pd \n",
        "import matplotlib.pyplot as plt\n",
        "import torchvision\n",
        "from torchvision import transforms\n",
        "from torch.utils.data import Dataset, DataLoader\n",
        "import random"
      ],
      "execution_count": null,
      "outputs": []
    },
    {
      "cell_type": "code",
      "metadata": {
        "id": "9wb9aarYCCd2"
      },
      "source": [
        "def plot_kernels(tensor, num_cols=3):\n",
        "    if not tensor.ndim==4:\n",
        "        raise Exception(\"assumes a 4D tensor\")\n",
        "    if not tensor.shape[-1]==3:\n",
        "        raise Exception(\"last dim needs to be 3 to plot\")\n",
        "    num_kernels = tensor.shape[0]\n",
        "    num_rows = 1+ num_kernels // num_cols\n",
        "    fig = plt.figure(figsize=(num_cols,num_rows))\n",
        "    for i in range(tensor.shape[0]):\n",
        "        ax1 = fig.add_subplot(num_rows,num_cols,i+1)\n",
        "        ax1.imshow(tensor[i])\n",
        "        ax1.axis('off')\n",
        "        ax1.set_xticklabels([])\n",
        "        ax1.set_yticklabels([])\n",
        "\n",
        "    plt.subplots_adjust(wspace=0.1, hspace=0.1)\n",
        "    plt.show()\n",
        "\n",
        "class LeNet(nn.Module):\n",
        "    def __init__(self):\n",
        "        super(LeNet, self).__init__()\n",
        "        # 1 input image channel, 6 output channels, 3x3 square conv kernel\n",
        "        self.conv1 = nn.Conv2d(1, 6, 3)\n",
        "        self.conv2 = nn.Conv2d(6, 16, 3)\n",
        "        self.fc1 = nn.Linear(16 * 5 * 5, 120)  # 5x5 image dimension\n",
        "        self.fc2 = nn.Linear(120, 84)\n",
        "        self.fc3 = nn.Linear(84, 10)\n",
        "\n",
        "    def forward(self, x):\n",
        "        x = F.max_pool2d(F.relu(self.conv1(x)), (2, 2))\n",
        "        x = F.max_pool2d(F.relu(self.conv2(x)), 2)\n",
        "        x = x.view(-1, int(x.nelement() / x.shape[0]))\n",
        "        x = F.relu(self.fc1(x))\n",
        "        x = F.relu(self.fc2(x))\n",
        "        x = self.fc3(x)\n",
        "        return x\n",
        "\n",
        "def train_model(train_loader, model, num_epochs, criterion, optimizer, print_res=True):\n",
        "    losses = []\n",
        "    accs = []\n",
        "    for epoch in range(num_epochs):\n",
        "        for i, (images, labels) in enumerate(train_loader):\n",
        "            outputs = model(images)\n",
        "            loss = criterion(outputs, labels)\n",
        "            losses.append(loss.item())\n",
        "\n",
        "            optimizer.zero_grad()\n",
        "            loss.backward()\n",
        "            optimizer.step()\n",
        "\n",
        "            _, predicted = torch.max(outputs.data, 1)\n",
        "            correct = (predicted == labels).sum().item()\n",
        "            accs.append(correct / labels.size(0))\n",
        "            if (print_res):\n",
        "                if ((i + 1) % 100 == 0):\n",
        "                    print('epoch: {}/{}, step: {}/{}, loss: {:.6f}, accuracy: {:.3f}%'\n",
        "                          .format(epoch + 1, num_epochs, i + 1, len(train_loader), loss.item(), (correct / labels.size(0)) * 100))\n",
        "\n",
        "    return losses, accs\n",
        "\n",
        "def test_model(test_loader, model, print_acc=True):\n",
        "    ims = []\n",
        "    lbls = []\n",
        "    outs = []\n",
        "    out_pr = []\n",
        "    out_act = []\n",
        "    correct = 0\n",
        "    total = 0\n",
        "    lab_i = 0\n",
        "    model.eval()\n",
        "    for images, labels in test_loader:\n",
        "        outputs = model(images)\n",
        "        \n",
        "        for i in range(labels.size(0)):\n",
        "            outs.append(outputs[i])\n",
        "            ims.append(images[i])\n",
        "            lbls.append(labels[i])\n",
        "        max_val, predicted = torch.max(outputs.data, 1)\n",
        "\n",
        "        for i in range(labels.size(0)):\n",
        "            out_pr.append(max_val[i])\n",
        "            out_act.append(outputs[i][labels[i]])\n",
        "\n",
        "        total += labels.size(0)\n",
        "        correct += (predicted == labels).sum().item()\n",
        "    if print_acc:\n",
        "      print('Test Accuracy of the model on the 10000 test images: {} %'.format((correct / total) * 100))\n",
        "    accuracy = correct / total\n",
        "    \n",
        "    return accuracy\n",
        "\n",
        "def flatten(t):\n",
        "    t = t.reshape(1, -1)\n",
        "    t = t.squeeze()\n",
        "    return t\n",
        "\n",
        "def one_shot_lenet_prune(model_inp, percent):\n",
        "    model = LeNet()\n",
        "\n",
        "    model.load_state_dict(model_inp.state_dict())\n",
        "    parameters_to_prune = (\n",
        "    (model.conv1, 'weight'),\n",
        "    (model.conv2, 'weight'),\n",
        "    (model.fc1, 'weight'),\n",
        "    (model.fc2, 'weight'),\n",
        "    (model.fc3, 'weight'),\n",
        "    )\n",
        "\n",
        "    prune.global_unstructured(\n",
        "        parameters_to_prune,\n",
        "        pruning_method=prune.L1Unstructured,\n",
        "        amount=percent,\n",
        "    )\n",
        "\n",
        "    return model\n",
        "\n",
        "def lenet_print_sparcity(model, print_spar=True):\n",
        "  if print_spar:  \n",
        "    print(\n",
        "      \"Sparsity in conv1.weight: {:.2f}%\".format(\n",
        "          100. * float(torch.sum(model.conv1.weight == 0))\n",
        "          / float(model.conv1.weight.nelement())\n",
        "      )\n",
        "    )\n",
        "    print(\n",
        "        \"Sparsity in conv2.weight: {:.2f}%\".format(\n",
        "            100. * float(torch.sum(model.conv2.weight == 0))\n",
        "            / float(model.conv2.weight.nelement())\n",
        "        )\n",
        "    )\n",
        "    print(\n",
        "        \"Sparsity in fc1.weight: {:.2f}%\".format(\n",
        "            100. * float(torch.sum(model.fc1.weight == 0))\n",
        "            / float(model.fc1.weight.nelement())\n",
        "        )\n",
        "    )\n",
        "    print(\n",
        "        \"Sparsity in fc2.weight: {:.2f}%\".format(\n",
        "            100. * float(torch.sum(model.fc2.weight == 0))\n",
        "            / float(model.fc2.weight.nelement())\n",
        "        )\n",
        "    )\n",
        "    print(\n",
        "        \"Sparsity in fc3.weight: {:.2f}%\".format(\n",
        "            100. * float(torch.sum(model.fc3.weight == 0))\n",
        "            / float(model.fc3.weight.nelement())\n",
        "        )\n",
        "    )\n",
        "\n",
        "\n",
        "  glob_sparc = 100. * float(\n",
        "              torch.sum(model.conv1.weight == 0)\n",
        "              + torch.sum(model.conv2.weight == 0)\n",
        "              + torch.sum(model.fc1.weight == 0)\n",
        "              + torch.sum(model.fc2.weight == 0)\n",
        "              + torch.sum(model.fc3.weight == 0)\n",
        "          ) / float(\n",
        "              model.conv1.weight.nelement()\n",
        "              + model.conv2.weight.nelement()\n",
        "              + model.fc1.weight.nelement()\n",
        "              + model.fc2.weight.nelement()\n",
        "              + model.fc3.weight.nelement()\n",
        "          )\n",
        "  if print_spar:\n",
        "    print(\n",
        "        \"Global sparsity: {:.2f}%\".format(glob_sparc)\n",
        "    )\n",
        "\n",
        "  return glob_sparc\n",
        "\n",
        "def save_model(model, model_dir, model_filename):\n",
        "\n",
        "    if not os.path.exists(model_dir):\n",
        "        os.makedirs(model_dir)\n",
        "    model_filepath = os.path.join(model_dir, model_filename)\n",
        "    torch.save(model.state_dict(), model_filepath)\n",
        "\n",
        "\n",
        "def load_model(model, model_filepath, device):\n",
        "\n",
        "    model.load_state_dict(torch.load(model_filepath, map_location=device))\n",
        "\n",
        "    return model"
      ],
      "execution_count": null,
      "outputs": []
    },
    {
      "cell_type": "code",
      "metadata": {
        "id": "V9FV4gEyAwb0"
      },
      "source": [
        "device = torch.device(\"cuda\" if torch.cuda.is_available() else \"cpu\")"
      ],
      "execution_count": null,
      "outputs": []
    },
    {
      "cell_type": "code",
      "metadata": {
        "id": "BRbQLPuzAyz3",
        "colab": {
          "base_uri": "https://localhost:8080/",
          "height": 422,
          "referenced_widgets": [
            "3c44883eef344fe49b45f83e5845ec75",
            "91ae922917b5419193255ce0d6699a18",
            "b6c0124488c549e3b5c92fc18c416c1d",
            "080940919d8947dfa1244848b0d7e481",
            "c99ea1582bb4490ca55b8b3083426d58",
            "a0eddf5fe95f477aac3abf08fc6479b5",
            "807ab8e7eb9a4aebb5866506196b3966",
            "e07dc426acd04826a6eafcc645957445",
            "6a982679e7014c209394afbca2a73e91",
            "ac9730c688b7435b8403ecbf57994d00",
            "47c009e0de5a40ee834749c19913e431",
            "9374337aabbb4fc889c50a424a6c1b72",
            "778787be2b2b467dac26ba1c91d50799",
            "3a379d87dfe24365aa97ba4b6e6f6ea4",
            "7a6e69689cfc4b908c63c5c8973334fa",
            "e1b5c6be1ad242479c877e34d11a029e",
            "c74008cd3b3d4c0e8c1a2a9f407fab71",
            "5e584c729bb646e8954491404918f844",
            "3155224aae2447ba90f578b24568b1fe",
            "b1bb656e98c34b46bec2d65dfc7a541d",
            "3428b97028c4411ebb014e5714b8f4d0",
            "4572cd21f12a4c57b1f271e3e5d3d96a",
            "d0c1a65f49ca4974bd6a9eb511b671bf",
            "4596402bb389465598dcd4cd8de35463",
            "f82ad7f7eefa4a7a9d8d47241dcf651b",
            "994bffa00f22479c93299e330b711b52",
            "a0191f9ecbaa4d948f83bf27ab40398b",
            "92c0036df6bb4651bc659d459869c107",
            "b22f6cc42a6b48e9969b7491671a7ccd",
            "fe1cf8b6d1e148a1ae6c05e8897e877d",
            "6c3312d9d5854efb97f882799865a613",
            "578a08d164ff4eb8b6347ad6265ab5bd",
            "ed49f3020d044115b66502a2a056dbe0",
            "f8f3e911d4e848a28f369bed9f5ee50f",
            "9eeed1c27f4c4142ad6f09d194b7056f",
            "ba31b6e8078a41f29819973227be3523",
            "867dd2a476f74289bf0ec2016702a4c4",
            "dacee9579ead48b98a6d15201629dabc",
            "b75815d812ae4c8798a85aa5df9e8ccd",
            "2623f197774847d5bd23a8acacc38d76",
            "abc4693bf1f341e1ae73201650ee35c8",
            "63e8c44809c142c9878782b9cd95ac24",
            "d2a39abb589741b99eea615e04eda5b9",
            "409c6af46f3644f4bd40f7a67aee3dde"
          ]
        },
        "outputId": "311206e4-bb78-4f1b-eb0b-bdc9a28f68ca"
      },
      "source": [
        "num_epochs = 5 \n",
        "batch_size = 100 \n",
        "learning_rate = 0.001\n",
        "DATA_PATH = 'mnist_data'\n",
        "\n",
        "trans = transforms.Compose([transforms.ToTensor(), transforms.Normalize((0.5,), (0.5,))]) \n",
        "\n",
        "train_dataset = torchvision.datasets.MNIST(root=DATA_PATH, train=True, transform=trans, download=True) \n",
        "test_dataset = torchvision.datasets.MNIST(root=DATA_PATH, train=False, transform=trans)\n",
        "\n",
        "train_loader = DataLoader(dataset=train_dataset, batch_size=batch_size) \n",
        "test_loader = DataLoader(dataset=test_dataset, batch_size=batch_size)"
      ],
      "execution_count": null,
      "outputs": [
        {
          "output_type": "stream",
          "name": "stdout",
          "text": [
            "Downloading http://yann.lecun.com/exdb/mnist/train-images-idx3-ubyte.gz\n",
            "Downloading http://yann.lecun.com/exdb/mnist/train-images-idx3-ubyte.gz to mnist_data/MNIST/raw/train-images-idx3-ubyte.gz\n"
          ]
        },
        {
          "output_type": "display_data",
          "data": {
            "text/plain": [
              "  0%|          | 0/9912422 [00:00<?, ?it/s]"
            ],
            "application/vnd.jupyter.widget-view+json": {
              "version_major": 2,
              "version_minor": 0,
              "model_id": "3c44883eef344fe49b45f83e5845ec75"
            }
          },
          "metadata": {}
        },
        {
          "output_type": "stream",
          "name": "stdout",
          "text": [
            "Extracting mnist_data/MNIST/raw/train-images-idx3-ubyte.gz to mnist_data/MNIST/raw\n",
            "\n",
            "Downloading http://yann.lecun.com/exdb/mnist/train-labels-idx1-ubyte.gz\n",
            "Downloading http://yann.lecun.com/exdb/mnist/train-labels-idx1-ubyte.gz to mnist_data/MNIST/raw/train-labels-idx1-ubyte.gz\n"
          ]
        },
        {
          "output_type": "display_data",
          "data": {
            "text/plain": [
              "  0%|          | 0/28881 [00:00<?, ?it/s]"
            ],
            "application/vnd.jupyter.widget-view+json": {
              "version_major": 2,
              "version_minor": 0,
              "model_id": "9374337aabbb4fc889c50a424a6c1b72"
            }
          },
          "metadata": {}
        },
        {
          "output_type": "stream",
          "name": "stdout",
          "text": [
            "Extracting mnist_data/MNIST/raw/train-labels-idx1-ubyte.gz to mnist_data/MNIST/raw\n",
            "\n",
            "Downloading http://yann.lecun.com/exdb/mnist/t10k-images-idx3-ubyte.gz\n",
            "Downloading http://yann.lecun.com/exdb/mnist/t10k-images-idx3-ubyte.gz to mnist_data/MNIST/raw/t10k-images-idx3-ubyte.gz\n"
          ]
        },
        {
          "output_type": "display_data",
          "data": {
            "text/plain": [
              "  0%|          | 0/1648877 [00:00<?, ?it/s]"
            ],
            "application/vnd.jupyter.widget-view+json": {
              "version_major": 2,
              "version_minor": 0,
              "model_id": "d0c1a65f49ca4974bd6a9eb511b671bf"
            }
          },
          "metadata": {}
        },
        {
          "output_type": "stream",
          "name": "stdout",
          "text": [
            "Extracting mnist_data/MNIST/raw/t10k-images-idx3-ubyte.gz to mnist_data/MNIST/raw\n",
            "\n",
            "Downloading http://yann.lecun.com/exdb/mnist/t10k-labels-idx1-ubyte.gz\n",
            "Downloading http://yann.lecun.com/exdb/mnist/t10k-labels-idx1-ubyte.gz to mnist_data/MNIST/raw/t10k-labels-idx1-ubyte.gz\n"
          ]
        },
        {
          "output_type": "display_data",
          "data": {
            "text/plain": [
              "  0%|          | 0/4542 [00:00<?, ?it/s]"
            ],
            "application/vnd.jupyter.widget-view+json": {
              "version_major": 2,
              "version_minor": 0,
              "model_id": "f8f3e911d4e848a28f369bed9f5ee50f"
            }
          },
          "metadata": {}
        },
        {
          "output_type": "stream",
          "name": "stdout",
          "text": [
            "Extracting mnist_data/MNIST/raw/t10k-labels-idx1-ubyte.gz to mnist_data/MNIST/raw\n",
            "\n"
          ]
        }
      ]
    },
    {
      "cell_type": "code",
      "metadata": {
        "id": "uwikdYzQ3lgV"
      },
      "source": [
        "import torch.nn.functional as F"
      ],
      "execution_count": null,
      "outputs": []
    },
    {
      "cell_type": "code",
      "metadata": {
        "id": "lO8SKGQwjEn5"
      },
      "source": [
        "untr_model = LeNet().to(device=device)\n",
        "loss_func = nn.CrossEntropyLoss()\n",
        "model = LeNet().to(device=device)\n",
        "\n",
        "model.load_state_dict(untr_model.state_dict())\n",
        "optim_func = torch.optim.Adam(model.parameters(), lr=learning_rate)"
      ],
      "execution_count": null,
      "outputs": []
    },
    {
      "cell_type": "code",
      "source": [
        "[i for i in untr_model.children()]"
      ],
      "metadata": {
        "id": "uUuitSyLeuWb",
        "outputId": "92cb70f7-5b03-41c4-852d-96de20eff9a3",
        "colab": {
          "base_uri": "https://localhost:8080/"
        }
      },
      "execution_count": null,
      "outputs": [
        {
          "output_type": "execute_result",
          "data": {
            "text/plain": [
              "[Conv2d(1, 6, kernel_size=(3, 3), stride=(1, 1)),\n",
              " Conv2d(6, 16, kernel_size=(3, 3), stride=(1, 1)),\n",
              " Linear(in_features=400, out_features=120, bias=True),\n",
              " Linear(in_features=120, out_features=84, bias=True),\n",
              " Linear(in_features=84, out_features=10, bias=True)]"
            ]
          },
          "metadata": {},
          "execution_count": 7
        }
      ]
    },
    {
      "cell_type": "code",
      "metadata": {
        "id": "yvOntistAyx_",
        "colab": {
          "base_uri": "https://localhost:8080/"
        },
        "outputId": "8d680a0a-5722-460e-a28b-9d5d83b8a96c"
      },
      "source": [
        "indx = 0\n",
        "untr_modules = [i for i in untr_model.children()]\n",
        "untr_1l = untr_modules[indx].weight.data\n",
        "print(untr_1l)\n",
        "modules = [i for i in model.children()]\n",
        "model_1l = modules[indx].weight.data\n",
        "print()\n",
        "print(model_1l)"
      ],
      "execution_count": null,
      "outputs": [
        {
          "output_type": "stream",
          "name": "stdout",
          "text": [
            "tensor([[[[-0.2278,  0.1082, -0.1457],\n",
            "          [ 0.2985,  0.0842,  0.2832],\n",
            "          [-0.0099, -0.2160,  0.0171]]],\n",
            "\n",
            "\n",
            "        [[[ 0.1006, -0.0013,  0.0224],\n",
            "          [ 0.0139,  0.2418,  0.0692],\n",
            "          [ 0.2875, -0.3222, -0.0575]]],\n",
            "\n",
            "\n",
            "        [[[ 0.1977,  0.2614,  0.3025],\n",
            "          [ 0.0143, -0.0192,  0.2037],\n",
            "          [-0.1865,  0.1827,  0.0470]]],\n",
            "\n",
            "\n",
            "        [[[-0.2610, -0.0315, -0.0694],\n",
            "          [ 0.2503, -0.1998,  0.1033],\n",
            "          [ 0.0009, -0.1235,  0.1955]]],\n",
            "\n",
            "\n",
            "        [[[ 0.0941, -0.1110,  0.2243],\n",
            "          [-0.2815,  0.2021, -0.2196],\n",
            "          [-0.2915, -0.0789, -0.0725]]],\n",
            "\n",
            "\n",
            "        [[[ 0.2891, -0.2912, -0.2723],\n",
            "          [-0.2097, -0.0413, -0.1777],\n",
            "          [ 0.1545, -0.1236,  0.2222]]]])\n",
            "\n",
            "tensor([[[[-0.2278,  0.1082, -0.1457],\n",
            "          [ 0.2985,  0.0842,  0.2832],\n",
            "          [-0.0099, -0.2160,  0.0171]]],\n",
            "\n",
            "\n",
            "        [[[ 0.1006, -0.0013,  0.0224],\n",
            "          [ 0.0139,  0.2418,  0.0692],\n",
            "          [ 0.2875, -0.3222, -0.0575]]],\n",
            "\n",
            "\n",
            "        [[[ 0.1977,  0.2614,  0.3025],\n",
            "          [ 0.0143, -0.0192,  0.2037],\n",
            "          [-0.1865,  0.1827,  0.0470]]],\n",
            "\n",
            "\n",
            "        [[[-0.2610, -0.0315, -0.0694],\n",
            "          [ 0.2503, -0.1998,  0.1033],\n",
            "          [ 0.0009, -0.1235,  0.1955]]],\n",
            "\n",
            "\n",
            "        [[[ 0.0941, -0.1110,  0.2243],\n",
            "          [-0.2815,  0.2021, -0.2196],\n",
            "          [-0.2915, -0.0789, -0.0725]]],\n",
            "\n",
            "\n",
            "        [[[ 0.2891, -0.2912, -0.2723],\n",
            "          [-0.2097, -0.0413, -0.1777],\n",
            "          [ 0.1545, -0.1236,  0.2222]]]])\n"
          ]
        }
      ]
    },
    {
      "cell_type": "code",
      "metadata": {
        "id": "NL1PRApqz5p5",
        "colab": {
          "base_uri": "https://localhost:8080/"
        },
        "outputId": "fb76a077-016e-45b1-9fa9-d919d7bda5d2"
      },
      "source": [
        "untr_1l_distr = F.log_softmax(flatten(untr_1l), -1)\n",
        "print(untr_1l_distr)\n",
        "print()\n",
        "model_1l_distr = F.softmax(flatten(model_1l), -1)\n",
        "print(model_1l_distr)\n",
        "torch.nn.KLDivLoss(reduction=\"sum\")(untr_1l_distr, model_1l_distr)"
      ],
      "execution_count": null,
      "outputs": [
        {
          "output_type": "stream",
          "name": "stdout",
          "text": [
            "tensor([-4.2419, -3.9059, -4.1598, -3.7156, -3.9299, -3.7309, -4.0240, -4.2301,\n",
            "        -3.9970, -3.9135, -4.0154, -3.9917, -4.0002, -3.7723, -3.9449, -3.7266,\n",
            "        -4.3363, -4.0716, -3.8164, -3.7527, -3.7117, -3.9998, -4.0333, -3.8104,\n",
            "        -4.2006, -3.8314, -3.9671, -4.2751, -4.0456, -4.0835, -3.7638, -4.2139,\n",
            "        -3.9108, -4.0132, -4.1376, -3.8186, -3.9200, -4.1251, -3.7898, -4.2956,\n",
            "        -3.8120, -4.2337, -4.3056, -4.0930, -4.0866, -3.7250, -4.3053, -4.2864,\n",
            "        -4.2238, -4.0554, -4.1918, -3.8597, -4.1377, -3.7919])\n",
            "\n",
            "tensor([0.0144, 0.0201, 0.0156, 0.0243, 0.0196, 0.0240, 0.0179, 0.0146, 0.0184,\n",
            "        0.0200, 0.0180, 0.0185, 0.0183, 0.0230, 0.0194, 0.0241, 0.0131, 0.0170,\n",
            "        0.0220, 0.0235, 0.0244, 0.0183, 0.0177, 0.0221, 0.0150, 0.0217, 0.0189,\n",
            "        0.0139, 0.0175, 0.0168, 0.0232, 0.0148, 0.0200, 0.0181, 0.0160, 0.0220,\n",
            "        0.0198, 0.0162, 0.0226, 0.0136, 0.0221, 0.0145, 0.0135, 0.0167, 0.0168,\n",
            "        0.0241, 0.0135, 0.0138, 0.0146, 0.0173, 0.0151, 0.0211, 0.0160, 0.0226])\n"
          ]
        },
        {
          "output_type": "execute_result",
          "data": {
            "text/plain": [
              "tensor(-5.1688e-09)"
            ]
          },
          "metadata": {},
          "execution_count": 9
        }
      ]
    },
    {
      "cell_type": "code",
      "metadata": {
        "colab": {
          "base_uri": "https://localhost:8080/"
        },
        "id": "PrtdJgD1uJFl",
        "outputId": "e7a9ffc0-4f04-43ac-9ab7-e2fd018b0f72"
      },
      "source": [
        "lenet_print_sparcity(model, print_spar=False)"
      ],
      "execution_count": null,
      "outputs": [
        {
          "output_type": "execute_result",
          "data": {
            "text/plain": [
              "0.0"
            ]
          },
          "metadata": {},
          "execution_count": 10
        }
      ]
    },
    {
      "cell_type": "code",
      "metadata": {
        "id": "yNcBvQPFuCFw"
      },
      "source": [
        "num_epochs = 5 \n",
        "batch_size = 100 \n",
        "learning_rate = 0.001\n",
        "DATA_PATH = 'mnist_data'\n",
        "perc = 0.3"
      ],
      "execution_count": null,
      "outputs": []
    },
    {
      "cell_type": "code",
      "source": [
        "model_it = LeNet().to(device)\n",
        "loss_func = nn.CrossEntropyLoss()\n",
        "optim_func = torch.optim.Adam(model_it.parameters(), lr=learning_rate)\n",
        "\n",
        "untr_model = LeNet().to(device)\n",
        "untr_model.load_state_dict(model_it.state_dict())\n",
        "\n",
        "\n",
        "# distances non trained vs trained\n",
        "results_bp = dict()\n",
        "# distances non trained vs pruned+trained\n",
        "results_ap = dict()\n",
        "for name, module in untr_model.named_modules():\n",
        "    if name:\n",
        "        results_bp[name] = None\n",
        "        results_ap[name] = []\n",
        "\n",
        "untr_modules = [i for i in untr_model.children()]\n",
        "modules = [i for i in model_it.children()]\n",
        "\n",
        "\n",
        "for indx in range(len(untr_modules)):\n",
        "        \n",
        "    untr_1l = untr_modules[indx].weight.data\n",
        "    untr_1l_distr = F.log_softmax(flatten(untr_1l), -1)\n",
        "    \n",
        "    model_1l = modules[indx].weight.data\n",
        "    model_1l_distr = F.softmax(flatten(model_1l), -1)\n",
        "\n",
        "    print(list(untr_model.named_modules())[indx+1][0],torch.nn.KLDivLoss(reduction=\"sum\")(untr_1l_distr, model_1l_distr))\n",
        "\n",
        "    results_bp[list(untr_model.named_modules())[indx+1][0]] = torch.nn.KLDivLoss(reduction=\"sum\")(untr_1l_distr, model_1l_distr).item()"
      ],
      "metadata": {
        "id": "rVJKQaPJz17J",
        "colab": {
          "base_uri": "https://localhost:8080/"
        },
        "outputId": "e6360604-3ebf-4d6d-e7b9-b62a056dc6a1"
      },
      "execution_count": null,
      "outputs": [
        {
          "output_type": "stream",
          "name": "stdout",
          "text": [
            "conv1 tensor(1.2610e-07)\n",
            "conv2 tensor(-1.2346e-07)\n",
            "fc1 tensor(2.5747e-07)\n",
            "fc2 tensor(-3.3785e-07)\n",
            "fc3 tensor(2.0019e-07)\n"
          ]
        }
      ]
    },
    {
      "cell_type": "code",
      "metadata": {
        "id": "53SozTHdOKNC",
        "colab": {
          "base_uri": "https://localhost:8080/"
        },
        "outputId": "5ee25a0f-3dad-4c0d-be38-fc3718ddf2df"
      },
      "source": [
        "print(\"Model training for hyperparamethers batch size = {}, learning rate alpha = {}\".format(batch_size, learning_rate))\n",
        "loss_list, acc_list = train_model(train_loader, model_it, num_epochs, loss_func, optim_func, print_res=False)\n",
        "\n",
        "iterative_accs_bft = dict()\n",
        "iterative_accs_aft = dict()\n",
        "\n",
        "accuracy = test_model(test_loader, model_it)\n",
        "sparcity = lenet_print_sparcity(model_it, print_spar=True)\n",
        "iterative_accs_bft[sparcity] = accuracy\n",
        "\n",
        "iterative_accs = dict()\n",
        "for i in range(10):\n",
        "    parameters_to_prune = (\n",
        "        (model_it.conv1, 'weight'),\n",
        "        (model_it.conv2, 'weight'),\n",
        "        (model_it.fc1, 'weight'),\n",
        "        (model_it.fc2, 'weight'),\n",
        "        (model_it.fc3, 'weight'),\n",
        "    )\n",
        "    # parameters_to_prune_conv = (\n",
        "    #     (model_it.conv1, 'weight'),\n",
        "    #     (model_it.conv2, 'weight'),\n",
        "    #     )\n",
        "    # parameters_to_prune_func = (\n",
        "    #     (model_it.fc1, 'weight'),\n",
        "    #     (model_it.fc2, 'weight'),\n",
        "    #     (model_it.fc3, 'weight'),\n",
        "    #  )\n",
        "    prune.global_unstructured(\n",
        "        parameters_to_prune,\n",
        "        pruning_method=prune.L1Unstructured,\n",
        "        amount=perc,\n",
        "    )\n",
        "    accuracy = test_model(test_loader, model_it)\n",
        "    lenet_print_sparcity(model_it, print_spar=True)\n",
        "    iterative_accs_bft[sparcity] = accuracy\n",
        "    \n",
        "    it_modules = [i for i in model_it.children()]\n",
        "    for indx in range(len(untr_modules)):\n",
        "\n",
        "        untr_1l = untr_modules[indx].weight.data\n",
        "        untr_1l_distr = F.log_softmax(flatten(untr_1l), -1)\n",
        "\n",
        "        it_model_1l = it_modules[indx].weight.data\n",
        "        it_model_1l_distr = F.softmax(flatten(it_model_1l), -1)\n",
        "\n",
        "        # print(torch.nn.KLDivLoss(reduction=\"sum\")(untr_1l_distr, it_model_1l_distr).item())\n",
        "\n",
        "        results_ap[list(untr_model.named_modules())[indx+1][0]].append(torch.nn.KLDivLoss(reduction=\"sum\")(untr_1l_distr, it_model_1l_distr).item())\n",
        "\n",
        "\n",
        "    print(\"Fine-tuning...\")\n",
        "\n",
        "    print(\"Model training for hyperparamethers batch size = {}, learning rate alpha = {}\".format(batch_size, learning_rate))\n",
        "    loss_list, acc_list = train_model(train_loader, model_it, num_epochs, loss_func, optim_func, print_res=False)\n",
        "    accuracy_ft = test_model(test_loader, model_it)\n",
        "\n",
        "    sparcity_ft = lenet_print_sparcity(model_it, print_spar=True)\n",
        "\n",
        "    iterative_accs_aft[sparcity_ft] = accuracy_ft\n",
        "\n",
        "    model_filename_prefix=\"pruned_model\"\n",
        "    model_dir=\"saved_models\"\n",
        "\n",
        "    model_filename = \"{}_{}\".format(model_filename_prefix, i + 1)\n",
        "    model_filepath = os.path.join(model_dir, model_filename)\n",
        "\n",
        "    save_model(model_it, model_dir, model_filename)\n",
        "    model_it = load_model(model_it, model_filepath, device)\n",
        "\n",
        "    iterative_accs[sparcity_ft] = []\n",
        "    iterative_accs[sparcity_ft].append(accuracy)\n",
        "\n",
        "    it_modules = [i for i in model_it.children()]\n",
        "    for indx in range(len(untr_modules)):\n",
        "\n",
        "        untr_1l = untr_modules[indx].weight.data\n",
        "        untr_1l_distr = F.log_softmax(flatten(untr_1l), -1)\n",
        "\n",
        "        it_model_1l = it_modules[indx].weight.data\n",
        "        it_model_1l_distr = F.softmax(flatten(it_model_1l), -1)\n",
        "\n",
        "        # print(torch.nn.KLDivLoss(reduction=\"sum\")(untr_1l_distr, it_model_1l_distr).item())\n",
        "\n",
        "        results_ap[list(untr_model.named_modules())[indx+1][0]].append(torch.nn.KLDivLoss(reduction=\"sum\")(untr_1l_distr, it_model_1l_distr).item())\n",
        "\n",
        "    results_ap_df = pd.DataFrame.from_dict(results_ap)\n",
        "    results_ap_df.to_csv(f'lenet_mnist_results_ap_df_{i}.csv')\n",
        "    print(f'resutls_ap_{i}: ',results_ap)\n",
        "    print(f'iterative_accs_bft_{i}: ',iterative_accs_bft)\n",
        "    print(f'iterative_accs_aft_{i}: ',iterative_accs_aft)\n",
        "    print(f'iterative_accs_{i}: ',iterative_accs)\n",
        "    print(f'resutls_bp_{i}: ',results_bp)\n"
      ],
      "execution_count": null,
      "outputs": [
        {
          "output_type": "stream",
          "name": "stdout",
          "text": [
            "Model training for hyperparamethers batch size = 100, learning rate alpha = 0.001\n",
            "Test Accuracy of the model on the 10000 test images: 98.59 %\n",
            "Sparsity in conv1.weight: 0.00%\n",
            "Sparsity in conv2.weight: 0.00%\n",
            "Sparsity in fc1.weight: 0.00%\n",
            "Sparsity in fc2.weight: 0.00%\n",
            "Sparsity in fc3.weight: 0.00%\n",
            "Global sparsity: 0.00%\n",
            "Test Accuracy of the model on the 10000 test images: 98.57000000000001 %\n",
            "Sparsity in conv1.weight: 3.70%\n",
            "Sparsity in conv2.weight: 12.62%\n",
            "Sparsity in fc1.weight: 32.35%\n",
            "Sparsity in fc2.weight: 21.82%\n",
            "Sparsity in fc3.weight: 13.57%\n",
            "Global sparsity: 30.00%\n",
            "Fine-tuning...\n",
            "Model training for hyperparamethers batch size = 100, learning rate alpha = 0.001\n",
            "Test Accuracy of the model on the 10000 test images: 98.7 %\n",
            "Sparsity in conv1.weight: 3.70%\n",
            "Sparsity in conv2.weight: 12.62%\n",
            "Sparsity in fc1.weight: 32.35%\n",
            "Sparsity in fc2.weight: 21.82%\n",
            "Sparsity in fc3.weight: 13.57%\n",
            "Global sparsity: 30.00%\n",
            "resutls_ap_0:  {'conv1': [0.014520242810249329, 0.021731602028012276], 'conv2': [0.006623297464102507, 0.009187930263578892], 'fc1': [0.0016766437329351902, 0.0028713811188936234], 'fc2': [0.001458819955587387, 0.0026928142178803682], 'fc3': [0.0022993129678070545, 0.004427704028785229]}\n",
            "iterative_accs_bft_0:  {0.0: 0.9857}\n",
            "iterative_accs_aft_0:  {29.999331528460175: 0.987}\n",
            "iterative_accs_0:  {29.999331528460175: [0.9857]}\n",
            "resutls_bp_0:  {'conv1': 1.2610469468654628e-07, 'conv2': -1.2345714139883057e-07, 'fc1': 2.5747195309122617e-07, 'fc2': -3.3785028108468396e-07, 'fc3': 2.0019388102809899e-07}\n",
            "Test Accuracy of the model on the 10000 test images: 98.55000000000001 %\n",
            "Sparsity in conv1.weight: 7.41%\n",
            "Sparsity in conv2.weight: 23.50%\n",
            "Sparsity in fc1.weight: 54.61%\n",
            "Sparsity in fc2.weight: 38.69%\n",
            "Sparsity in fc3.weight: 23.69%\n",
            "Global sparsity: 51.00%\n",
            "Fine-tuning...\n",
            "Model training for hyperparamethers batch size = 100, learning rate alpha = 0.001\n",
            "Test Accuracy of the model on the 10000 test images: 98.77 %\n",
            "Sparsity in conv1.weight: 7.41%\n",
            "Sparsity in conv2.weight: 23.50%\n",
            "Sparsity in fc1.weight: 54.61%\n",
            "Sparsity in fc2.weight: 38.69%\n",
            "Sparsity in fc3.weight: 23.69%\n",
            "Global sparsity: 51.00%\n",
            "resutls_ap_1:  {'conv1': [0.014520242810249329, 0.021731602028012276, 0.02178838849067688, 0.028156379237771034], 'conv2': [0.006623297464102507, 0.009187930263578892, 0.009229331277310848, 0.011379564180970192], 'fc1': [0.0016766437329351902, 0.0028713811188936234, 0.0028983866795897484, 0.003848389955237508], 'fc2': [0.001458819955587387, 0.0026928142178803682, 0.002756650559604168, 0.00390223553404212], 'fc3': [0.0022993129678070545, 0.004427704028785229, 0.0044639743864536285, 0.0068387798964977264]}\n",
            "iterative_accs_bft_1:  {0.0: 0.9855}\n",
            "iterative_accs_aft_1:  {29.999331528460175: 0.987, 50.99936495203717: 0.9877}\n",
            "iterative_accs_1:  {29.999331528460175: [0.9857], 50.99936495203717: [0.9855]}\n",
            "resutls_bp_1:  {'conv1': 1.2610469468654628e-07, 'conv2': -1.2345714139883057e-07, 'fc1': 2.5747195309122617e-07, 'fc2': -3.3785028108468396e-07, 'fc3': 2.0019388102809899e-07}\n",
            "Test Accuracy of the model on the 10000 test images: 98.5 %\n",
            "Sparsity in conv1.weight: 9.26%\n",
            "Sparsity in conv2.weight: 31.83%\n",
            "Sparsity in fc1.weight: 68.71%\n",
            "Sparsity in fc2.weight: 57.13%\n",
            "Sparsity in fc3.weight: 35.12%\n",
            "Global sparsity: 65.70%\n",
            "Fine-tuning...\n",
            "Model training for hyperparamethers batch size = 100, learning rate alpha = 0.001\n",
            "Test Accuracy of the model on the 10000 test images: 98.83999999999999 %\n",
            "Sparsity in conv1.weight: 9.26%\n",
            "Sparsity in conv2.weight: 31.83%\n",
            "Sparsity in fc1.weight: 68.71%\n",
            "Sparsity in fc2.weight: 57.13%\n",
            "Sparsity in fc3.weight: 35.12%\n",
            "Global sparsity: 65.70%\n",
            "resutls_ap_2:  {'conv1': [0.014520242810249329, 0.021731602028012276, 0.02178838849067688, 0.028156379237771034, 0.028242867439985275, 0.03372674807906151], 'conv2': [0.006623297464102507, 0.009187930263578892, 0.009229331277310848, 0.011379564180970192, 0.011415067128837109, 0.013166315853595734], 'fc1': [0.0016766437329351902, 0.0028713811188936234, 0.0028983866795897484, 0.003848389955237508, 0.003794843563809991, 0.0043817684054374695], 'fc2': [0.001458819955587387, 0.0026928142178803682, 0.002756650559604168, 0.00390223553404212, 0.00407828064635396, 0.004979951307177544], 'fc3': [0.0022993129678070545, 0.004427704028785229, 0.0044639743864536285, 0.0068387798964977264, 0.006896171718835831, 0.009076984599232674]}\n",
            "iterative_accs_bft_2:  {0.0: 0.985}\n",
            "iterative_accs_aft_2:  {29.999331528460175: 0.987, 50.99936495203717: 0.9877, 65.69905411277115: 0.9884}\n",
            "iterative_accs_2:  {29.999331528460175: [0.9857], 50.99936495203717: [0.9855], 65.69905411277115: [0.985]}\n",
            "resutls_bp_2:  {'conv1': 1.2610469468654628e-07, 'conv2': -1.2345714139883057e-07, 'fc1': 2.5747195309122617e-07, 'fc2': -3.3785028108468396e-07, 'fc3': 2.0019388102809899e-07}\n",
            "Test Accuracy of the model on the 10000 test images: 97.32 %\n",
            "Sparsity in conv1.weight: 12.96%\n",
            "Sparsity in conv2.weight: 44.56%\n",
            "Sparsity in fc1.weight: 78.15%\n",
            "Sparsity in fc2.weight: 71.14%\n",
            "Sparsity in fc3.weight: 47.38%\n",
            "Global sparsity: 75.99%\n",
            "Fine-tuning...\n",
            "Model training for hyperparamethers batch size = 100, learning rate alpha = 0.001\n",
            "Test Accuracy of the model on the 10000 test images: 98.95 %\n",
            "Sparsity in conv1.weight: 12.96%\n",
            "Sparsity in conv2.weight: 44.56%\n",
            "Sparsity in fc1.weight: 78.15%\n",
            "Sparsity in fc2.weight: 71.14%\n",
            "Sparsity in fc3.weight: 47.38%\n",
            "Global sparsity: 75.99%\n",
            "resutls_ap_3:  {'conv1': [0.014520242810249329, 0.021731602028012276, 0.02178838849067688, 0.028156379237771034, 0.028242867439985275, 0.03372674807906151, 0.03358001261949539, 0.04002032428979874], 'conv2': [0.006623297464102507, 0.009187930263578892, 0.009229331277310848, 0.011379564180970192, 0.011415067128837109, 0.013166315853595734, 0.01313813030719757, 0.014651775360107422], 'fc1': [0.0016766437329351902, 0.0028713811188936234, 0.0028983866795897484, 0.003848389955237508, 0.003794843563809991, 0.0043817684054374695, 0.004138874355703592, 0.0045145354233682156], 'fc2': [0.001458819955587387, 0.0026928142178803682, 0.002756650559604168, 0.00390223553404212, 0.00407828064635396, 0.004979951307177544, 0.005059539806097746, 0.005699080880731344], 'fc3': [0.0022993129678070545, 0.004427704028785229, 0.0044639743864536285, 0.0068387798964977264, 0.006896171718835831, 0.009076984599232674, 0.009088223800063133, 0.011141227558255196]}\n",
            "iterative_accs_bft_3:  {0.0: 0.9732}\n",
            "iterative_accs_aft_3:  {29.999331528460175: 0.987, 50.99936495203717: 0.9877, 65.69905411277115: 0.9884, 75.99017346836459: 0.9895}\n",
            "iterative_accs_3:  {29.999331528460175: [0.9857], 50.99936495203717: [0.9855], 65.69905411277115: [0.985], 75.99017346836459: [0.9732]}\n",
            "resutls_bp_3:  {'conv1': 1.2610469468654628e-07, 'conv2': -1.2345714139883057e-07, 'fc1': 2.5747195309122617e-07, 'fc2': -3.3785028108468396e-07, 'fc3': 2.0019388102809899e-07}\n",
            "Test Accuracy of the model on the 10000 test images: 96.24000000000001 %\n",
            "Sparsity in conv1.weight: 18.52%\n",
            "Sparsity in conv2.weight: 55.21%\n",
            "Sparsity in fc1.weight: 85.11%\n",
            "Sparsity in fc2.weight: 78.95%\n",
            "Sparsity in fc3.weight: 57.62%\n",
            "Global sparsity: 83.19%\n",
            "Fine-tuning...\n",
            "Model training for hyperparamethers batch size = 100, learning rate alpha = 0.001\n",
            "Test Accuracy of the model on the 10000 test images: 98.76 %\n",
            "Sparsity in conv1.weight: 18.52%\n",
            "Sparsity in conv2.weight: 55.21%\n",
            "Sparsity in fc1.weight: 85.11%\n",
            "Sparsity in fc2.weight: 78.95%\n",
            "Sparsity in fc3.weight: 57.62%\n",
            "Global sparsity: 83.19%\n",
            "resutls_ap_4:  {'conv1': [0.014520242810249329, 0.021731602028012276, 0.02178838849067688, 0.028156379237771034, 0.028242867439985275, 0.03372674807906151, 0.03358001261949539, 0.04002032428979874, 0.040963005274534225, 0.048695579171180725], 'conv2': [0.006623297464102507, 0.009187930263578892, 0.009229331277310848, 0.011379564180970192, 0.011415067128837109, 0.013166315853595734, 0.01313813030719757, 0.014651775360107422, 0.01440126821398735, 0.016067447140812874], 'fc1': [0.0016766437329351902, 0.0028713811188936234, 0.0028983866795897484, 0.003848389955237508, 0.003794843563809991, 0.0043817684054374695, 0.004138874355703592, 0.0045145354233682156, 0.004099366255104542, 0.004540764726698399], 'fc2': [0.001458819955587387, 0.0026928142178803682, 0.002756650559604168, 0.00390223553404212, 0.00407828064635396, 0.004979951307177544, 0.005059539806097746, 0.005699080880731344, 0.00553695997223258, 0.0063589196652174], 'fc3': [0.0022993129678070545, 0.004427704028785229, 0.0044639743864536285, 0.0068387798964977264, 0.006896171718835831, 0.009076984599232674, 0.009088223800063133, 0.011141227558255196, 0.010911311954259872, 0.01343938522040844]}\n",
            "iterative_accs_bft_4:  {0.0: 0.9624}\n",
            "iterative_accs_aft_4:  {29.999331528460175: 0.987, 50.99936495203717: 0.9877, 65.69905411277115: 0.9884, 75.99017346836459: 0.9895, 83.19295430997025: 0.9876}\n",
            "iterative_accs_4:  {29.999331528460175: [0.9857], 50.99936495203717: [0.9855], 65.69905411277115: [0.985], 75.99017346836459: [0.9732], 83.19295430997025: [0.9624]}\n",
            "resutls_bp_4:  {'conv1': 1.2610469468654628e-07, 'conv2': -1.2345714139883057e-07, 'fc1': 2.5747195309122617e-07, 'fc2': -3.3785028108468396e-07, 'fc3': 2.0019388102809899e-07}\n",
            "Test Accuracy of the model on the 10000 test images: 94.17999999999999 %\n",
            "Sparsity in conv1.weight: 20.37%\n",
            "Sparsity in conv2.weight: 63.54%\n",
            "Sparsity in fc1.weight: 89.97%\n",
            "Sparsity in fc2.weight: 84.38%\n",
            "Sparsity in fc3.weight: 65.36%\n",
            "Global sparsity: 88.23%\n",
            "Fine-tuning...\n",
            "Model training for hyperparamethers batch size = 100, learning rate alpha = 0.001\n",
            "Test Accuracy of the model on the 10000 test images: 98.75 %\n",
            "Sparsity in conv1.weight: 20.37%\n",
            "Sparsity in conv2.weight: 63.54%\n",
            "Sparsity in fc1.weight: 89.97%\n",
            "Sparsity in fc2.weight: 84.38%\n",
            "Sparsity in fc3.weight: 65.36%\n",
            "Global sparsity: 88.23%\n",
            "resutls_ap_5:  {'conv1': [0.014520242810249329, 0.021731602028012276, 0.02178838849067688, 0.028156379237771034, 0.028242867439985275, 0.03372674807906151, 0.03358001261949539, 0.04002032428979874, 0.040963005274534225, 0.048695579171180725, 0.04787135496735573, 0.05709967762231827], 'conv2': [0.006623297464102507, 0.009187930263578892, 0.009229331277310848, 0.011379564180970192, 0.011415067128837109, 0.013166315853595734, 0.01313813030719757, 0.014651775360107422, 0.01440126821398735, 0.016067447140812874, 0.01566392183303833, 0.018003029748797417], 'fc1': [0.0016766437329351902, 0.0028713811188936234, 0.0028983866795897484, 0.003848389955237508, 0.003794843563809991, 0.0043817684054374695, 0.004138874355703592, 0.0045145354233682156, 0.004099366255104542, 0.004540764726698399, 0.004042518325150013, 0.004578420892357826], 'fc2': [0.001458819955587387, 0.0026928142178803682, 0.002756650559604168, 0.00390223553404212, 0.00407828064635396, 0.004979951307177544, 0.005059539806097746, 0.005699080880731344, 0.00553695997223258, 0.0063589196652174, 0.006053823046386242, 0.0070455484092235565], 'fc3': [0.0022993129678070545, 0.004427704028785229, 0.0044639743864536285, 0.0068387798964977264, 0.006896171718835831, 0.009076984599232674, 0.009088223800063133, 0.011141227558255196, 0.010911311954259872, 0.01343938522040844, 0.01289336010813713, 0.015938209369778633]}\n",
            "iterative_accs_bft_5:  {0.0: 0.9418}\n",
            "iterative_accs_aft_5:  {29.999331528460175: 0.987, 50.99936495203717: 0.9877, 65.69905411277115: 0.9884, 75.99017346836459: 0.9895, 83.19295430997025: 0.9876, 88.23490089909423: 0.9875}\n",
            "iterative_accs_5:  {29.999331528460175: [0.9857], 50.99936495203717: [0.9855], 65.69905411277115: [0.985], 75.99017346836459: [0.9732], 83.19295430997025: [0.9624], 88.23490089909423: [0.9418]}\n",
            "resutls_bp_5:  {'conv1': 1.2610469468654628e-07, 'conv2': -1.2345714139883057e-07, 'fc1': 2.5747195309122617e-07, 'fc2': -3.3785028108468396e-07, 'fc3': 2.0019388102809899e-07}\n",
            "Test Accuracy of the model on the 10000 test images: 92.05 %\n",
            "Sparsity in conv1.weight: 25.93%\n",
            "Sparsity in conv2.weight: 70.49%\n",
            "Sparsity in fc1.weight: 93.27%\n",
            "Sparsity in fc2.weight: 88.57%\n",
            "Sparsity in fc3.weight: 70.36%\n",
            "Global sparsity: 91.76%\n",
            "Fine-tuning...\n",
            "Model training for hyperparamethers batch size = 100, learning rate alpha = 0.001\n",
            "Test Accuracy of the model on the 10000 test images: 98.69 %\n",
            "Sparsity in conv1.weight: 25.93%\n",
            "Sparsity in conv2.weight: 70.49%\n",
            "Sparsity in fc1.weight: 93.27%\n",
            "Sparsity in fc2.weight: 88.57%\n",
            "Sparsity in fc3.weight: 70.36%\n",
            "Global sparsity: 91.76%\n",
            "resutls_ap_6:  {'conv1': [0.014520242810249329, 0.021731602028012276, 0.02178838849067688, 0.028156379237771034, 0.028242867439985275, 0.03372674807906151, 0.03358001261949539, 0.04002032428979874, 0.040963005274534225, 0.048695579171180725, 0.04787135496735573, 0.05709967762231827, 0.05720959231257439, 0.0672386959195137], 'conv2': [0.006623297464102507, 0.009187930263578892, 0.009229331277310848, 0.011379564180970192, 0.011415067128837109, 0.013166315853595734, 0.01313813030719757, 0.014651775360107422, 0.01440126821398735, 0.016067447140812874, 0.01566392183303833, 0.018003029748797417, 0.017201373353600502, 0.019057622179389], 'fc1': [0.0016766437329351902, 0.0028713811188936234, 0.0028983866795897484, 0.003848389955237508, 0.003794843563809991, 0.0043817684054374695, 0.004138874355703592, 0.0045145354233682156, 0.004099366255104542, 0.004540764726698399, 0.004042518325150013, 0.004578420892357826, 0.004066103138029575, 0.004442316014319658], 'fc2': [0.001458819955587387, 0.0026928142178803682, 0.002756650559604168, 0.00390223553404212, 0.00407828064635396, 0.004979951307177544, 0.005059539806097746, 0.005699080880731344, 0.00553695997223258, 0.0063589196652174, 0.006053823046386242, 0.0070455484092235565, 0.006631096359342337, 0.007638805545866489], 'fc3': [0.0022993129678070545, 0.004427704028785229, 0.0044639743864536285, 0.0068387798964977264, 0.006896171718835831, 0.009076984599232674, 0.009088223800063133, 0.011141227558255196, 0.010911311954259872, 0.01343938522040844, 0.01289336010813713, 0.015938209369778633, 0.015496987849473953, 0.018942739814519882]}\n",
            "iterative_accs_bft_6:  {0.0: 0.9205}\n",
            "iterative_accs_aft_6:  {29.999331528460175: 0.987, 50.99936495203717: 0.9877, 65.69905411277115: 0.9884, 75.99017346836459: 0.9895, 83.19295430997025: 0.9876, 88.23490089909423: 0.9875, 91.76443062936596: 0.9869}\n",
            "iterative_accs_6:  {29.999331528460175: [0.9857], 50.99936495203717: [0.9855], 65.69905411277115: [0.985], 75.99017346836459: [0.9732], 83.19295430997025: [0.9624], 88.23490089909423: [0.9418], 91.76443062936596: [0.9205]}\n",
            "resutls_bp_6:  {'conv1': 1.2610469468654628e-07, 'conv2': -1.2345714139883057e-07, 'fc1': 2.5747195309122617e-07, 'fc2': -3.3785028108468396e-07, 'fc3': 2.0019388102809899e-07}\n",
            "Test Accuracy of the model on the 10000 test images: 92.95 %\n",
            "Sparsity in conv1.weight: 29.63%\n",
            "Sparsity in conv2.weight: 76.16%\n",
            "Sparsity in fc1.weight: 95.51%\n",
            "Sparsity in fc2.weight: 91.67%\n",
            "Sparsity in fc3.weight: 75.00%\n",
            "Global sparsity: 94.23%\n",
            "Fine-tuning...\n",
            "Model training for hyperparamethers batch size = 100, learning rate alpha = 0.001\n",
            "Test Accuracy of the model on the 10000 test images: 98.72 %\n",
            "Sparsity in conv1.weight: 29.63%\n",
            "Sparsity in conv2.weight: 76.16%\n",
            "Sparsity in fc1.weight: 95.51%\n",
            "Sparsity in fc2.weight: 91.67%\n",
            "Sparsity in fc3.weight: 75.00%\n",
            "Global sparsity: 94.23%\n",
            "resutls_ap_7:  {'conv1': [0.014520242810249329, 0.021731602028012276, 0.02178838849067688, 0.028156379237771034, 0.028242867439985275, 0.03372674807906151, 0.03358001261949539, 0.04002032428979874, 0.040963005274534225, 0.048695579171180725, 0.04787135496735573, 0.05709967762231827, 0.05720959231257439, 0.0672386959195137, 0.06799940019845963, 0.0798938199877739], 'conv2': [0.006623297464102507, 0.009187930263578892, 0.009229331277310848, 0.011379564180970192, 0.011415067128837109, 0.013166315853595734, 0.01313813030719757, 0.014651775360107422, 0.01440126821398735, 0.016067447140812874, 0.01566392183303833, 0.018003029748797417, 0.017201373353600502, 0.019057622179389, 0.018228480592370033, 0.019970519468188286], 'fc1': [0.0016766437329351902, 0.0028713811188936234, 0.0028983866795897484, 0.003848389955237508, 0.003794843563809991, 0.0043817684054374695, 0.004138874355703592, 0.0045145354233682156, 0.004099366255104542, 0.004540764726698399, 0.004042518325150013, 0.004578420892357826, 0.004066103138029575, 0.004442316014319658, 0.003918159753084183, 0.004178452771157026], 'fc2': [0.001458819955587387, 0.0026928142178803682, 0.002756650559604168, 0.00390223553404212, 0.00407828064635396, 0.004979951307177544, 0.005059539806097746, 0.005699080880731344, 0.00553695997223258, 0.0063589196652174, 0.006053823046386242, 0.0070455484092235565, 0.006631096359342337, 0.007638805545866489, 0.0071565802209079266, 0.00812305137515068], 'fc3': [0.0022993129678070545, 0.004427704028785229, 0.0044639743864536285, 0.0068387798964977264, 0.006896171718835831, 0.009076984599232674, 0.009088223800063133, 0.011141227558255196, 0.010911311954259872, 0.01343938522040844, 0.01289336010813713, 0.015938209369778633, 0.015496987849473953, 0.018942739814519882, 0.018236905336380005, 0.02140682190656662]}\n",
            "iterative_accs_bft_7:  {0.0: 0.9295}\n",
            "iterative_accs_aft_7:  {29.999331528460175: 0.987, 50.99936495203717: 0.9877, 65.69905411277115: 0.9884, 75.99017346836459: 0.9895, 83.19295430997025: 0.9876, 88.23490089909423: 0.9875, 91.76443062936596: 0.9869, 94.23443296901634: 0.9872}\n",
            "iterative_accs_7:  {29.999331528460175: [0.9857], 50.99936495203717: [0.9855], 65.69905411277115: [0.985], 75.99017346836459: [0.9732], 83.19295430997025: [0.9624], 88.23490089909423: [0.9418], 91.76443062936596: [0.9205], 94.23443296901634: [0.9295]}\n",
            "resutls_bp_7:  {'conv1': 1.2610469468654628e-07, 'conv2': -1.2345714139883057e-07, 'fc1': 2.5747195309122617e-07, 'fc2': -3.3785028108468396e-07, 'fc3': 2.0019388102809899e-07}\n",
            "Test Accuracy of the model on the 10000 test images: 76.14999999999999 %\n",
            "Sparsity in conv1.weight: 38.89%\n",
            "Sparsity in conv2.weight: 82.29%\n",
            "Sparsity in fc1.weight: 96.96%\n",
            "Sparsity in fc2.weight: 94.16%\n",
            "Sparsity in fc3.weight: 78.45%\n",
            "Global sparsity: 95.96%\n",
            "Fine-tuning...\n",
            "Model training for hyperparamethers batch size = 100, learning rate alpha = 0.001\n",
            "Test Accuracy of the model on the 10000 test images: 98.39 %\n",
            "Sparsity in conv1.weight: 38.89%\n",
            "Sparsity in conv2.weight: 82.29%\n",
            "Sparsity in fc1.weight: 96.96%\n",
            "Sparsity in fc2.weight: 94.16%\n",
            "Sparsity in fc3.weight: 78.45%\n",
            "Global sparsity: 95.96%\n",
            "resutls_ap_8:  {'conv1': [0.014520242810249329, 0.021731602028012276, 0.02178838849067688, 0.028156379237771034, 0.028242867439985275, 0.03372674807906151, 0.03358001261949539, 0.04002032428979874, 0.040963005274534225, 0.048695579171180725, 0.04787135496735573, 0.05709967762231827, 0.05720959231257439, 0.0672386959195137, 0.06799940019845963, 0.0798938199877739, 0.07695223391056061, 0.09204967319965363], 'conv2': [0.006623297464102507, 0.009187930263578892, 0.009229331277310848, 0.011379564180970192, 0.011415067128837109, 0.013166315853595734, 0.01313813030719757, 0.014651775360107422, 0.01440126821398735, 0.016067447140812874, 0.01566392183303833, 0.018003029748797417, 0.017201373353600502, 0.019057622179389, 0.018228480592370033, 0.019970519468188286, 0.01852610893547535, 0.020126746967434883], 'fc1': [0.0016766437329351902, 0.0028713811188936234, 0.0028983866795897484, 0.003848389955237508, 0.003794843563809991, 0.0043817684054374695, 0.004138874355703592, 0.0045145354233682156, 0.004099366255104542, 0.004540764726698399, 0.004042518325150013, 0.004578420892357826, 0.004066103138029575, 0.004442316014319658, 0.003918159753084183, 0.004178452771157026, 0.0036915780510753393, 0.0039003873243927956], 'fc2': [0.001458819955587387, 0.0026928142178803682, 0.002756650559604168, 0.00390223553404212, 0.00407828064635396, 0.004979951307177544, 0.005059539806097746, 0.005699080880731344, 0.00553695997223258, 0.0063589196652174, 0.006053823046386242, 0.0070455484092235565, 0.006631096359342337, 0.007638805545866489, 0.0071565802209079266, 0.00812305137515068, 0.007476543076336384, 0.008549228310585022], 'fc3': [0.0022993129678070545, 0.004427704028785229, 0.0044639743864536285, 0.0068387798964977264, 0.006896171718835831, 0.009076984599232674, 0.009088223800063133, 0.011141227558255196, 0.010911311954259872, 0.01343938522040844, 0.01289336010813713, 0.015938209369778633, 0.015496987849473953, 0.018942739814519882, 0.018236905336380005, 0.02140682190656662, 0.020637402310967445, 0.024459579959511757]}\n",
            "iterative_accs_bft_8:  {0.0: 0.7615}\n",
            "iterative_accs_aft_8:  {29.999331528460175: 0.987, 50.99936495203717: 0.9877, 65.69905411277115: 0.9884, 75.99017346836459: 0.9895, 83.19295430997025: 0.9876, 88.23490089909423: 0.9875, 91.76443062936596: 0.9869, 94.23443296901634: 0.9872, 95.96410307831144: 0.9839}\n",
            "iterative_accs_8:  {29.999331528460175: [0.9857], 50.99936495203717: [0.9855], 65.69905411277115: [0.985], 75.99017346836459: [0.9732], 83.19295430997025: [0.9624], 88.23490089909423: [0.9418], 91.76443062936596: [0.9205], 94.23443296901634: [0.9295], 95.96410307831144: [0.7615]}\n",
            "resutls_bp_8:  {'conv1': 1.2610469468654628e-07, 'conv2': -1.2345714139883057e-07, 'fc1': 2.5747195309122617e-07, 'fc2': -3.3785028108468396e-07, 'fc3': 2.0019388102809899e-07}\n",
            "Test Accuracy of the model on the 10000 test images: 88.28 %\n",
            "Sparsity in conv1.weight: 42.59%\n",
            "Sparsity in conv2.weight: 86.34%\n",
            "Sparsity in fc1.weight: 97.97%\n",
            "Sparsity in fc2.weight: 95.95%\n",
            "Sparsity in fc3.weight: 80.83%\n",
            "Global sparsity: 97.17%\n",
            "Fine-tuning...\n",
            "Model training for hyperparamethers batch size = 100, learning rate alpha = 0.001\n",
            "Test Accuracy of the model on the 10000 test images: 98.45 %\n",
            "Sparsity in conv1.weight: 42.59%\n",
            "Sparsity in conv2.weight: 86.34%\n",
            "Sparsity in fc1.weight: 97.97%\n",
            "Sparsity in fc2.weight: 95.95%\n",
            "Sparsity in fc3.weight: 80.83%\n",
            "Global sparsity: 97.17%\n",
            "resutls_ap_9:  {'conv1': [0.014520242810249329, 0.021731602028012276, 0.02178838849067688, 0.028156379237771034, 0.028242867439985275, 0.03372674807906151, 0.03358001261949539, 0.04002032428979874, 0.040963005274534225, 0.048695579171180725, 0.04787135496735573, 0.05709967762231827, 0.05720959231257439, 0.0672386959195137, 0.06799940019845963, 0.0798938199877739, 0.07695223391056061, 0.09204967319965363, 0.09259925782680511, 0.10468828678131104], 'conv2': [0.006623297464102507, 0.009187930263578892, 0.009229331277310848, 0.011379564180970192, 0.011415067128837109, 0.013166315853595734, 0.01313813030719757, 0.014651775360107422, 0.01440126821398735, 0.016067447140812874, 0.01566392183303833, 0.018003029748797417, 0.017201373353600502, 0.019057622179389, 0.018228480592370033, 0.019970519468188286, 0.01852610893547535, 0.020126746967434883, 0.018907105550169945, 0.02074310928583145], 'fc1': [0.0016766437329351902, 0.0028713811188936234, 0.0028983866795897484, 0.003848389955237508, 0.003794843563809991, 0.0043817684054374695, 0.004138874355703592, 0.0045145354233682156, 0.004099366255104542, 0.004540764726698399, 0.004042518325150013, 0.004578420892357826, 0.004066103138029575, 0.004442316014319658, 0.003918159753084183, 0.004178452771157026, 0.0036915780510753393, 0.0039003873243927956, 0.0034271953627467155, 0.0036998556461185217], 'fc2': [0.001458819955587387, 0.0026928142178803682, 0.002756650559604168, 0.00390223553404212, 0.00407828064635396, 0.004979951307177544, 0.005059539806097746, 0.005699080880731344, 0.00553695997223258, 0.0063589196652174, 0.006053823046386242, 0.0070455484092235565, 0.006631096359342337, 0.007638805545866489, 0.0071565802209079266, 0.00812305137515068, 0.007476543076336384, 0.008549228310585022, 0.007924050092697144, 0.008861405774950981], 'fc3': [0.0022993129678070545, 0.004427704028785229, 0.0044639743864536285, 0.0068387798964977264, 0.006896171718835831, 0.009076984599232674, 0.009088223800063133, 0.011141227558255196, 0.010911311954259872, 0.01343938522040844, 0.01289336010813713, 0.015938209369778633, 0.015496987849473953, 0.018942739814519882, 0.018236905336380005, 0.02140682190656662, 0.020637402310967445, 0.024459579959511757, 0.023709993809461594, 0.026466112583875656]}\n",
            "iterative_accs_bft_9:  {0.0: 0.8828}\n",
            "iterative_accs_aft_9:  {29.999331528460175: 0.987, 50.99936495203717: 0.9877, 65.69905411277115: 0.9884, 75.99017346836459: 0.9895, 83.19295430997025: 0.9876, 88.23490089909423: 0.9875, 91.76443062936596: 0.9869, 94.23443296901634: 0.9872, 95.96410307831144: 0.9839, 97.17403656539322: 0.9845}\n",
            "iterative_accs_9:  {29.999331528460175: [0.9857], 50.99936495203717: [0.9855], 65.69905411277115: [0.985], 75.99017346836459: [0.9732], 83.19295430997025: [0.9624], 88.23490089909423: [0.9418], 91.76443062936596: [0.9205], 94.23443296901634: [0.9295], 95.96410307831144: [0.7615], 97.17403656539322: [0.8828]}\n",
            "resutls_bp_9:  {'conv1': 1.2610469468654628e-07, 'conv2': -1.2345714139883057e-07, 'fc1': 2.5747195309122617e-07, 'fc2': -3.3785028108468396e-07, 'fc3': 2.0019388102809899e-07}\n"
          ]
        }
      ]
    },
    {
      "cell_type": "code",
      "source": [
        "results_ap_df = pd.DataFrame.from_dict(results_ap)\n",
        "results_ap_df.to_csv('results_ap_df.csv')"
      ],
      "metadata": {
        "id": "-2ppooEaarYp"
      },
      "execution_count": null,
      "outputs": []
    },
    {
      "cell_type": "code",
      "source": [
        "iterative_accs_bft"
      ],
      "metadata": {
        "colab": {
          "base_uri": "https://localhost:8080/"
        },
        "id": "Om9LqwBCaS5E",
        "outputId": "fac805dd-94e4-468f-e210-bfc0279a55b3"
      },
      "execution_count": null,
      "outputs": [
        {
          "output_type": "execute_result",
          "data": {
            "text/plain": [
              "{0.0: 0.8828}"
            ]
          },
          "metadata": {},
          "execution_count": 15
        }
      ]
    },
    {
      "cell_type": "code",
      "source": [
        "iterative_accs_aft"
      ],
      "metadata": {
        "colab": {
          "base_uri": "https://localhost:8080/"
        },
        "id": "Dc73xxxAaS2A",
        "outputId": "9198a40e-5945-4474-e5c1-3860e6a102c5"
      },
      "execution_count": null,
      "outputs": [
        {
          "output_type": "execute_result",
          "data": {
            "text/plain": [
              "{29.999331528460175: 0.987,\n",
              " 50.99936495203717: 0.9877,\n",
              " 65.69905411277115: 0.9884,\n",
              " 75.99017346836459: 0.9895,\n",
              " 83.19295430997025: 0.9876,\n",
              " 88.23490089909423: 0.9875,\n",
              " 91.76443062936596: 0.9869,\n",
              " 94.23443296901634: 0.9872,\n",
              " 95.96410307831144: 0.9839,\n",
              " 97.17403656539322: 0.9845}"
            ]
          },
          "metadata": {},
          "execution_count": 16
        }
      ]
    },
    {
      "cell_type": "code",
      "metadata": {
        "id": "tVfADQBXRgB5",
        "colab": {
          "base_uri": "https://localhost:8080/"
        },
        "outputId": "150f0480-f8d4-47b4-e3a6-2ac2f8901d7e"
      },
      "source": [
        "iterative_accs"
      ],
      "execution_count": null,
      "outputs": [
        {
          "output_type": "execute_result",
          "data": {
            "text/plain": [
              "{29.999331528460175: [0.9857],\n",
              " 50.99936495203717: [0.9855],\n",
              " 65.69905411277115: [0.985],\n",
              " 75.99017346836459: [0.9732],\n",
              " 83.19295430997025: [0.9624],\n",
              " 88.23490089909423: [0.9418],\n",
              " 91.76443062936596: [0.9205],\n",
              " 94.23443296901634: [0.9295],\n",
              " 95.96410307831144: [0.7615],\n",
              " 97.17403656539322: [0.8828]}"
            ]
          },
          "metadata": {},
          "execution_count": 17
        }
      ]
    },
    {
      "cell_type": "code",
      "source": [
        "results_bp"
      ],
      "metadata": {
        "colab": {
          "base_uri": "https://localhost:8080/"
        },
        "id": "0Ot7kw22t3Rq",
        "outputId": "3ad0cf78-4787-4d48-c94c-b25d15b2d5dd"
      },
      "execution_count": null,
      "outputs": [
        {
          "output_type": "execute_result",
          "data": {
            "text/plain": [
              "{'conv1': 1.2610469468654628e-07,\n",
              " 'conv2': -1.2345714139883057e-07,\n",
              " 'fc1': 2.5747195309122617e-07,\n",
              " 'fc2': -3.3785028108468396e-07,\n",
              " 'fc3': 2.0019388102809899e-07}"
            ]
          },
          "metadata": {},
          "execution_count": 18
        }
      ]
    },
    {
      "cell_type": "code",
      "source": [
        "results_ap"
      ],
      "metadata": {
        "colab": {
          "base_uri": "https://localhost:8080/"
        },
        "id": "fsuewL8ct3Ik",
        "outputId": "d754c474-1fe3-4cd1-886d-a51ef5b5e6b2"
      },
      "execution_count": null,
      "outputs": [
        {
          "output_type": "execute_result",
          "data": {
            "text/plain": [
              "{'conv1': [0.014520242810249329,\n",
              "  0.021731602028012276,\n",
              "  0.02178838849067688,\n",
              "  0.028156379237771034,\n",
              "  0.028242867439985275,\n",
              "  0.03372674807906151,\n",
              "  0.03358001261949539,\n",
              "  0.04002032428979874,\n",
              "  0.040963005274534225,\n",
              "  0.048695579171180725,\n",
              "  0.04787135496735573,\n",
              "  0.05709967762231827,\n",
              "  0.05720959231257439,\n",
              "  0.0672386959195137,\n",
              "  0.06799940019845963,\n",
              "  0.0798938199877739,\n",
              "  0.07695223391056061,\n",
              "  0.09204967319965363,\n",
              "  0.09259925782680511,\n",
              "  0.10468828678131104],\n",
              " 'conv2': [0.006623297464102507,\n",
              "  0.009187930263578892,\n",
              "  0.009229331277310848,\n",
              "  0.011379564180970192,\n",
              "  0.011415067128837109,\n",
              "  0.013166315853595734,\n",
              "  0.01313813030719757,\n",
              "  0.014651775360107422,\n",
              "  0.01440126821398735,\n",
              "  0.016067447140812874,\n",
              "  0.01566392183303833,\n",
              "  0.018003029748797417,\n",
              "  0.017201373353600502,\n",
              "  0.019057622179389,\n",
              "  0.018228480592370033,\n",
              "  0.019970519468188286,\n",
              "  0.01852610893547535,\n",
              "  0.020126746967434883,\n",
              "  0.018907105550169945,\n",
              "  0.02074310928583145],\n",
              " 'fc1': [0.0016766437329351902,\n",
              "  0.0028713811188936234,\n",
              "  0.0028983866795897484,\n",
              "  0.003848389955237508,\n",
              "  0.003794843563809991,\n",
              "  0.0043817684054374695,\n",
              "  0.004138874355703592,\n",
              "  0.0045145354233682156,\n",
              "  0.004099366255104542,\n",
              "  0.004540764726698399,\n",
              "  0.004042518325150013,\n",
              "  0.004578420892357826,\n",
              "  0.004066103138029575,\n",
              "  0.004442316014319658,\n",
              "  0.003918159753084183,\n",
              "  0.004178452771157026,\n",
              "  0.0036915780510753393,\n",
              "  0.0039003873243927956,\n",
              "  0.0034271953627467155,\n",
              "  0.0036998556461185217],\n",
              " 'fc2': [0.001458819955587387,\n",
              "  0.0026928142178803682,\n",
              "  0.002756650559604168,\n",
              "  0.00390223553404212,\n",
              "  0.00407828064635396,\n",
              "  0.004979951307177544,\n",
              "  0.005059539806097746,\n",
              "  0.005699080880731344,\n",
              "  0.00553695997223258,\n",
              "  0.0063589196652174,\n",
              "  0.006053823046386242,\n",
              "  0.0070455484092235565,\n",
              "  0.006631096359342337,\n",
              "  0.007638805545866489,\n",
              "  0.0071565802209079266,\n",
              "  0.00812305137515068,\n",
              "  0.007476543076336384,\n",
              "  0.008549228310585022,\n",
              "  0.007924050092697144,\n",
              "  0.008861405774950981],\n",
              " 'fc3': [0.0022993129678070545,\n",
              "  0.004427704028785229,\n",
              "  0.0044639743864536285,\n",
              "  0.0068387798964977264,\n",
              "  0.006896171718835831,\n",
              "  0.009076984599232674,\n",
              "  0.009088223800063133,\n",
              "  0.011141227558255196,\n",
              "  0.010911311954259872,\n",
              "  0.01343938522040844,\n",
              "  0.01289336010813713,\n",
              "  0.015938209369778633,\n",
              "  0.015496987849473953,\n",
              "  0.018942739814519882,\n",
              "  0.018236905336380005,\n",
              "  0.02140682190656662,\n",
              "  0.020637402310967445,\n",
              "  0.024459579959511757,\n",
              "  0.023709993809461594,\n",
              "  0.026466112583875656]}"
            ]
          },
          "metadata": {},
          "execution_count": 19
        }
      ]
    },
    {
      "cell_type": "code",
      "metadata": {
        "id": "6MmYNwLBko_f"
      },
      "source": [
        "iter_prune_per, iter_acc = list(iterative_accs.keys()), []\n",
        "for val in iterative_accs.values():\n",
        "  iter_acc.append(sum(val)/5)"
      ],
      "execution_count": null,
      "outputs": []
    },
    {
      "cell_type": "code",
      "metadata": {
        "id": "Ft-m9sttE0PN"
      },
      "source": [
        ""
      ],
      "execution_count": null,
      "outputs": []
    },
    {
      "cell_type": "code",
      "metadata": {
        "id": "_kYtPkm_k-t9"
      },
      "source": [
        ""
      ],
      "execution_count": null,
      "outputs": []
    },
    {
      "cell_type": "code",
      "metadata": {
        "colab": {
          "base_uri": "https://localhost:8080/",
          "height": 298
        },
        "id": "jCak9gUXYoiQ",
        "outputId": "45c0e1e9-ffdf-4b0b-def6-d543de5eeded"
      },
      "source": [
        "iter_accs_df = pd.DataFrame({'iter_prune_per': iter_prune_per, 'accuracy': iter_acc})\n",
        "fig = plt.figure()\n",
        "plt.xlabel('iter_prune_per')\n",
        "plt.ylabel('accuracy')\n",
        "plt.plot(iter_accs_df['iter_prune_per'], iter_accs_df['accuracy'])"
      ],
      "execution_count": null,
      "outputs": [
        {
          "output_type": "execute_result",
          "data": {
            "text/plain": [
              "[<matplotlib.lines.Line2D at 0x7fa61fde8650>]"
            ]
          },
          "metadata": {},
          "execution_count": 21
        },
        {
          "output_type": "display_data",
          "data": {
            "text/plain": [
              "<Figure size 432x288 with 1 Axes>"
            ],
            "image/png": "[encoded data removed]"
          },
          "metadata": {
            "needs_background": "light"
          }
        }
      ]
    },
    {
      "cell_type": "code",
      "source": [
        "iterative_accs_bft"
      ],
      "metadata": {
        "colab": {
          "base_uri": "https://localhost:8080/"
        },
        "id": "8iFcQIvMvtD8",
        "outputId": "7fed24e6-0a0e-43ed-de2b-9d6fa208b767"
      },
      "execution_count": null,
      "outputs": [
        {
          "output_type": "execute_result",
          "data": {
            "text/plain": [
              "{0.0: 0.8828}"
            ]
          },
          "metadata": {},
          "execution_count": 23
        }
      ]
    },
    {
      "cell_type": "code",
      "source": [
        "x = list(iterative_accs_aft.keys())\n",
        "y = list(iterative_accs_aft.values())\n",
        "plt.plot(x,y)"
      ],
      "metadata": {
        "id": "R6yuxkbEU9t2",
        "colab": {
          "base_uri": "https://localhost:8080/",
          "height": 282
        },
        "outputId": "883fa7be-3541-4af8-b03c-2f8566fec3dd"
      },
      "execution_count": null,
      "outputs": [
        {
          "output_type": "execute_result",
          "data": {
            "text/plain": [
              "[<matplotlib.lines.Line2D at 0x7fa61e27a6d0>]"
            ]
          },
          "metadata": {},
          "execution_count": 24
        },
        {
          "output_type": "display_data",
          "data": {
            "text/plain": [
              "<Figure size 432x288 with 1 Axes>"
            ],
            "image/png": "[encoded data removed]"
          },
          "metadata": {
            "needs_background": "light"
          }
        }
      ]
    },
    {
      "cell_type": "code",
      "source": [
        ""
      ],
      "metadata": {
        "id": "Ao7wsGVOU9rQ"
      },
      "execution_count": null,
      "outputs": []
    },
    {
      "cell_type": "code",
      "source": [
        ""
      ],
      "metadata": {
        "id": "54iouc_HU9o4"
      },
      "execution_count": null,
      "outputs": []
    },
    {
      "cell_type": "code",
      "source": [
        ""
      ],
      "metadata": {
        "id": "4zzy7HDrU9mf"
      },
      "execution_count": null,
      "outputs": []
    },
    {
      "cell_type": "code",
      "source": [
        ""
      ],
      "metadata": {
        "id": "DUsZq8_JU9jf"
      },
      "execution_count": null,
      "outputs": []
    }
  ]
}