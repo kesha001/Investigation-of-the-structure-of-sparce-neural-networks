{
  "nbformat": 4,
  "nbformat_minor": 0,
  "metadata": {
    "colab": {
      "name": "lenet5_distances_oneshot_mnist.ipynb",
      "provenance": [],
      "collapsed_sections": [
        "NXBpGXv7vTui",
        "Y7aJ6R_Ovcb6",
        "865-mF7wwa-c",
        "98uQeIuR56ch",
        "KLaiJZ2i62wZ"
      ],
      "authorship_tag": "ABX9TyMzRFgdcjYkZK08fAdELhkC"
    },
    "kernelspec": {
      "name": "python3",
      "display_name": "Python 3"
    },
    "language_info": {
      "name": "python"
    },
    "widgets": {
      "application/vnd.jupyter.widget-state+json": {
        "3f857112674841159c045c644a5c8d66": {
          "model_module": "@jupyter-widgets/controls",
          "model_name": "HBoxModel",
          "model_module_version": "1.5.0",
          "state": {
            "_view_name": "HBoxView",
            "_dom_classes": [],
            "_model_name": "HBoxModel",
            "_view_module": "@jupyter-widgets/controls",
            "_model_module_version": "1.5.0",
            "_view_count": null,
            "_view_module_version": "1.5.0",
            "box_style": "",
            "layout": "IPY_MODEL_1465f041960e40c69961ed958d4699c8",
            "_model_module": "@jupyter-widgets/controls",
            "children": [
              "IPY_MODEL_a1285b837e374424be88e48ddd9982d2",
              "IPY_MODEL_d0cd77db844c4263afe15fa15b71c845",
              "IPY_MODEL_2a8603e90c06400b895410ddd97cd1f2"
            ]
          }
        },
        "1465f041960e40c69961ed958d4699c8": {
          "model_module": "@jupyter-widgets/base",
          "model_name": "LayoutModel",
          "model_module_version": "1.2.0",
          "state": {
            "_view_name": "LayoutView",
            "grid_template_rows": null,
            "right": null,
            "justify_content": null,
            "_view_module": "@jupyter-widgets/base",
            "overflow": null,
            "_model_module_version": "1.2.0",
            "_view_count": null,
            "flex_flow": null,
            "width": null,
            "min_width": null,
            "border": null,
            "align_items": null,
            "bottom": null,
            "_model_module": "@jupyter-widgets/base",
            "top": null,
            "grid_column": null,
            "overflow_y": null,
            "overflow_x": null,
            "grid_auto_flow": null,
            "grid_area": null,
            "grid_template_columns": null,
            "flex": null,
            "_model_name": "LayoutModel",
            "justify_items": null,
            "grid_row": null,
            "max_height": null,
            "align_content": null,
            "visibility": null,
            "align_self": null,
            "height": null,
            "min_height": null,
            "padding": null,
            "grid_auto_rows": null,
            "grid_gap": null,
            "max_width": null,
            "order": null,
            "_view_module_version": "1.2.0",
            "grid_template_areas": null,
            "object_position": null,
            "object_fit": null,
            "grid_auto_columns": null,
            "margin": null,
            "display": null,
            "left": null
          }
        },
        "a1285b837e374424be88e48ddd9982d2": {
          "model_module": "@jupyter-widgets/controls",
          "model_name": "HTMLModel",
          "model_module_version": "1.5.0",
          "state": {
            "_view_name": "HTMLView",
            "style": "IPY_MODEL_5733c2d983b54aa980908618e30ce884",
            "_dom_classes": [],
            "description": "",
            "_model_name": "HTMLModel",
            "placeholder": "​",
            "_view_module": "@jupyter-widgets/controls",
            "_model_module_version": "1.5.0",
            "value": "",
            "_view_count": null,
            "_view_module_version": "1.5.0",
            "description_tooltip": null,
            "_model_module": "@jupyter-widgets/controls",
            "layout": "IPY_MODEL_ec31888fd8834234a6173a6e0f56e629"
          }
        },
        "d0cd77db844c4263afe15fa15b71c845": {
          "model_module": "@jupyter-widgets/controls",
          "model_name": "FloatProgressModel",
          "model_module_version": "1.5.0",
          "state": {
            "_view_name": "ProgressView",
            "style": "IPY_MODEL_c1b9cbdb6f2b4832909e164252db77a1",
            "_dom_classes": [],
            "description": "",
            "_model_name": "FloatProgressModel",
            "bar_style": "success",
            "max": 9912422,
            "_view_module": "@jupyter-widgets/controls",
            "_model_module_version": "1.5.0",
            "value": 9912422,
            "_view_count": null,
            "_view_module_version": "1.5.0",
            "orientation": "horizontal",
            "min": 0,
            "description_tooltip": null,
            "_model_module": "@jupyter-widgets/controls",
            "layout": "IPY_MODEL_e52be013dfaf41bf8f638d47364b9e89"
          }
        },
        "2a8603e90c06400b895410ddd97cd1f2": {
          "model_module": "@jupyter-widgets/controls",
          "model_name": "HTMLModel",
          "model_module_version": "1.5.0",
          "state": {
            "_view_name": "HTMLView",
            "style": "IPY_MODEL_c12cb0724f9247a993363db87e578ecc",
            "_dom_classes": [],
            "description": "",
            "_model_name": "HTMLModel",
            "placeholder": "​",
            "_view_module": "@jupyter-widgets/controls",
            "_model_module_version": "1.5.0",
            "value": " 9913344/? [00:00&lt;00:00, 22029148.14it/s]",
            "_view_count": null,
            "_view_module_version": "1.5.0",
            "description_tooltip": null,
            "_model_module": "@jupyter-widgets/controls",
            "layout": "IPY_MODEL_fea902f5a6514e91bc9cf44b1da7aaf1"
          }
        },
        "5733c2d983b54aa980908618e30ce884": {
          "model_module": "@jupyter-widgets/controls",
          "model_name": "DescriptionStyleModel",
          "model_module_version": "1.5.0",
          "state": {
            "_view_name": "StyleView",
            "_model_name": "DescriptionStyleModel",
            "description_width": "",
            "_view_module": "@jupyter-widgets/base",
            "_model_module_version": "1.5.0",
            "_view_count": null,
            "_view_module_version": "1.2.0",
            "_model_module": "@jupyter-widgets/controls"
          }
        },
        "ec31888fd8834234a6173a6e0f56e629": {
          "model_module": "@jupyter-widgets/base",
          "model_name": "LayoutModel",
          "model_module_version": "1.2.0",
          "state": {
            "_view_name": "LayoutView",
            "grid_template_rows": null,
            "right": null,
            "justify_content": null,
            "_view_module": "@jupyter-widgets/base",
            "overflow": null,
            "_model_module_version": "1.2.0",
            "_view_count": null,
            "flex_flow": null,
            "width": null,
            "min_width": null,
            "border": null,
            "align_items": null,
            "bottom": null,
            "_model_module": "@jupyter-widgets/base",
            "top": null,
            "grid_column": null,
            "overflow_y": null,
            "overflow_x": null,
            "grid_auto_flow": null,
            "grid_area": null,
            "grid_template_columns": null,
            "flex": null,
            "_model_name": "LayoutModel",
            "justify_items": null,
            "grid_row": null,
            "max_height": null,
            "align_content": null,
            "visibility": null,
            "align_self": null,
            "height": null,
            "min_height": null,
            "padding": null,
            "grid_auto_rows": null,
            "grid_gap": null,
            "max_width": null,
            "order": null,
            "_view_module_version": "1.2.0",
            "grid_template_areas": null,
            "object_position": null,
            "object_fit": null,
            "grid_auto_columns": null,
            "margin": null,
            "display": null,
            "left": null
          }
        },
        "c1b9cbdb6f2b4832909e164252db77a1": {
          "model_module": "@jupyter-widgets/controls",
          "model_name": "ProgressStyleModel",
          "model_module_version": "1.5.0",
          "state": {
            "_view_name": "StyleView",
            "_model_name": "ProgressStyleModel",
            "description_width": "",
            "_view_module": "@jupyter-widgets/base",
            "_model_module_version": "1.5.0",
            "_view_count": null,
            "_view_module_version": "1.2.0",
            "bar_color": null,
            "_model_module": "@jupyter-widgets/controls"
          }
        },
        "e52be013dfaf41bf8f638d47364b9e89": {
          "model_module": "@jupyter-widgets/base",
          "model_name": "LayoutModel",
          "model_module_version": "1.2.0",
          "state": {
            "_view_name": "LayoutView",
            "grid_template_rows": null,
            "right": null,
            "justify_content": null,
            "_view_module": "@jupyter-widgets/base",
            "overflow": null,
            "_model_module_version": "1.2.0",
            "_view_count": null,
            "flex_flow": null,
            "width": null,
            "min_width": null,
            "border": null,
            "align_items": null,
            "bottom": null,
            "_model_module": "@jupyter-widgets/base",
            "top": null,
            "grid_column": null,
            "overflow_y": null,
            "overflow_x": null,
            "grid_auto_flow": null,
            "grid_area": null,
            "grid_template_columns": null,
            "flex": null,
            "_model_name": "LayoutModel",
            "justify_items": null,
            "grid_row": null,
            "max_height": null,
            "align_content": null,
            "visibility": null,
            "align_self": null,
            "height": null,
            "min_height": null,
            "padding": null,
            "grid_auto_rows": null,
            "grid_gap": null,
            "max_width": null,
            "order": null,
            "_view_module_version": "1.2.0",
            "grid_template_areas": null,
            "object_position": null,
            "object_fit": null,
            "grid_auto_columns": null,
            "margin": null,
            "display": null,
            "left": null
          }
        },
        "c12cb0724f9247a993363db87e578ecc": {
          "model_module": "@jupyter-widgets/controls",
          "model_name": "DescriptionStyleModel",
          "model_module_version": "1.5.0",
          "state": {
            "_view_name": "StyleView",
            "_model_name": "DescriptionStyleModel",
            "description_width": "",
            "_view_module": "@jupyter-widgets/base",
            "_model_module_version": "1.5.0",
            "_view_count": null,
            "_view_module_version": "1.2.0",
            "_model_module": "@jupyter-widgets/controls"
          }
        },
        "fea902f5a6514e91bc9cf44b1da7aaf1": {
          "model_module": "@jupyter-widgets/base",
          "model_name": "LayoutModel",
          "model_module_version": "1.2.0",
          "state": {
            "_view_name": "LayoutView",
            "grid_template_rows": null,
            "right": null,
            "justify_content": null,
            "_view_module": "@jupyter-widgets/base",
            "overflow": null,
            "_model_module_version": "1.2.0",
            "_view_count": null,
            "flex_flow": null,
            "width": null,
            "min_width": null,
            "border": null,
            "align_items": null,
            "bottom": null,
            "_model_module": "@jupyter-widgets/base",
            "top": null,
            "grid_column": null,
            "overflow_y": null,
            "overflow_x": null,
            "grid_auto_flow": null,
            "grid_area": null,
            "grid_template_columns": null,
            "flex": null,
            "_model_name": "LayoutModel",
            "justify_items": null,
            "grid_row": null,
            "max_height": null,
            "align_content": null,
            "visibility": null,
            "align_self": null,
            "height": null,
            "min_height": null,
            "padding": null,
            "grid_auto_rows": null,
            "grid_gap": null,
            "max_width": null,
            "order": null,
            "_view_module_version": "1.2.0",
            "grid_template_areas": null,
            "object_position": null,
            "object_fit": null,
            "grid_auto_columns": null,
            "margin": null,
            "display": null,
            "left": null
          }
        },
        "470011a90649482582d6e272d730c897": {
          "model_module": "@jupyter-widgets/controls",
          "model_name": "HBoxModel",
          "model_module_version": "1.5.0",
          "state": {
            "_view_name": "HBoxView",
            "_dom_classes": [],
            "_model_name": "HBoxModel",
            "_view_module": "@jupyter-widgets/controls",
            "_model_module_version": "1.5.0",
            "_view_count": null,
            "_view_module_version": "1.5.0",
            "box_style": "",
            "layout": "IPY_MODEL_911b5a1dc90141e3b32ad5d8a2de9dc4",
            "_model_module": "@jupyter-widgets/controls",
            "children": [
              "IPY_MODEL_440bf859b6e44c3ba390385e4cd68bc4",
              "IPY_MODEL_e6d5bbc140cf4a6295e39450dc9d1c8e",
              "IPY_MODEL_a0f8c069983241458f42bda243e86ba0"
            ]
          }
        },
        "911b5a1dc90141e3b32ad5d8a2de9dc4": {
          "model_module": "@jupyter-widgets/base",
          "model_name": "LayoutModel",
          "model_module_version": "1.2.0",
          "state": {
            "_view_name": "LayoutView",
            "grid_template_rows": null,
            "right": null,
            "justify_content": null,
            "_view_module": "@jupyter-widgets/base",
            "overflow": null,
            "_model_module_version": "1.2.0",
            "_view_count": null,
            "flex_flow": null,
            "width": null,
            "min_width": null,
            "border": null,
            "align_items": null,
            "bottom": null,
            "_model_module": "@jupyter-widgets/base",
            "top": null,
            "grid_column": null,
            "overflow_y": null,
            "overflow_x": null,
            "grid_auto_flow": null,
            "grid_area": null,
            "grid_template_columns": null,
            "flex": null,
            "_model_name": "LayoutModel",
            "justify_items": null,
            "grid_row": null,
            "max_height": null,
            "align_content": null,
            "visibility": null,
            "align_self": null,
            "height": null,
            "min_height": null,
            "padding": null,
            "grid_auto_rows": null,
            "grid_gap": null,
            "max_width": null,
            "order": null,
            "_view_module_version": "1.2.0",
            "grid_template_areas": null,
            "object_position": null,
            "object_fit": null,
            "grid_auto_columns": null,
            "margin": null,
            "display": null,
            "left": null
          }
        },
        "440bf859b6e44c3ba390385e4cd68bc4": {
          "model_module": "@jupyter-widgets/controls",
          "model_name": "HTMLModel",
          "model_module_version": "1.5.0",
          "state": {
            "_view_name": "HTMLView",
            "style": "IPY_MODEL_79efe6d6ea8a4d29a34a29c56b949d40",
            "_dom_classes": [],
            "description": "",
            "_model_name": "HTMLModel",
            "placeholder": "​",
            "_view_module": "@jupyter-widgets/controls",
            "_model_module_version": "1.5.0",
            "value": "",
            "_view_count": null,
            "_view_module_version": "1.5.0",
            "description_tooltip": null,
            "_model_module": "@jupyter-widgets/controls",
            "layout": "IPY_MODEL_a390ba9d01954e688b2ff40f2ff2bbbc"
          }
        },
        "e6d5bbc140cf4a6295e39450dc9d1c8e": {
          "model_module": "@jupyter-widgets/controls",
          "model_name": "FloatProgressModel",
          "model_module_version": "1.5.0",
          "state": {
            "_view_name": "ProgressView",
            "style": "IPY_MODEL_f474a47b136e4dfd90f2f18b00fc1195",
            "_dom_classes": [],
            "description": "",
            "_model_name": "FloatProgressModel",
            "bar_style": "success",
            "max": 28881,
            "_view_module": "@jupyter-widgets/controls",
            "_model_module_version": "1.5.0",
            "value": 28881,
            "_view_count": null,
            "_view_module_version": "1.5.0",
            "orientation": "horizontal",
            "min": 0,
            "description_tooltip": null,
            "_model_module": "@jupyter-widgets/controls",
            "layout": "IPY_MODEL_08fba75b42444ca28d711f32d1573444"
          }
        },
        "a0f8c069983241458f42bda243e86ba0": {
          "model_module": "@jupyter-widgets/controls",
          "model_name": "HTMLModel",
          "model_module_version": "1.5.0",
          "state": {
            "_view_name": "HTMLView",
            "style": "IPY_MODEL_aeb249e3d9b042dd8ecedeaad1d65e94",
            "_dom_classes": [],
            "description": "",
            "_model_name": "HTMLModel",
            "placeholder": "​",
            "_view_module": "@jupyter-widgets/controls",
            "_model_module_version": "1.5.0",
            "value": " 29696/? [00:00&lt;00:00, 329681.64it/s]",
            "_view_count": null,
            "_view_module_version": "1.5.0",
            "description_tooltip": null,
            "_model_module": "@jupyter-widgets/controls",
            "layout": "IPY_MODEL_4cad38646ebf4c03b8087461cf1691d3"
          }
        },
        "79efe6d6ea8a4d29a34a29c56b949d40": {
          "model_module": "@jupyter-widgets/controls",
          "model_name": "DescriptionStyleModel",
          "model_module_version": "1.5.0",
          "state": {
            "_view_name": "StyleView",
            "_model_name": "DescriptionStyleModel",
            "description_width": "",
            "_view_module": "@jupyter-widgets/base",
            "_model_module_version": "1.5.0",
            "_view_count": null,
            "_view_module_version": "1.2.0",
            "_model_module": "@jupyter-widgets/controls"
          }
        },
        "a390ba9d01954e688b2ff40f2ff2bbbc": {
          "model_module": "@jupyter-widgets/base",
          "model_name": "LayoutModel",
          "model_module_version": "1.2.0",
          "state": {
            "_view_name": "LayoutView",
            "grid_template_rows": null,
            "right": null,
            "justify_content": null,
            "_view_module": "@jupyter-widgets/base",
            "overflow": null,
            "_model_module_version": "1.2.0",
            "_view_count": null,
            "flex_flow": null,
            "width": null,
            "min_width": null,
            "border": null,
            "align_items": null,
            "bottom": null,
            "_model_module": "@jupyter-widgets/base",
            "top": null,
            "grid_column": null,
            "overflow_y": null,
            "overflow_x": null,
            "grid_auto_flow": null,
            "grid_area": null,
            "grid_template_columns": null,
            "flex": null,
            "_model_name": "LayoutModel",
            "justify_items": null,
            "grid_row": null,
            "max_height": null,
            "align_content": null,
            "visibility": null,
            "align_self": null,
            "height": null,
            "min_height": null,
            "padding": null,
            "grid_auto_rows": null,
            "grid_gap": null,
            "max_width": null,
            "order": null,
            "_view_module_version": "1.2.0",
            "grid_template_areas": null,
            "object_position": null,
            "object_fit": null,
            "grid_auto_columns": null,
            "margin": null,
            "display": null,
            "left": null
          }
        },
        "f474a47b136e4dfd90f2f18b00fc1195": {
          "model_module": "@jupyter-widgets/controls",
          "model_name": "ProgressStyleModel",
          "model_module_version": "1.5.0",
          "state": {
            "_view_name": "StyleView",
            "_model_name": "ProgressStyleModel",
            "description_width": "",
            "_view_module": "@jupyter-widgets/base",
            "_model_module_version": "1.5.0",
            "_view_count": null,
            "_view_module_version": "1.2.0",
            "bar_color": null,
            "_model_module": "@jupyter-widgets/controls"
          }
        },
        "08fba75b42444ca28d711f32d1573444": {
          "model_module": "@jupyter-widgets/base",
          "model_name": "LayoutModel",
          "model_module_version": "1.2.0",
          "state": {
            "_view_name": "LayoutView",
            "grid_template_rows": null,
            "right": null,
            "justify_content": null,
            "_view_module": "@jupyter-widgets/base",
            "overflow": null,
            "_model_module_version": "1.2.0",
            "_view_count": null,
            "flex_flow": null,
            "width": null,
            "min_width": null,
            "border": null,
            "align_items": null,
            "bottom": null,
            "_model_module": "@jupyter-widgets/base",
            "top": null,
            "grid_column": null,
            "overflow_y": null,
            "overflow_x": null,
            "grid_auto_flow": null,
            "grid_area": null,
            "grid_template_columns": null,
            "flex": null,
            "_model_name": "LayoutModel",
            "justify_items": null,
            "grid_row": null,
            "max_height": null,
            "align_content": null,
            "visibility": null,
            "align_self": null,
            "height": null,
            "min_height": null,
            "padding": null,
            "grid_auto_rows": null,
            "grid_gap": null,
            "max_width": null,
            "order": null,
            "_view_module_version": "1.2.0",
            "grid_template_areas": null,
            "object_position": null,
            "object_fit": null,
            "grid_auto_columns": null,
            "margin": null,
            "display": null,
            "left": null
          }
        },
        "aeb249e3d9b042dd8ecedeaad1d65e94": {
          "model_module": "@jupyter-widgets/controls",
          "model_name": "DescriptionStyleModel",
          "model_module_version": "1.5.0",
          "state": {
            "_view_name": "StyleView",
            "_model_name": "DescriptionStyleModel",
            "description_width": "",
            "_view_module": "@jupyter-widgets/base",
            "_model_module_version": "1.5.0",
            "_view_count": null,
            "_view_module_version": "1.2.0",
            "_model_module": "@jupyter-widgets/controls"
          }
        },
        "4cad38646ebf4c03b8087461cf1691d3": {
          "model_module": "@jupyter-widgets/base",
          "model_name": "LayoutModel",
          "model_module_version": "1.2.0",
          "state": {
            "_view_name": "LayoutView",
            "grid_template_rows": null,
            "right": null,
            "justify_content": null,
            "_view_module": "@jupyter-widgets/base",
            "overflow": null,
            "_model_module_version": "1.2.0",
            "_view_count": null,
            "flex_flow": null,
            "width": null,
            "min_width": null,
            "border": null,
            "align_items": null,
            "bottom": null,
            "_model_module": "@jupyter-widgets/base",
            "top": null,
            "grid_column": null,
            "overflow_y": null,
            "overflow_x": null,
            "grid_auto_flow": null,
            "grid_area": null,
            "grid_template_columns": null,
            "flex": null,
            "_model_name": "LayoutModel",
            "justify_items": null,
            "grid_row": null,
            "max_height": null,
            "align_content": null,
            "visibility": null,
            "align_self": null,
            "height": null,
            "min_height": null,
            "padding": null,
            "grid_auto_rows": null,
            "grid_gap": null,
            "max_width": null,
            "order": null,
            "_view_module_version": "1.2.0",
            "grid_template_areas": null,
            "object_position": null,
            "object_fit": null,
            "grid_auto_columns": null,
            "margin": null,
            "display": null,
            "left": null
          }
        },
        "9c2ee0e51a2949c1878cc5c67fa9dded": {
          "model_module": "@jupyter-widgets/controls",
          "model_name": "HBoxModel",
          "model_module_version": "1.5.0",
          "state": {
            "_view_name": "HBoxView",
            "_dom_classes": [],
            "_model_name": "HBoxModel",
            "_view_module": "@jupyter-widgets/controls",
            "_model_module_version": "1.5.0",
            "_view_count": null,
            "_view_module_version": "1.5.0",
            "box_style": "",
            "layout": "IPY_MODEL_923f8417b10744b8b9a29017fb4b9c50",
            "_model_module": "@jupyter-widgets/controls",
            "children": [
              "IPY_MODEL_5a20ed0976134dd7b2b8f26f9690e15f",
              "IPY_MODEL_7de2af264cba4531a2e587a4b292f4b6",
              "IPY_MODEL_632085e00a0e414f9ac5372d80abfd7c"
            ]
          }
        },
        "923f8417b10744b8b9a29017fb4b9c50": {
          "model_module": "@jupyter-widgets/base",
          "model_name": "LayoutModel",
          "model_module_version": "1.2.0",
          "state": {
            "_view_name": "LayoutView",
            "grid_template_rows": null,
            "right": null,
            "justify_content": null,
            "_view_module": "@jupyter-widgets/base",
            "overflow": null,
            "_model_module_version": "1.2.0",
            "_view_count": null,
            "flex_flow": null,
            "width": null,
            "min_width": null,
            "border": null,
            "align_items": null,
            "bottom": null,
            "_model_module": "@jupyter-widgets/base",
            "top": null,
            "grid_column": null,
            "overflow_y": null,
            "overflow_x": null,
            "grid_auto_flow": null,
            "grid_area": null,
            "grid_template_columns": null,
            "flex": null,
            "_model_name": "LayoutModel",
            "justify_items": null,
            "grid_row": null,
            "max_height": null,
            "align_content": null,
            "visibility": null,
            "align_self": null,
            "height": null,
            "min_height": null,
            "padding": null,
            "grid_auto_rows": null,
            "grid_gap": null,
            "max_width": null,
            "order": null,
            "_view_module_version": "1.2.0",
            "grid_template_areas": null,
            "object_position": null,
            "object_fit": null,
            "grid_auto_columns": null,
            "margin": null,
            "display": null,
            "left": null
          }
        },
        "5a20ed0976134dd7b2b8f26f9690e15f": {
          "model_module": "@jupyter-widgets/controls",
          "model_name": "HTMLModel",
          "model_module_version": "1.5.0",
          "state": {
            "_view_name": "HTMLView",
            "style": "IPY_MODEL_8884025006bf4891bff4523031f093ba",
            "_dom_classes": [],
            "description": "",
            "_model_name": "HTMLModel",
            "placeholder": "​",
            "_view_module": "@jupyter-widgets/controls",
            "_model_module_version": "1.5.0",
            "value": "",
            "_view_count": null,
            "_view_module_version": "1.5.0",
            "description_tooltip": null,
            "_model_module": "@jupyter-widgets/controls",
            "layout": "IPY_MODEL_81509e506b864db091b5ef09e6c9a609"
          }
        },
        "7de2af264cba4531a2e587a4b292f4b6": {
          "model_module": "@jupyter-widgets/controls",
          "model_name": "FloatProgressModel",
          "model_module_version": "1.5.0",
          "state": {
            "_view_name": "ProgressView",
            "style": "IPY_MODEL_5ea3d1d01ca145a7b97bc3c1fd185502",
            "_dom_classes": [],
            "description": "",
            "_model_name": "FloatProgressModel",
            "bar_style": "success",
            "max": 1648877,
            "_view_module": "@jupyter-widgets/controls",
            "_model_module_version": "1.5.0",
            "value": 1648877,
            "_view_count": null,
            "_view_module_version": "1.5.0",
            "orientation": "horizontal",
            "min": 0,
            "description_tooltip": null,
            "_model_module": "@jupyter-widgets/controls",
            "layout": "IPY_MODEL_2a117cd49d9e442c8488ada142dffeba"
          }
        },
        "632085e00a0e414f9ac5372d80abfd7c": {
          "model_module": "@jupyter-widgets/controls",
          "model_name": "HTMLModel",
          "model_module_version": "1.5.0",
          "state": {
            "_view_name": "HTMLView",
            "style": "IPY_MODEL_7677a687641a4d7c8085b40ac7df7594",
            "_dom_classes": [],
            "description": "",
            "_model_name": "HTMLModel",
            "placeholder": "​",
            "_view_module": "@jupyter-widgets/controls",
            "_model_module_version": "1.5.0",
            "value": " 1649664/? [00:00&lt;00:00, 5893.32it/s]",
            "_view_count": null,
            "_view_module_version": "1.5.0",
            "description_tooltip": null,
            "_model_module": "@jupyter-widgets/controls",
            "layout": "IPY_MODEL_135ac36ac8d44d5db8f4d25e5bd48fdf"
          }
        },
        "8884025006bf4891bff4523031f093ba": {
          "model_module": "@jupyter-widgets/controls",
          "model_name": "DescriptionStyleModel",
          "model_module_version": "1.5.0",
          "state": {
            "_view_name": "StyleView",
            "_model_name": "DescriptionStyleModel",
            "description_width": "",
            "_view_module": "@jupyter-widgets/base",
            "_model_module_version": "1.5.0",
            "_view_count": null,
            "_view_module_version": "1.2.0",
            "_model_module": "@jupyter-widgets/controls"
          }
        },
        "81509e506b864db091b5ef09e6c9a609": {
          "model_module": "@jupyter-widgets/base",
          "model_name": "LayoutModel",
          "model_module_version": "1.2.0",
          "state": {
            "_view_name": "LayoutView",
            "grid_template_rows": null,
            "right": null,
            "justify_content": null,
            "_view_module": "@jupyter-widgets/base",
            "overflow": null,
            "_model_module_version": "1.2.0",
            "_view_count": null,
            "flex_flow": null,
            "width": null,
            "min_width": null,
            "border": null,
            "align_items": null,
            "bottom": null,
            "_model_module": "@jupyter-widgets/base",
            "top": null,
            "grid_column": null,
            "overflow_y": null,
            "overflow_x": null,
            "grid_auto_flow": null,
            "grid_area": null,
            "grid_template_columns": null,
            "flex": null,
            "_model_name": "LayoutModel",
            "justify_items": null,
            "grid_row": null,
            "max_height": null,
            "align_content": null,
            "visibility": null,
            "align_self": null,
            "height": null,
            "min_height": null,
            "padding": null,
            "grid_auto_rows": null,
            "grid_gap": null,
            "max_width": null,
            "order": null,
            "_view_module_version": "1.2.0",
            "grid_template_areas": null,
            "object_position": null,
            "object_fit": null,
            "grid_auto_columns": null,
            "margin": null,
            "display": null,
            "left": null
          }
        },
        "5ea3d1d01ca145a7b97bc3c1fd185502": {
          "model_module": "@jupyter-widgets/controls",
          "model_name": "ProgressStyleModel",
          "model_module_version": "1.5.0",
          "state": {
            "_view_name": "StyleView",
            "_model_name": "ProgressStyleModel",
            "description_width": "",
            "_view_module": "@jupyter-widgets/base",
            "_model_module_version": "1.5.0",
            "_view_count": null,
            "_view_module_version": "1.2.0",
            "bar_color": null,
            "_model_module": "@jupyter-widgets/controls"
          }
        },
        "2a117cd49d9e442c8488ada142dffeba": {
          "model_module": "@jupyter-widgets/base",
          "model_name": "LayoutModel",
          "model_module_version": "1.2.0",
          "state": {
            "_view_name": "LayoutView",
            "grid_template_rows": null,
            "right": null,
            "justify_content": null,
            "_view_module": "@jupyter-widgets/base",
            "overflow": null,
            "_model_module_version": "1.2.0",
            "_view_count": null,
            "flex_flow": null,
            "width": null,
            "min_width": null,
            "border": null,
            "align_items": null,
            "bottom": null,
            "_model_module": "@jupyter-widgets/base",
            "top": null,
            "grid_column": null,
            "overflow_y": null,
            "overflow_x": null,
            "grid_auto_flow": null,
            "grid_area": null,
            "grid_template_columns": null,
            "flex": null,
            "_model_name": "LayoutModel",
            "justify_items": null,
            "grid_row": null,
            "max_height": null,
            "align_content": null,
            "visibility": null,
            "align_self": null,
            "height": null,
            "min_height": null,
            "padding": null,
            "grid_auto_rows": null,
            "grid_gap": null,
            "max_width": null,
            "order": null,
            "_view_module_version": "1.2.0",
            "grid_template_areas": null,
            "object_position": null,
            "object_fit": null,
            "grid_auto_columns": null,
            "margin": null,
            "display": null,
            "left": null
          }
        },
        "7677a687641a4d7c8085b40ac7df7594": {
          "model_module": "@jupyter-widgets/controls",
          "model_name": "DescriptionStyleModel",
          "model_module_version": "1.5.0",
          "state": {
            "_view_name": "StyleView",
            "_model_name": "DescriptionStyleModel",
            "description_width": "",
            "_view_module": "@jupyter-widgets/base",
            "_model_module_version": "1.5.0",
            "_view_count": null,
            "_view_module_version": "1.2.0",
            "_model_module": "@jupyter-widgets/controls"
          }
        },
        "135ac36ac8d44d5db8f4d25e5bd48fdf": {
          "model_module": "@jupyter-widgets/base",
          "model_name": "LayoutModel",
          "model_module_version": "1.2.0",
          "state": {
            "_view_name": "LayoutView",
            "grid_template_rows": null,
            "right": null,
            "justify_content": null,
            "_view_module": "@jupyter-widgets/base",
            "overflow": null,
            "_model_module_version": "1.2.0",
            "_view_count": null,
            "flex_flow": null,
            "width": null,
            "min_width": null,
            "border": null,
            "align_items": null,
            "bottom": null,
            "_model_module": "@jupyter-widgets/base",
            "top": null,
            "grid_column": null,
            "overflow_y": null,
            "overflow_x": null,
            "grid_auto_flow": null,
            "grid_area": null,
            "grid_template_columns": null,
            "flex": null,
            "_model_name": "LayoutModel",
            "justify_items": null,
            "grid_row": null,
            "max_height": null,
            "align_content": null,
            "visibility": null,
            "align_self": null,
            "height": null,
            "min_height": null,
            "padding": null,
            "grid_auto_rows": null,
            "grid_gap": null,
            "max_width": null,
            "order": null,
            "_view_module_version": "1.2.0",
            "grid_template_areas": null,
            "object_position": null,
            "object_fit": null,
            "grid_auto_columns": null,
            "margin": null,
            "display": null,
            "left": null
          }
        },
        "1592a11c16ae4e5d9aad5362effd8f4a": {
          "model_module": "@jupyter-widgets/controls",
          "model_name": "HBoxModel",
          "model_module_version": "1.5.0",
          "state": {
            "_view_name": "HBoxView",
            "_dom_classes": [],
            "_model_name": "HBoxModel",
            "_view_module": "@jupyter-widgets/controls",
            "_model_module_version": "1.5.0",
            "_view_count": null,
            "_view_module_version": "1.5.0",
            "box_style": "",
            "layout": "IPY_MODEL_842266aa8ab84953822a1afa8fa0263b",
            "_model_module": "@jupyter-widgets/controls",
            "children": [
              "IPY_MODEL_1ff5e1794426467483765d3795422cac",
              "IPY_MODEL_0f289a1733814751ab3248eb8a2cdc41",
              "IPY_MODEL_4e286449bdd24a09b0713cb307da4e9e"
            ]
          }
        },
        "842266aa8ab84953822a1afa8fa0263b": {
          "model_module": "@jupyter-widgets/base",
          "model_name": "LayoutModel",
          "model_module_version": "1.2.0",
          "state": {
            "_view_name": "LayoutView",
            "grid_template_rows": null,
            "right": null,
            "justify_content": null,
            "_view_module": "@jupyter-widgets/base",
            "overflow": null,
            "_model_module_version": "1.2.0",
            "_view_count": null,
            "flex_flow": null,
            "width": null,
            "min_width": null,
            "border": null,
            "align_items": null,
            "bottom": null,
            "_model_module": "@jupyter-widgets/base",
            "top": null,
            "grid_column": null,
            "overflow_y": null,
            "overflow_x": null,
            "grid_auto_flow": null,
            "grid_area": null,
            "grid_template_columns": null,
            "flex": null,
            "_model_name": "LayoutModel",
            "justify_items": null,
            "grid_row": null,
            "max_height": null,
            "align_content": null,
            "visibility": null,
            "align_self": null,
            "height": null,
            "min_height": null,
            "padding": null,
            "grid_auto_rows": null,
            "grid_gap": null,
            "max_width": null,
            "order": null,
            "_view_module_version": "1.2.0",
            "grid_template_areas": null,
            "object_position": null,
            "object_fit": null,
            "grid_auto_columns": null,
            "margin": null,
            "display": null,
            "left": null
          }
        },
        "1ff5e1794426467483765d3795422cac": {
          "model_module": "@jupyter-widgets/controls",
          "model_name": "HTMLModel",
          "model_module_version": "1.5.0",
          "state": {
            "_view_name": "HTMLView",
            "style": "IPY_MODEL_e75013d0584a43c08fecd5412a42efef",
            "_dom_classes": [],
            "description": "",
            "_model_name": "HTMLModel",
            "placeholder": "​",
            "_view_module": "@jupyter-widgets/controls",
            "_model_module_version": "1.5.0",
            "value": "",
            "_view_count": null,
            "_view_module_version": "1.5.0",
            "description_tooltip": null,
            "_model_module": "@jupyter-widgets/controls",
            "layout": "IPY_MODEL_be7d1efdf329404d80e8a87778929be1"
          }
        },
        "0f289a1733814751ab3248eb8a2cdc41": {
          "model_module": "@jupyter-widgets/controls",
          "model_name": "FloatProgressModel",
          "model_module_version": "1.5.0",
          "state": {
            "_view_name": "ProgressView",
            "style": "IPY_MODEL_ab2737ba045a43018c921474fbaa40fb",
            "_dom_classes": [],
            "description": "",
            "_model_name": "FloatProgressModel",
            "bar_style": "success",
            "max": 4542,
            "_view_module": "@jupyter-widgets/controls",
            "_model_module_version": "1.5.0",
            "value": 4542,
            "_view_count": null,
            "_view_module_version": "1.5.0",
            "orientation": "horizontal",
            "min": 0,
            "description_tooltip": null,
            "_model_module": "@jupyter-widgets/controls",
            "layout": "IPY_MODEL_e44397f314f947cf8e47e0701c0fc624"
          }
        },
        "4e286449bdd24a09b0713cb307da4e9e": {
          "model_module": "@jupyter-widgets/controls",
          "model_name": "HTMLModel",
          "model_module_version": "1.5.0",
          "state": {
            "_view_name": "HTMLView",
            "style": "IPY_MODEL_43f6728dc8be4f0f9f0505b0f213006e",
            "_dom_classes": [],
            "description": "",
            "_model_name": "HTMLModel",
            "placeholder": "​",
            "_view_module": "@jupyter-widgets/controls",
            "_model_module_version": "1.5.0",
            "value": " 5120/? [00:00&lt;00:00, 64013.99it/s]",
            "_view_count": null,
            "_view_module_version": "1.5.0",
            "description_tooltip": null,
            "_model_module": "@jupyter-widgets/controls",
            "layout": "IPY_MODEL_ee228ba2e80945fc876fca3b700bbb8d"
          }
        },
        "e75013d0584a43c08fecd5412a42efef": {
          "model_module": "@jupyter-widgets/controls",
          "model_name": "DescriptionStyleModel",
          "model_module_version": "1.5.0",
          "state": {
            "_view_name": "StyleView",
            "_model_name": "DescriptionStyleModel",
            "description_width": "",
            "_view_module": "@jupyter-widgets/base",
            "_model_module_version": "1.5.0",
            "_view_count": null,
            "_view_module_version": "1.2.0",
            "_model_module": "@jupyter-widgets/controls"
          }
        },
        "be7d1efdf329404d80e8a87778929be1": {
          "model_module": "@jupyter-widgets/base",
          "model_name": "LayoutModel",
          "model_module_version": "1.2.0",
          "state": {
            "_view_name": "LayoutView",
            "grid_template_rows": null,
            "right": null,
            "justify_content": null,
            "_view_module": "@jupyter-widgets/base",
            "overflow": null,
            "_model_module_version": "1.2.0",
            "_view_count": null,
            "flex_flow": null,
            "width": null,
            "min_width": null,
            "border": null,
            "align_items": null,
            "bottom": null,
            "_model_module": "@jupyter-widgets/base",
            "top": null,
            "grid_column": null,
            "overflow_y": null,
            "overflow_x": null,
            "grid_auto_flow": null,
            "grid_area": null,
            "grid_template_columns": null,
            "flex": null,
            "_model_name": "LayoutModel",
            "justify_items": null,
            "grid_row": null,
            "max_height": null,
            "align_content": null,
            "visibility": null,
            "align_self": null,
            "height": null,
            "min_height": null,
            "padding": null,
            "grid_auto_rows": null,
            "grid_gap": null,
            "max_width": null,
            "order": null,
            "_view_module_version": "1.2.0",
            "grid_template_areas": null,
            "object_position": null,
            "object_fit": null,
            "grid_auto_columns": null,
            "margin": null,
            "display": null,
            "left": null
          }
        },
        "ab2737ba045a43018c921474fbaa40fb": {
          "model_module": "@jupyter-widgets/controls",
          "model_name": "ProgressStyleModel",
          "model_module_version": "1.5.0",
          "state": {
            "_view_name": "StyleView",
            "_model_name": "ProgressStyleModel",
            "description_width": "",
            "_view_module": "@jupyter-widgets/base",
            "_model_module_version": "1.5.0",
            "_view_count": null,
            "_view_module_version": "1.2.0",
            "bar_color": null,
            "_model_module": "@jupyter-widgets/controls"
          }
        },
        "e44397f314f947cf8e47e0701c0fc624": {
          "model_module": "@jupyter-widgets/base",
          "model_name": "LayoutModel",
          "model_module_version": "1.2.0",
          "state": {
            "_view_name": "LayoutView",
            "grid_template_rows": null,
            "right": null,
            "justify_content": null,
            "_view_module": "@jupyter-widgets/base",
            "overflow": null,
            "_model_module_version": "1.2.0",
            "_view_count": null,
            "flex_flow": null,
            "width": null,
            "min_width": null,
            "border": null,
            "align_items": null,
            "bottom": null,
            "_model_module": "@jupyter-widgets/base",
            "top": null,
            "grid_column": null,
            "overflow_y": null,
            "overflow_x": null,
            "grid_auto_flow": null,
            "grid_area": null,
            "grid_template_columns": null,
            "flex": null,
            "_model_name": "LayoutModel",
            "justify_items": null,
            "grid_row": null,
            "max_height": null,
            "align_content": null,
            "visibility": null,
            "align_self": null,
            "height": null,
            "min_height": null,
            "padding": null,
            "grid_auto_rows": null,
            "grid_gap": null,
            "max_width": null,
            "order": null,
            "_view_module_version": "1.2.0",
            "grid_template_areas": null,
            "object_position": null,
            "object_fit": null,
            "grid_auto_columns": null,
            "margin": null,
            "display": null,
            "left": null
          }
        },
        "43f6728dc8be4f0f9f0505b0f213006e": {
          "model_module": "@jupyter-widgets/controls",
          "model_name": "DescriptionStyleModel",
          "model_module_version": "1.5.0",
          "state": {
            "_view_name": "StyleView",
            "_model_name": "DescriptionStyleModel",
            "description_width": "",
            "_view_module": "@jupyter-widgets/base",
            "_model_module_version": "1.5.0",
            "_view_count": null,
            "_view_module_version": "1.2.0",
            "_model_module": "@jupyter-widgets/controls"
          }
        },
        "ee228ba2e80945fc876fca3b700bbb8d": {
          "model_module": "@jupyter-widgets/base",
          "model_name": "LayoutModel",
          "model_module_version": "1.2.0",
          "state": {
            "_view_name": "LayoutView",
            "grid_template_rows": null,
            "right": null,
            "justify_content": null,
            "_view_module": "@jupyter-widgets/base",
            "overflow": null,
            "_model_module_version": "1.2.0",
            "_view_count": null,
            "flex_flow": null,
            "width": null,
            "min_width": null,
            "border": null,
            "align_items": null,
            "bottom": null,
            "_model_module": "@jupyter-widgets/base",
            "top": null,
            "grid_column": null,
            "overflow_y": null,
            "overflow_x": null,
            "grid_auto_flow": null,
            "grid_area": null,
            "grid_template_columns": null,
            "flex": null,
            "_model_name": "LayoutModel",
            "justify_items": null,
            "grid_row": null,
            "max_height": null,
            "align_content": null,
            "visibility": null,
            "align_self": null,
            "height": null,
            "min_height": null,
            "padding": null,
            "grid_auto_rows": null,
            "grid_gap": null,
            "max_width": null,
            "order": null,
            "_view_module_version": "1.2.0",
            "grid_template_areas": null,
            "object_position": null,
            "object_fit": null,
            "grid_auto_columns": null,
            "margin": null,
            "display": null,
            "left": null
          }
        }
      }
    }
  },
  "cells": [
    {
      "cell_type": "markdown",
      "metadata": {
        "id": "NXBpGXv7vTui"
      },
      "source": [
        "### Modules"
      ]
    },
    {
      "cell_type": "code",
      "metadata": {
        "id": "WajgDO4WvOqB"
      },
      "source": [
        "import torch\n",
        "from torch import nn\n",
        "import torch.nn.utils.prune as prune\n",
        "import torch.nn.functional as F\n",
        "from torch.nn.utils.prune import CustomFromMask"
      ],
      "execution_count": null,
      "outputs": []
    },
    {
      "cell_type": "code",
      "metadata": {
        "id": "9jpph2AzvQmW"
      },
      "source": [
        "import pandas as pd\n",
        "import numpy as np\n",
        "import matplotlib.pyplot as plt\n",
        "import torchvision\n",
        "from torchvision import transforms\n",
        "from torch.utils.data import Dataset, DataLoader\n",
        "import random\n",
        "import matplotlib.pyplot as plt"
      ],
      "execution_count": null,
      "outputs": []
    },
    {
      "cell_type": "markdown",
      "metadata": {
        "id": "Y7aJ6R_Ovcb6"
      },
      "source": [
        "### Functions"
      ]
    },
    {
      "cell_type": "code",
      "metadata": {
        "id": "f3-to2kYvW8a"
      },
      "source": [
        "def plot_kernels(tensor, num_cols=3):\n",
        "    if not tensor.ndim==4:\n",
        "        raise Exception(\"assumes a 4D tensor\")\n",
        "    if not tensor.shape[-1]==3:\n",
        "        raise Exception(\"last dim needs to be 3 to plot\")\n",
        "    num_kernels = tensor.shape[0]\n",
        "    num_rows = 1+ num_kernels // num_cols\n",
        "    fig = plt.figure(figsize=(num_cols,num_rows))\n",
        "    for i in range(tensor.shape[0]):\n",
        "        ax1 = fig.add_subplot(num_rows,num_cols,i+1)\n",
        "        ax1.imshow(tensor[i])\n",
        "        ax1.axis('off')\n",
        "        ax1.set_xticklabels([])\n",
        "        ax1.set_yticklabels([])\n",
        "\n",
        "    plt.subplots_adjust(wspace=0.1, hspace=0.1)\n",
        "    plt.show()"
      ],
      "execution_count": null,
      "outputs": []
    },
    {
      "cell_type": "code",
      "metadata": {
        "id": "A_F3Kaw6vYlJ"
      },
      "source": [
        "def train_model(train_loader, model, num_epochs, criterion, optimizer, print_res=True):\n",
        "    losses = []\n",
        "    accs = []\n",
        "    for epoch in range(num_epochs):\n",
        "        model.train()\n",
        "        for i, (images, labels) in enumerate(train_loader):\n",
        "\n",
        "            optimizer.zero_grad()\n",
        "\n",
        "            images = images.to(device)\n",
        "            labels = labels.to(device)\n",
        "\n",
        "            outputs = model(images)\n",
        "            loss = criterion(outputs, labels)\n",
        "            losses.append(loss.item())\n",
        "\n",
        "            \n",
        "            loss.backward()\n",
        "            optimizer.step()\n",
        "\n",
        "            _, predicted = torch.max(outputs.data, 1)\n",
        "            correct = (predicted == labels).sum().item()\n",
        "            accs.append(correct / labels.size(0))\n",
        "            if (print_res):\n",
        "                if ((i + 1) % 100 == 0):\n",
        "                    print('epoch: {}/{}, step: {}/{}, loss: {:.6f}, accuracy: {:.3f}%'\n",
        "                          .format(epoch + 1, num_epochs, i + 1, len(train_loader), loss.item(), (correct / labels.size(0)) * 100))\n",
        "\n",
        "    return losses, accs"
      ],
      "execution_count": null,
      "outputs": []
    },
    {
      "cell_type": "code",
      "metadata": {
        "id": "V9fXZOmfvjrr"
      },
      "source": [
        "def test_model(test_loader, model, print_acc=True):    \n",
        "    ims = []\n",
        "    lbls = []\n",
        "    outs = []\n",
        "    out_pr = []\n",
        "    out_act = []\n",
        "    correct = 0\n",
        "    total = 0\n",
        "    lab_i = 0\n",
        "    model.eval()\n",
        "    for images, labels in test_loader:\n",
        "\n",
        "        images = images.to(device)\n",
        "        labels = labels.to(device)\n",
        "\n",
        "        outputs = model(images)\n",
        "        \n",
        "        for i in range(labels.size(0)):\n",
        "            outs.append(outputs[i])\n",
        "            ims.append(images[i])\n",
        "            lbls.append(labels[i])\n",
        "        max_val, predicted = torch.max(outputs.data, 1)\n",
        "\n",
        "        for i in range(labels.size(0)):\n",
        "            out_pr.append(max_val[i])\n",
        "            out_act.append(outputs[i][labels[i]])\n",
        "\n",
        "        total += labels.size(0)\n",
        "        correct += (predicted == labels).sum().item()\n",
        "    if print_acc:\n",
        "      print('Test Accuracy of the model on the 10000 test images: {} %'.format((correct / total) * 100))\n",
        "    accuracy = correct / total\n",
        "    \n",
        "    return accuracy"
      ],
      "execution_count": null,
      "outputs": []
    },
    {
      "cell_type": "code",
      "metadata": {
        "id": "GiORDn2Pvl_A"
      },
      "source": [
        "def flatten(t):\n",
        "    t = t.reshape(1, -1)\n",
        "    t = t.squeeze()\n",
        "    return t"
      ],
      "execution_count": null,
      "outputs": []
    },
    {
      "cell_type": "code",
      "metadata": {
        "id": "kmilEwKA4v7C"
      },
      "source": [
        "def get_new_model(learn_rate=0.001):\n",
        "    model = LeNet().to(device)\n",
        "\n",
        "    loss_func = nn.CrossEntropyLoss()\n",
        "    optim_func = torch.optim.Adam(model.parameters(), lr=learning_rate)\n",
        "\n",
        "\n",
        "    return model, loss_func, optim_func"
      ],
      "execution_count": null,
      "outputs": []
    },
    {
      "cell_type": "code",
      "metadata": {
        "id": "RVsPhnd54v12"
      },
      "source": [
        "def weight_reset(m):\n",
        "    if isinstance(m, nn.Conv2d) or isinstance(m, nn.Linear):\n",
        "        m.reset_parameters()"
      ],
      "execution_count": null,
      "outputs": []
    },
    {
      "cell_type": "code",
      "metadata": {
        "id": "mgjc9a4F4yvn"
      },
      "source": [
        "def add_masks(model,masks):\n",
        "    mask_pruner = CustomFromMask(None)\n",
        "    for module_name, module in model.named_modules():\n",
        "        key = f\"{module_name}.weight_mask\"\n",
        "        if key in masks:\n",
        "            if isinstance(module, torch.nn.Conv2d):\n",
        "                _mask = masks[key]\n",
        "                mask_pruner.apply(module, 'weight', _mask)\n",
        "            if isinstance(module, torch.nn.Linear):\n",
        "                _mask = masks[key]\n",
        "                mask_pruner.apply(module, 'weight', _mask)"
      ],
      "execution_count": null,
      "outputs": []
    },
    {
      "cell_type": "code",
      "metadata": {
        "id": "s0YfZseu4yqm"
      },
      "source": [
        ""
      ],
      "execution_count": null,
      "outputs": []
    },
    {
      "cell_type": "markdown",
      "metadata": {
        "id": "r5WB4-yTvr2b"
      },
      "source": [
        "### Model skelet"
      ]
    },
    {
      "cell_type": "code",
      "metadata": {
        "id": "2RiJulRovu0J"
      },
      "source": [
        "device = torch.device(\"cuda\" if torch.cuda.is_available() else \"cpu\")\n",
        "\n",
        "class LeNet(nn.Module):\n",
        "    def __init__(self):\n",
        "        super(LeNet, self).__init__()\n",
        "        # 1 input image channel, 6 output channels, 3x3 square conv kernel\n",
        "        self.conv1 = nn.Conv2d(1, 6, 3)\n",
        "        self.conv2 = nn.Conv2d(6, 16, 3)\n",
        "        self.fc1 = nn.Linear(16 * 5 * 5, 120)  # 5x5 image dimension\n",
        "        self.fc2 = nn.Linear(120, 84)\n",
        "        self.fc3 = nn.Linear(84, 10)\n",
        "\n",
        "    def forward(self, x):\n",
        "        x = F.max_pool2d(F.relu(self.conv1(x)), (2, 2))\n",
        "        x = F.max_pool2d(F.relu(self.conv2(x)), 2)\n",
        "        x = x.view(-1, int(x.nelement() / x.shape[0]))\n",
        "        x = F.relu(self.fc1(x))\n",
        "        x = F.relu(self.fc2(x))\n",
        "        x = self.fc3(x)\n",
        "        return x\n",
        "    \n",
        "#model = LeNet().to(device=device)"
      ],
      "execution_count": null,
      "outputs": []
    },
    {
      "cell_type": "markdown",
      "metadata": {
        "id": "865-mF7wwa-c"
      },
      "source": [
        "### Data load"
      ]
    },
    {
      "cell_type": "code",
      "metadata": {
        "colab": {
          "base_uri": "https://localhost:8080/",
          "referenced_widgets": [
            "3f857112674841159c045c644a5c8d66",
            "1465f041960e40c69961ed958d4699c8",
            "a1285b837e374424be88e48ddd9982d2",
            "d0cd77db844c4263afe15fa15b71c845",
            "2a8603e90c06400b895410ddd97cd1f2",
            "5733c2d983b54aa980908618e30ce884",
            "ec31888fd8834234a6173a6e0f56e629",
            "c1b9cbdb6f2b4832909e164252db77a1",
            "e52be013dfaf41bf8f638d47364b9e89",
            "c12cb0724f9247a993363db87e578ecc",
            "fea902f5a6514e91bc9cf44b1da7aaf1",
            "470011a90649482582d6e272d730c897",
            "911b5a1dc90141e3b32ad5d8a2de9dc4",
            "440bf859b6e44c3ba390385e4cd68bc4",
            "e6d5bbc140cf4a6295e39450dc9d1c8e",
            "a0f8c069983241458f42bda243e86ba0",
            "79efe6d6ea8a4d29a34a29c56b949d40",
            "a390ba9d01954e688b2ff40f2ff2bbbc",
            "f474a47b136e4dfd90f2f18b00fc1195",
            "08fba75b42444ca28d711f32d1573444",
            "aeb249e3d9b042dd8ecedeaad1d65e94",
            "4cad38646ebf4c03b8087461cf1691d3",
            "9c2ee0e51a2949c1878cc5c67fa9dded",
            "923f8417b10744b8b9a29017fb4b9c50",
            "5a20ed0976134dd7b2b8f26f9690e15f",
            "7de2af264cba4531a2e587a4b292f4b6",
            "632085e00a0e414f9ac5372d80abfd7c",
            "8884025006bf4891bff4523031f093ba",
            "81509e506b864db091b5ef09e6c9a609",
            "5ea3d1d01ca145a7b97bc3c1fd185502",
            "2a117cd49d9e442c8488ada142dffeba",
            "7677a687641a4d7c8085b40ac7df7594",
            "135ac36ac8d44d5db8f4d25e5bd48fdf",
            "1592a11c16ae4e5d9aad5362effd8f4a",
            "842266aa8ab84953822a1afa8fa0263b",
            "1ff5e1794426467483765d3795422cac",
            "0f289a1733814751ab3248eb8a2cdc41",
            "4e286449bdd24a09b0713cb307da4e9e",
            "e75013d0584a43c08fecd5412a42efef",
            "be7d1efdf329404d80e8a87778929be1",
            "ab2737ba045a43018c921474fbaa40fb",
            "e44397f314f947cf8e47e0701c0fc624",
            "43f6728dc8be4f0f9f0505b0f213006e",
            "ee228ba2e80945fc876fca3b700bbb8d"
          ]
        },
        "id": "wTPOtihrwepr",
        "outputId": "7bff04e1-aed0-4167-e870-f66c04b15697"
      },
      "source": [
        "DATA_PATH = 'mnist_data'\n",
        "batch_size = 100\n",
        "\n",
        "trans = transforms.Compose([transforms.ToTensor(), transforms.Normalize((0.5,), (0.5,))]) \n",
        "\n",
        "train_dataset = torchvision.datasets.MNIST(root=DATA_PATH, train=True, transform=trans, download=True) \n",
        "test_dataset = torchvision.datasets.MNIST(root=DATA_PATH, train=False, transform=trans)\n",
        "\n",
        "train_loader = DataLoader(dataset=train_dataset, batch_size=batch_size) \n",
        "test_loader = DataLoader(dataset=test_dataset, batch_size=batch_size)"
      ],
      "execution_count": null,
      "outputs": [
        {
          "output_type": "stream",
          "name": "stdout",
          "text": [
            "Downloading http://yann.lecun.com/exdb/mnist/train-images-idx3-ubyte.gz\n",
            "Downloading http://yann.lecun.com/exdb/mnist/train-images-idx3-ubyte.gz to mnist_data/MNIST/raw/train-images-idx3-ubyte.gz\n"
          ]
        },
        {
          "output_type": "display_data",
          "data": {
            "application/vnd.jupyter.widget-view+json": {
              "model_id": "3f857112674841159c045c644a5c8d66",
              "version_minor": 0,
              "version_major": 2
            },
            "text/plain": [
              "  0%|          | 0/9912422 [00:00<?, ?it/s]"
            ]
          },
          "metadata": {}
        },
        {
          "output_type": "stream",
          "name": "stdout",
          "text": [
            "Extracting mnist_data/MNIST/raw/train-images-idx3-ubyte.gz to mnist_data/MNIST/raw\n",
            "\n",
            "Downloading http://yann.lecun.com/exdb/mnist/train-labels-idx1-ubyte.gz\n",
            "Downloading http://yann.lecun.com/exdb/mnist/train-labels-idx1-ubyte.gz to mnist_data/MNIST/raw/train-labels-idx1-ubyte.gz\n"
          ]
        },
        {
          "output_type": "display_data",
          "data": {
            "application/vnd.jupyter.widget-view+json": {
              "model_id": "470011a90649482582d6e272d730c897",
              "version_minor": 0,
              "version_major": 2
            },
            "text/plain": [
              "  0%|          | 0/28881 [00:00<?, ?it/s]"
            ]
          },
          "metadata": {}
        },
        {
          "output_type": "stream",
          "name": "stdout",
          "text": [
            "Extracting mnist_data/MNIST/raw/train-labels-idx1-ubyte.gz to mnist_data/MNIST/raw\n",
            "\n",
            "Downloading http://yann.lecun.com/exdb/mnist/t10k-images-idx3-ubyte.gz\n",
            "Downloading http://yann.lecun.com/exdb/mnist/t10k-images-idx3-ubyte.gz to mnist_data/MNIST/raw/t10k-images-idx3-ubyte.gz\n"
          ]
        },
        {
          "output_type": "display_data",
          "data": {
            "application/vnd.jupyter.widget-view+json": {
              "model_id": "9c2ee0e51a2949c1878cc5c67fa9dded",
              "version_minor": 0,
              "version_major": 2
            },
            "text/plain": [
              "  0%|          | 0/1648877 [00:00<?, ?it/s]"
            ]
          },
          "metadata": {}
        },
        {
          "output_type": "stream",
          "name": "stdout",
          "text": [
            "Extracting mnist_data/MNIST/raw/t10k-images-idx3-ubyte.gz to mnist_data/MNIST/raw\n",
            "\n",
            "Downloading http://yann.lecun.com/exdb/mnist/t10k-labels-idx1-ubyte.gz\n",
            "Downloading http://yann.lecun.com/exdb/mnist/t10k-labels-idx1-ubyte.gz to mnist_data/MNIST/raw/t10k-labels-idx1-ubyte.gz\n"
          ]
        },
        {
          "output_type": "display_data",
          "data": {
            "application/vnd.jupyter.widget-view+json": {
              "model_id": "1592a11c16ae4e5d9aad5362effd8f4a",
              "version_minor": 0,
              "version_major": 2
            },
            "text/plain": [
              "  0%|          | 0/4542 [00:00<?, ?it/s]"
            ]
          },
          "metadata": {}
        },
        {
          "output_type": "stream",
          "name": "stdout",
          "text": [
            "Extracting mnist_data/MNIST/raw/t10k-labels-idx1-ubyte.gz to mnist_data/MNIST/raw\n",
            "\n"
          ]
        }
      ]
    },
    {
      "cell_type": "markdown",
      "metadata": {
        "id": "98uQeIuR56ch"
      },
      "source": [
        "### Sparsity func"
      ]
    },
    {
      "cell_type": "code",
      "metadata": {
        "id": "O1G09pAN55Qv"
      },
      "source": [
        "def lenet_print_sparcity(model, print_spar=True):\n",
        "\n",
        "    conv1_sp = 100. * float(torch.sum(model.conv1.weight == 0)) / float(model.conv1.weight.nelement())\n",
        "\n",
        "    conv2_sp = 100. * float(torch.sum(model.conv2.weight == 0)) / float(model.conv2.weight.nelement())\n",
        "        \n",
        "    fc1_sp = 100. * float(torch.sum(model.fc1.weight == 0)) / float(model.fc1.weight.nelement())\n",
        "\n",
        "    fc2_sp = 100. * float(torch.sum(model.fc2.weight == 0)) / float(model.fc2.weight.nelement())\n",
        "    \n",
        "    fc3_sp = 100. * float(torch.sum(model.fc3.weight == 0)) / float(model.fc3.weight.nelement())\n",
        "\n",
        "    if print_spar:  \n",
        "        print(\n",
        "            \"Sparsity in conv1.weight: {:.2f}%\".format(\n",
        "                100. * float(torch.sum(model.conv1.weight == 0))\n",
        "                / float(model.conv1.weight.nelement())\n",
        "            )\n",
        "        )\n",
        "        print(\n",
        "            \"Sparsity in conv2.weight: {:.2f}%\".format(\n",
        "                100. * float(torch.sum(model.conv2.weight == 0))\n",
        "                / float(model.conv2.weight.nelement())\n",
        "            )\n",
        "        )\n",
        "        print(\n",
        "            \"Sparsity in fc1.weight: {:.2f}%\".format(\n",
        "                100. * float(torch.sum(model.fc1.weight == 0))\n",
        "                / float(model.fc1.weight.nelement())\n",
        "            )\n",
        "        )\n",
        "        print(\n",
        "            \"Sparsity in fc2.weight: {:.2f}%\".format(\n",
        "                100. * float(torch.sum(model.fc2.weight == 0))\n",
        "                / float(model.fc2.weight.nelement())\n",
        "            )\n",
        "        )\n",
        "        print(\n",
        "            \"Sparsity in fc3.weight: {:.2f}%\".format(\n",
        "                100. * float(torch.sum(model.fc3.weight == 0))\n",
        "                / float(model.fc3.weight.nelement())\n",
        "            )\n",
        "        )\n",
        "\n",
        "\n",
        "        glob_sparc = 100. * float(\n",
        "                    torch.sum(model.conv1.weight == 0)\n",
        "                    + torch.sum(model.conv2.weight == 0)\n",
        "                    + torch.sum(model.fc1.weight == 0)\n",
        "                    + torch.sum(model.fc2.weight == 0)\n",
        "                    + torch.sum(model.fc3.weight == 0)\n",
        "                ) / float(\n",
        "                    model.conv1.weight.nelement()\n",
        "                    + model.conv2.weight.nelement()\n",
        "                    + model.fc1.weight.nelement()\n",
        "                    + model.fc2.weight.nelement()\n",
        "                    + model.fc3.weight.nelement()\n",
        "                )\n",
        "    if print_spar:\n",
        "        print(\n",
        "            \"Global sparsity: {:.2f}%\".format(glob_sparc)\n",
        "        )\n",
        "\n",
        "    return glob_sparc, conv1_sp, conv2_sp, fc1_sp, fc2_sp, fc3_sp"
      ],
      "execution_count": null,
      "outputs": []
    },
    {
      "cell_type": "markdown",
      "metadata": {
        "id": "KLaiJZ2i62wZ"
      },
      "source": [
        "### Prune functions"
      ]
    },
    {
      "cell_type": "code",
      "metadata": {
        "id": "eP0nW_UN651C"
      },
      "source": [
        "def one_shot_lenet_prune(model_inp, percent):\n",
        "    model = LeNet()\n",
        "\n",
        "    model.load_state_dict(model_inp.state_dict())\n",
        "    parameters_to_prune = (\n",
        "    (model.conv1, 'weight'),\n",
        "    (model.conv2, 'weight'),\n",
        "    (model.fc1, 'weight'),\n",
        "    (model.fc2, 'weight'),\n",
        "    (model.fc3, 'weight'),\n",
        "    )\n",
        "\n",
        "    prune.global_unstructured(\n",
        "        parameters_to_prune,\n",
        "        pruning_method=prune.L1Unstructured,\n",
        "        amount=percent,\n",
        "     )\n",
        "\n",
        "    return model"
      ],
      "execution_count": null,
      "outputs": []
    },
    {
      "cell_type": "markdown",
      "metadata": {
        "id": "X7EPam5KyFlp"
      },
      "source": [
        "### Parameters"
      ]
    },
    {
      "cell_type": "code",
      "metadata": {
        "colab": {
          "base_uri": "https://localhost:8080/"
        },
        "id": "AHUII6oxU6QJ",
        "outputId": "44a192d8-fd53-4161-e8b6-20aa24ca56b6"
      },
      "source": [
        "device = torch.device('cuda' if torch.cuda.is_available() else 'cpu')\n",
        "print(f\"[INFO]: Computation device: {device}\")"
      ],
      "execution_count": null,
      "outputs": [
        {
          "output_type": "stream",
          "name": "stdout",
          "text": [
            "[INFO]: Computation device: cpu\n"
          ]
        }
      ]
    },
    {
      "cell_type": "code",
      "source": [
        "tmodel = LeNet().to(device)\n",
        "tmodel_untr = LeNet().to(device)\n",
        "tmodel_untr.load_state_dict(tmodel.state_dict())"
      ],
      "metadata": {
        "id": "hPzwF5mRBhVy",
        "colab": {
          "base_uri": "https://localhost:8080/"
        },
        "outputId": "84b7335c-66b5-4213-d54b-40284f20d95d"
      },
      "execution_count": null,
      "outputs": [
        {
          "output_type": "execute_result",
          "data": {
            "text/plain": [
              "<All keys matched successfully>"
            ]
          },
          "metadata": {},
          "execution_count": 16
        }
      ]
    },
    {
      "cell_type": "code",
      "source": [
        " tparameters_to_prune = (\n",
        "    (tmodel.conv1, 'weight'),\n",
        " )"
      ],
      "metadata": {
        "id": "MarCdpkzBhTD"
      },
      "execution_count": null,
      "outputs": []
    },
    {
      "cell_type": "code",
      "source": [
        "prune.global_unstructured(\n",
        "        tparameters_to_prune,\n",
        "        pruning_method=prune.L1Unstructured,\n",
        "        amount=0.5,\n",
        "     )"
      ],
      "metadata": {
        "id": "6FM0cGykDGis"
      },
      "execution_count": null,
      "outputs": []
    },
    {
      "cell_type": "code",
      "source": [
        "num_epochs = 5 \n",
        "learning_rate = 0.001\n",
        "loss_func = nn.CrossEntropyLoss()\n",
        "optim_func = torch.optim.Adam(tmodel.parameters(), lr=learning_rate)\n",
        "train_model(train_loader, tmodel, num_epochs, loss_func, optim_func, print_res=False)"
      ],
      "metadata": {
        "id": "6NMCFoSRDZSD"
      },
      "execution_count": null,
      "outputs": []
    },
    {
      "cell_type": "code",
      "source": [
        "masks = dict()\n",
        "for name, mask in tmodel.named_buffers():\n",
        "    masks[name] = mask.to(device)\n",
        "\n",
        "reset_model = LeNet().to(device)\n",
        "reset_model.load_state_dict(tmodel_untr.state_dict())\n",
        "\n",
        "add_masks(reset_model, masks)"
      ],
      "metadata": {
        "id": "zof3lIeGp9IW"
      },
      "execution_count": null,
      "outputs": []
    },
    {
      "cell_type": "code",
      "source": [
        "num_epochs = 1 \n",
        "learning_rate = 0.001\n",
        "loss_func = nn.CrossEntropyLoss()\n",
        "optim_func = torch.optim.Adam(reset_model.parameters(), lr=learning_rate)\n",
        "train_model(train_loader, reset_model, num_epochs, loss_func, optim_func, print_res=False)"
      ],
      "metadata": {
        "id": "urhHuHN8p9D9"
      },
      "execution_count": null,
      "outputs": []
    },
    {
      "cell_type": "code",
      "metadata": {
        "id": "1YwzJk3zyE6p"
      },
      "source": [
        "num_epochs = 5 \n",
        "learning_rate = 0.001"
      ],
      "execution_count": null,
      "outputs": []
    },
    {
      "cell_type": "markdown",
      "metadata": {
        "id": "weyxLZHJ6Sv8"
      },
      "source": [
        "create 2 identical models"
      ]
    },
    {
      "cell_type": "code",
      "metadata": {
        "colab": {
          "base_uri": "https://localhost:8080/"
        },
        "id": "T4O-KFfUwTm6",
        "outputId": "f182836b-98c3-422a-fde3-bd3a07784db7"
      },
      "source": [
        "untr_model = LeNet().to(device)\n",
        "model, loss_func, optim_func = get_new_model()\n",
        "untr_model.load_state_dict(model.state_dict())"
      ],
      "execution_count": null,
      "outputs": [
        {
          "output_type": "execute_result",
          "data": {
            "text/plain": [
              "<All keys matched successfully>"
            ]
          },
          "metadata": {},
          "execution_count": 16
        }
      ]
    },
    {
      "cell_type": "code",
      "source": [
        "for name, mask in one_shot_lenet_prune(model, 0.8).named_buffers():\n",
        "    print(name)"
      ],
      "metadata": {
        "id": "3sPHyP9mjnXm",
        "outputId": "7aded8ec-1a2e-4313-968f-e5d5215230f7",
        "colab": {
          "base_uri": "https://localhost:8080/"
        }
      },
      "execution_count": null,
      "outputs": [
        {
          "output_type": "stream",
          "name": "stdout",
          "text": [
            "conv1.weight_mask\n",
            "conv2.weight_mask\n",
            "fc1.weight_mask\n",
            "fc2.weight_mask\n",
            "fc3.weight_mask\n"
          ]
        }
      ]
    },
    {
      "cell_type": "markdown",
      "metadata": {
        "id": "9GG-3k0k6Xyu"
      },
      "source": [
        "initial comparsion"
      ]
    },
    {
      "cell_type": "code",
      "metadata": {
        "colab": {
          "base_uri": "https://localhost:8080/"
        },
        "id": "on8cAxfaqN5h",
        "outputId": "d37f1157-c21a-4585-b066-79fe6cdf7c66"
      },
      "source": [
        "indx = 0\n",
        "\n",
        "untr_modules = [i for i in untr_model.children()]\n",
        "untr_1l = untr_modules[indx].weight.data\n",
        "untr_1l_distr = F.log_softmax(flatten(untr_1l), -1)\n",
        "\n",
        "modules = [i for i in model.children()]\n",
        "model_1l = modules[indx].weight.data\n",
        "model_1l_distr = F.softmax(flatten(model_1l), -1)\n",
        "\n",
        "torch.nn.KLDivLoss(reduction=\"sum\")(untr_1l_distr, model_1l_distr).item()"
      ],
      "execution_count": null,
      "outputs": [
        {
          "output_type": "execute_result",
          "data": {
            "text/plain": [
              "0.0031420201994478703"
            ]
          },
          "metadata": {},
          "execution_count": 22
        }
      ]
    },
    {
      "cell_type": "code",
      "metadata": {
        "colab": {
          "base_uri": "https://localhost:8080/"
        },
        "id": "j4jgVyP8xLPO",
        "outputId": "f2d26e02-997a-4fba-d759-67dc12ad9c5b"
      },
      "source": [
        "accuracy = test_model(test_loader, untr_model)"
      ],
      "execution_count": null,
      "outputs": [
        {
          "output_type": "stream",
          "name": "stdout",
          "text": [
            "Test Accuracy of the model on the 10000 test images: 8.49 %\n"
          ]
        }
      ]
    },
    {
      "cell_type": "code",
      "metadata": {
        "colab": {
          "base_uri": "https://localhost:8080/"
        },
        "id": "6yJCafvDxEGH",
        "outputId": "87e5470f-9f7e-40e2-aba6-4675f5fa93cc"
      },
      "source": [
        "loss_list, acc_list = train_model(train_loader, model, num_epochs, loss_func, optim_func, print_res=False)\n",
        "accuracy = test_model(test_loader, model)"
      ],
      "execution_count": null,
      "outputs": [
        {
          "output_type": "stream",
          "name": "stdout",
          "text": [
            "Test Accuracy of the model on the 10000 test images: 98.72999999999999 %\n"
          ]
        }
      ]
    },
    {
      "cell_type": "code",
      "metadata": {
        "id": "esGN2xlQxwrX"
      },
      "source": [
        "# distances non trained vs trained\n",
        "results_bp = dict()\n",
        "# distances non trained vs pruned+trained\n",
        "results_ap = dict()\n",
        "for name, module in untr_model.named_modules():\n",
        "    if name:\n",
        "        results_bp[name] = []\n",
        "        results_ap[name] = []\n",
        "for i in range(50):\n",
        "    print(i)\n",
        "    untr_model = LeNet().to(device)\n",
        "    model, loss_func, optim_func = get_new_model()\n",
        "    untr_model.load_state_dict(model.state_dict())\n",
        "\n",
        "    train_model(train_loader, model, num_epochs, loss_func, optim_func, print_res=False)\n",
        "\n",
        "    untr_modules = [i for i in untr_model.children()]\n",
        "    modules = [i for i in model.children()]\n",
        "    for indx in range(len(untr_modules)):\n",
        "        \n",
        "        untr_1l = untr_modules[indx].weight.data\n",
        "        untr_1l_distr = F.log_softmax(flatten(untr_1l), -1)\n",
        "        \n",
        "        model_1l = modules[indx].weight.data\n",
        "        model_1l_distr = F.softmax(flatten(model_1l), -1)\n",
        "\n",
        "        #print(list(untr_model.named_modules())[indx+1][0],torch.nn.KLDivLoss(reduction=\"sum\")(untr_1l_distr, model_1l_distr))\n",
        "\n",
        "        results_bp[list(untr_model.named_modules())[indx+1][0]].append(torch.nn.KLDivLoss(reduction=\"sum\")(untr_1l_distr, model_1l_distr).item())\n",
        "\n",
        "    model_topr = LeNet().to(device)\n",
        "    model_topr.load_state_dict(model.state_dict())\n",
        "\n",
        "    model_topr_80 = one_shot_lenet_prune(model_topr, 0.8)\n",
        "\n",
        "    masks = dict()\n",
        "    for name, mask in model_topr_80.named_buffers():\n",
        "        masks[name] = mask.to(device)\n",
        "\n",
        "    reset_model = LeNet().to(device)\n",
        "    reset_model.load_state_dict(untr_model.state_dict())\n",
        "\n",
        "    add_masks(reset_model, masks)\n",
        "\n",
        "    optim_func = torch.optim.Adam(reset_model.parameters(), lr=learning_rate)\n",
        "    train_model(train_loader, reset_model, num_epochs, loss_func, optim_func, print_res=False)\n",
        "\n",
        "    reset_modules = [i for i in reset_model.children()]\n",
        "\n",
        "    for indx in range(len(untr_modules)):\n",
        "\n",
        "        untr_1l = untr_modules[indx].weight.data\n",
        "        untr_1l_distr = F.log_softmax(flatten(untr_1l), -1)\n",
        "\n",
        "        reset_model_1l = reset_modules[indx].weight.data\n",
        "        reset_model_1l_distr = F.softmax(flatten(reset_model_1l), -1)\n",
        "\n",
        "        results_ap[list(untr_model.named_modules())[indx+1][0]].append(torch.nn.KLDivLoss(reduction=\"sum\")(untr_1l_distr, reset_model_1l_distr).item())\n",
        "\n",
        "\n",
        "print(results_bp)\n",
        "labels, data = results_bp.keys(), results_bp.values()\n",
        "plt.boxplot(data)\n",
        "plt.title('Distance between weights untrained and trained networks')\n",
        "plt.xticks(range(1, len(labels) + 1), labels)\n",
        "plt.show()\n"
      ],
      "execution_count": null,
      "outputs": []
    },
    {
      "cell_type": "code",
      "metadata": {
        "colab": {
          "base_uri": "https://localhost:8080/",
          "height": 318
        },
        "id": "S81_qHt23R1_",
        "outputId": "855e7006-9019-4bde-d2b1-0a4794fb8374"
      },
      "source": [
        "print(results_bp)\n",
        "labels, data = results_bp.keys(), results_bp.values()\n",
        "plt.boxplot(data)\n",
        "plt.title('Distance between weights untrained and trained networks')\n",
        "plt.xticks(range(1, len(labels) + 1), labels)\n",
        "plt.show()"
      ],
      "execution_count": null,
      "outputs": [
        {
          "output_type": "stream",
          "name": "stdout",
          "text": [
            "{'conv1': [0.01527561154216528, 0.014459570869803429, 0.018345048651099205, 0.01498581562191248, 0.015814131125807762, 0.013184587471187115, 0.012434907257556915, 0.016631942242383957, 0.012826992198824883, 0.013139016926288605, 0.010505752637982368, 0.01715833693742752, 0.020568273961544037, 0.016933340579271317, 0.01780238002538681, 0.014000863768160343, 0.012217310257256031, 0.012627720832824707, 0.015876973047852516, 0.015442818403244019, 0.015272978693246841, 0.01728755608201027, 0.018909599632024765, 0.01805347390472889, 0.015944506973028183, 0.015075402334332466, 0.016439737752079964, 0.014317641034722328, 0.018774617463350296, 0.014790752902626991, 0.016274472698569298, 0.017718274146318436, 0.011996758170425892, 0.013133300468325615, 0.017604203894734383, 0.014966236427426338, 0.015196524560451508, 0.013933120295405388, 0.02287784218788147, 0.015373051166534424, 0.017954140901565552, 0.016283828765153885, 0.013901173137128353, 0.013967325910925865, 0.014649049378931522, 0.014554599300026894, 0.01508373487740755, 0.01918182149529457, 0.015856266021728516, 0.011935045942664146], 'conv2': [0.006221726071089506, 0.0061367228627204895, 0.007496984675526619, 0.006143761798739433, 0.00718193594366312, 0.007011208217591047, 0.0064172460697591305, 0.006130697671324015, 0.006215292029082775, 0.005011888220906258, 0.005540346726775169, 0.005825439468026161, 0.005745667032897472, 0.005813854280859232, 0.006647787988185883, 0.0068975090980529785, 0.006432244088500738, 0.005728271324187517, 0.005539994686841965, 0.007055270951241255, 0.006529893726110458, 0.00639310060068965, 0.006931859068572521, 0.004773087799549103, 0.006943566724658012, 0.007259644567966461, 0.005887878127396107, 0.0069775329902768135, 0.008044109679758549, 0.0069426726549863815, 0.007840185426175594, 0.005596974864602089, 0.006582134403288364, 0.006003932096064091, 0.005491178948432207, 0.0071280719712376595, 0.007149212062358856, 0.0056387619115412235, 0.008485062047839165, 0.006494845729321241, 0.007441694848239422, 0.0074431030079722404, 0.006483837030827999, 0.007743784226477146, 0.00566693814471364, 0.0066819158382713795, 0.008398444391787052, 0.007318469695746899, 0.006850681267678738, 0.005991877987980843], 'fc1': [0.0013365651248022914, 0.0012867148034274578, 0.0012884686002507806, 0.0016625896096229553, 0.001441420754417777, 0.00138140341732651, 0.0016819933662191033, 0.001346501288935542, 0.0016586629208177328, 0.0015051893424242735, 0.0016884430078789592, 0.0012200071942061186, 0.001468622125685215, 0.0015611820854246616, 0.0014535764930769801, 0.0015544784255325794, 0.0019210929749533534, 0.001492498442530632, 0.0014378733467310667, 0.0015860883286222816, 0.0014413392636924982, 0.001489255460910499, 0.0013608927838504314, 0.0013909058179706335, 0.0014314509462565184, 0.0013225822476670146, 0.001618554932065308, 0.0014301878400146961, 0.0013868334935978055, 0.0014344308292493224, 0.0014887291472405195, 0.0014807714615017176, 0.0015332635957747698, 0.0014831821899861097, 0.0013717892579734325, 0.0014420391526073217, 0.001250585773959756, 0.0016939350171014667, 0.0014804243110120296, 0.0014815001050010324, 0.0014537591487169266, 0.0014278307789936662, 0.001725579146295786, 0.0013581151142716408, 0.0016798516735434532, 0.0014528369065374136, 0.0016047981334850192, 0.0014734066789969802, 0.0016949096461758018, 0.0015734429471194744], 'fc2': [0.0012074906844645739, 0.001179968472570181, 0.000931987480726093, 0.0012901094742119312, 0.001253858907148242, 0.0011317976750433445, 0.0014198248973116279, 0.001216268166899681, 0.0015201206551864743, 0.001407342730090022, 0.0012477058917284012, 0.0010959925130009651, 0.0013095267349854112, 0.0013223451096564531, 0.001173237687908113, 0.0012995348079130054, 0.0013637832598760724, 0.001176062854938209, 0.0012105589266866446, 0.0011559014674276114, 0.0011479203822091222, 0.0009752025944180787, 0.001200651517137885, 0.001209200476296246, 0.0011710624676197767, 0.0011924250284209847, 0.0013202887494117022, 0.001411902136169374, 0.0010305478936061263, 0.001249448861926794, 0.0012457218253985047, 0.0012412117794156075, 0.00130360946059227, 0.0012555322609841824, 0.0012140220496803522, 0.0011312474962323904, 0.0010957554914057255, 0.0014411036390811205, 0.0011510112090036273, 0.0013318870915099978, 0.0011930824257433414, 0.0010392607655376196, 0.0013160555390641093, 0.0013161699753254652, 0.0011792322620749474, 0.0011634686961770058, 0.00129142333753407, 0.001088517950847745, 0.001203826628625393, 0.0013454926665872335], 'fc3': [0.002016710350289941, 0.001968282274901867, 0.0021465946920216084, 0.0020144262816756964, 0.002335734199732542, 0.0022740438580513, 0.001968544442206621, 0.00221650511957705, 0.0028589321300387383, 0.002255767583847046, 0.0021031596697866917, 0.0018699179636314511, 0.002148536266759038, 0.0019154075998812914, 0.002189161255955696, 0.0019530686549842358, 0.0017805334646254778, 0.00213740230537951, 0.002064152853563428, 0.0017258430598303676, 0.0017987602623179555, 0.00186563516035676, 0.002312710974365473, 0.0019775591790676117, 0.0019006342627108097, 0.002279949141666293, 0.0018343462143093348, 0.0023249550722539425, 0.002330866875126958, 0.0019527992699295282, 0.0017904593842104077, 0.00220163119956851, 0.0018851417116820812, 0.002394826151430607, 0.0020764698274433613, 0.0019823205657303333, 0.0019834660924971104, 0.0020058252848684788, 0.0017908625304698944, 0.0022747351322323084, 0.0020686322823166847, 0.001953479601070285, 0.00232581770978868, 0.002200106158852577, 0.0020371261052787304, 0.002058600075542927, 0.002169411163777113, 0.0021415723022073507, 0.0019184746779501438, 0.0023118010722100735]}\n"
          ]
        },
        {
          "output_type": "display_data",
          "data": {
            "image/png": "[encoded data removed]",
            "text/plain": [
              "<Figure size 432x288 with 1 Axes>"
            ]
          },
          "metadata": {
            "needs_background": "light"
          }
        }
      ]
    },
    {
      "cell_type": "code",
      "metadata": {
        "colab": {
          "base_uri": "https://localhost:8080/",
          "height": 318
        },
        "id": "NlhZPeijfNEx",
        "outputId": "01f8267a-3f63-4b3d-cf6d-15b57fa8479f"
      },
      "source": [
        "print(results_ap)\n",
        "labels, data = results_ap.keys(), results_ap.values()\n",
        "plt.boxplot(data)\n",
        "plt.title('Distance between weights untrained and pruned+trained networks')\n",
        "plt.xticks(range(1, len(labels) + 1), labels)\n",
        "plt.show()"
      ],
      "execution_count": null,
      "outputs": [
        {
          "output_type": "stream",
          "name": "stdout",
          "text": [
            "{'conv1': [0.023877020925283432, 0.02142873965203762, 0.02542884275317192, 0.021753966808319092, 0.022416148334741592, 0.01638917624950409, 0.01856693997979164, 0.024176981300115585, 0.01840912736952305, 0.020916743203997612, 0.017691724002361298, 0.02213059365749359, 0.02802455797791481, 0.02313852310180664, 0.02175813913345337, 0.01969224587082863, 0.01819545030593872, 0.019366014748811722, 0.019393526017665863, 0.019496414810419083, 0.022518452256917953, 0.02610878273844719, 0.026445945724844933, 0.02413981780409813, 0.023494500666856766, 0.021045787259936333, 0.022114049643278122, 0.020998118445277214, 0.02374904975295067, 0.022563043981790543, 0.022086767479777336, 0.024776704609394073, 0.01706627756357193, 0.018263833597302437, 0.023759355768561363, 0.02062946930527687, 0.022093255072832108, 0.02280190959572792, 0.02978852391242981, 0.022269554436206818, 0.023174777626991272, 0.020666658878326416, 0.022721029818058014, 0.018960770219564438, 0.02169075980782509, 0.02273077890276909, 0.024614185094833374, 0.024436401203274727, 0.02115737460553646, 0.018538448959589005], 'conv2': [0.0076705156825482845, 0.006993206217885017, 0.00851783063262701, 0.007452354766428471, 0.008078190498054028, 0.007646560203284025, 0.008321812376379967, 0.007270487491041422, 0.007404560223221779, 0.006097727920860052, 0.007118777837604284, 0.0063273790292441845, 0.007249344605952501, 0.007029727566987276, 0.008045302703976631, 0.008634823374450207, 0.007445135153830051, 0.0070395260117948055, 0.00644720159471035, 0.008433879353106022, 0.007207322400063276, 0.006878988817334175, 0.007787270005792379, 0.005328579805791378, 0.008337242528796196, 0.00756137166172266, 0.007601172663271427, 0.007649065926671028, 0.008820189163088799, 0.00763171911239624, 0.008085887879133224, 0.006484261713922024, 0.007623431272804737, 0.007156441453844309, 0.006643866188824177, 0.007962971925735474, 0.007912324741482735, 0.007348951417952776, 0.008787565864622593, 0.008012201637029648, 0.007727569900453091, 0.008590679615736008, 0.007475011982023716, 0.009057080373167992, 0.006836793851107359, 0.00741392420604825, 0.008870968595147133, 0.007850950583815575, 0.008119406178593636, 0.0076512801460921764], 'fc1': [0.0008906808216124773, 0.0009393986547365785, 0.0009832361247390509, 0.0010402926709502935, 0.0010869917459785938, 0.0010812535183504224, 0.0011563824955374002, 0.0009709630976431072, 0.0011799788335338235, 0.0009453240782022476, 0.0011764231603592634, 0.00099175947252661, 0.0010121642844751477, 0.0010229141917079687, 0.0010684331646189094, 0.0010624853894114494, 0.0012636178871616721, 0.0010059423511847854, 0.001066891592927277, 0.001088308054022491, 0.0010090656578540802, 0.0010489479172974825, 0.0009084512712433934, 0.0010337983258068562, 0.0009748963639140129, 0.0009618143085390329, 0.0010863661300390959, 0.0010180260287597775, 0.0009713052422739565, 0.0010330231161788106, 0.001090838573873043, 0.0009733219631016254, 0.0010344369802623987, 0.0010445716325193644, 0.0010775051778182387, 0.0010026225354522467, 0.000929258530959487, 0.0010530316503718495, 0.0010664683068171144, 0.0009247650159522891, 0.0011480598477646708, 0.001075884560123086, 0.0011036460055038333, 0.0009840668644756079, 0.001125203212723136, 0.0010480639757588506, 0.001099522691220045, 0.0010756092378869653, 0.0012077875435352325, 0.0010345224291086197], 'fc2': [0.0020264103077352047, 0.002053160686045885, 0.0018039464484900236, 0.0022814148105680943, 0.00211174413561821, 0.0020801241043955088, 0.002274282043799758, 0.0020028790459036827, 0.002376530086621642, 0.002319475868716836, 0.002182263880968094, 0.0019032149575650692, 0.0020650241058319807, 0.002229527570307255, 0.0021080286242067814, 0.0023723591584712267, 0.0024606280494481325, 0.0020618881098926067, 0.002195516601204872, 0.0021057662088423967, 0.0019731807988137007, 0.0018396902596578002, 0.0021100156009197235, 0.002122619654983282, 0.0018851791974157095, 0.0020762153435498476, 0.002191289560869336, 0.002336750039830804, 0.0018772333860397339, 0.0021726181730628014, 0.002252149162814021, 0.00206952472217381, 0.0022338179405778646, 0.002246938878670335, 0.002036270685493946, 0.0019112867303192616, 0.0019283618312329054, 0.002288635354489088, 0.0019076361786574125, 0.0021690535359084606, 0.0020133773796260357, 0.0019450823310762644, 0.002327404450625181, 0.0022029306273907423, 0.0021322141401469707, 0.002115427516400814, 0.002171007916331291, 0.0020308494567871094, 0.002216191031038761, 0.0022760452702641487], 'fc3': [0.0040425462648272514, 0.004104966763406992, 0.0037563617806881666, 0.004550771322101355, 0.0039047240279614925, 0.004292062949389219, 0.0040792440995574, 0.004141273908317089, 0.004934151191264391, 0.004521166440099478, 0.003932893741875887, 0.003846961772069335, 0.004091996233910322, 0.003842429956421256, 0.003973294049501419, 0.00407918868586421, 0.0042650350369513035, 0.004007015377283096, 0.004212483298033476, 0.0039526913315057755, 0.003687766380608082, 0.003793905256316066, 0.004212163854390383, 0.0040383106097579, 0.003906554542481899, 0.004550344776362181, 0.003950416576117277, 0.004663452506065369, 0.004063024185597897, 0.0048113418743014336, 0.0038636047393083572, 0.004053232725709677, 0.004117290023714304, 0.004528168123215437, 0.003941704519093037, 0.0034240337554365396, 0.003960226196795702, 0.0040994128212332726, 0.0034577043261379004, 0.003932223189622164, 0.0038614729419350624, 0.00388004956766963, 0.004857569467276335, 0.00432768976315856, 0.0040236832574009895, 0.0039499010890722275, 0.004041663371026516, 0.004016448277980089, 0.004246130585670471, 0.004474255722016096]}\n"
          ]
        },
        {
          "output_type": "display_data",
          "data": {
            "image/png": "[encoded data removed]",
            "text/plain": [
              "<Figure size 432x288 with 1 Axes>"
            ]
          },
          "metadata": {
            "needs_background": "light"
          }
        }
      ]
    },
    {
      "cell_type": "code",
      "metadata": {
        "id": "ikY7-5uolFkT"
      },
      "source": [
        "results_bp_df = pd.DataFrame.from_dict(results_bp)\n",
        "results_ap_df = pd.DataFrame.from_dict(results_ap)"
      ],
      "execution_count": null,
      "outputs": []
    },
    {
      "cell_type": "code",
      "metadata": {
        "id": "Tv1dDtrqlFiD"
      },
      "source": [
        "results_bp_df.to_csv(\"results_bp_df.csv\")\n",
        "results_ap_df.to_csv(\"results_ap_df.csv\")"
      ],
      "execution_count": null,
      "outputs": []
    },
    {
      "cell_type": "code",
      "metadata": {
        "id": "gg9sitdtlFfY"
      },
      "source": [
        "results_bp_df"
      ],
      "execution_count": null,
      "outputs": []
    },
    {
      "cell_type": "code",
      "metadata": {
        "colab": {
          "base_uri": "https://localhost:8080/",
          "height": 312
        },
        "id": "tiMf6qd2lFcI",
        "outputId": "90eef09c-a95c-41ad-ad21-93a10bf250a5"
      },
      "source": [
        "plt.hist(results_ap_df['conv1'], density=False, bins=15)\n",
        "plt.hist(results_bp_df['conv1'], density=False, bins=15)\n",
        "plt.ylabel('Probability')\n",
        "plt.xlabel('Density');\n",
        "plt.legend(['untr vs pr+tr', 'untr vs tr'])\n",
        "plt.title('Distributions of distances for untr vs tr and untr vs pr+tr')"
      ],
      "execution_count": null,
      "outputs": [
        {
          "output_type": "execute_result",
          "data": {
            "text/plain": [
              "Text(0.5, 1.0, 'Distributions of distances for untr vs tr and untr vs pr+tr')"
            ]
          },
          "metadata": {},
          "execution_count": 77
        },
        {
          "output_type": "display_data",
          "data": {
            "image/png": "[encoded data removed]",
            "text/plain": [
              "<Figure size 432x288 with 1 Axes>"
            ]
          },
          "metadata": {
            "needs_background": "light"
          }
        }
      ]
    },
    {
      "cell_type": "code",
      "metadata": {
        "colab": {
          "base_uri": "https://localhost:8080/",
          "height": 369
        },
        "id": "zF_mklIT06Vc",
        "outputId": "08a027fc-605b-4be3-9df9-7545d92f130c"
      },
      "source": [
        "fig, axs = plt.subplots(1, 2, figsize=(12,5), sharey=True)\n",
        "\n",
        "labels, data = results_bp.keys(), results_bp.values()\n",
        "axs[0].boxplot(data)\n",
        "axs[0].set_title('Distance between weights untrained and trained networks')\n",
        "\n",
        "plt.sca(axs[0])\n",
        "plt.xticks(range(1, len(labels) + 1), labels)\n",
        "\n",
        "labels, data = results_ap.keys(), results_ap.values()\n",
        "axs[1].boxplot(data)\n",
        "axs[1].set_title('Distance between weights untrained and pruned+trained networks')\n",
        "\n",
        "plt.sca(axs[1])\n",
        "plt.xticks(range(1, len(labels) + 1), labels)\n",
        "\n",
        "fig.tight_layout()"
      ],
      "execution_count": null,
      "outputs": [
        {
          "output_type": "display_data",
          "data": {
            "image/png": "[encoded data removed]",
            "text/plain": [
              "<Figure size 864x360 with 2 Axes>"
            ]
          },
          "metadata": {
            "needs_background": "light"
          }
        }
      ]
    },
    {
      "cell_type": "code",
      "metadata": {
        "colab": {
          "base_uri": "https://localhost:8080/",
          "height": 591
        },
        "id": "TUk0Vp-Rp6ZN",
        "outputId": "a9d9286e-0b58-4acc-ec73-72a89f2376d0"
      },
      "source": [
        "fig, axs = plt.subplots(3, 2, figsize=(10,8))\n",
        "\n",
        "axs[0, 0].hist(results_ap_df['conv1'], density=False, bins=15)\n",
        "axs[0, 0].hist(results_bp_df['conv1'], density=False, bins=15)\n",
        "axs[0, 0].set_title(\"conv1\")\n",
        "\n",
        "axs[0, 1].hist(results_ap_df['conv2'], density=False, bins=15)\n",
        "axs[0, 1].hist(results_bp_df['conv2'], density=False, bins=15)\n",
        "axs[0, 1].set_title(\"conv2\")\n",
        "\n",
        "axs[1, 0].hist(results_ap_df['fc1'], density=False, bins=15)\n",
        "axs[1, 0].hist(results_bp_df['fc1'], density=False, bins=15)\n",
        "axs[1, 0].set_title(\"fc1\")\n",
        "\n",
        "axs[1, 1].hist(results_ap_df['fc2'], density=False, bins=15)\n",
        "axs[1, 1].hist(results_bp_df['fc2'], density=False, bins=15)\n",
        "axs[1, 1].set_title(\"fc2\")\n",
        "\n",
        "axs[2, 0].hist(results_ap_df['fc3'], density=False, bins=15)\n",
        "axs[2, 0].hist(results_bp_df['fc3'], density=False, bins=15)\n",
        "axs[2, 0].set_title(\"fc3\")\n",
        "\n",
        "axs[2, 1].set_axis_off()\n",
        "\n",
        "labels = ['untr vs pr+tr', 'untr vs tr']\n",
        "fig.legend(labels, loc='upper left')\n",
        "fig.suptitle('Histograms for distances', fontsize=\"x-large\")\n",
        "\n",
        "fig.tight_layout()"
      ],
      "execution_count": null,
      "outputs": [
        {
          "output_type": "display_data",
          "data": {
            "image/png": "[encoded data removed]",
            "text/plain": [
              "<Figure size 720x576 with 6 Axes>"
            ]
          },
          "metadata": {
            "needs_background": "light"
          }
        }
      ]
    },
    {
      "cell_type": "code",
      "metadata": {
        "id": "Hbi0bKEwvdK2"
      },
      "source": [
        ""
      ],
      "execution_count": null,
      "outputs": []
    }
  ]
}